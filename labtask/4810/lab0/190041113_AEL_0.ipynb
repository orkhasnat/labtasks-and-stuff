{
  "nbformat": 4,
  "nbformat_minor": 0,
  "metadata": {
    "colab": {
      "provenance": []
    },
    "kernelspec": {
      "name": "python3",
      "display_name": "Python 3"
    },
    "language_info": {
      "name": "python"
    }
  },
  "cells": [
    {
      "cell_type": "code",
      "source": [
        "import numpy as np"
      ],
      "metadata": {
        "id": "c5UrINiRIQ9M"
      },
      "execution_count": 63,
      "outputs": []
    },
    {
      "cell_type": "code",
      "source": [
        "matrix1 = np.array([\n",
        "           [1,9,1,0],\n",
        "           [7,17,1,-1],\n",
        "           [8,10,8,1],\n",
        "           [1,4,1,2]])"
      ],
      "metadata": {
        "id": "ak1M2v4Mw6f5"
      },
      "execution_count": 64,
      "outputs": []
    },
    {
      "cell_type": "code",
      "source": [
        "matrix2 = np.array([\n",
        "       [ 1,  3,  -1, 0],\n",
        "       [ 7,  5,  1, -1],\n",
        "       [ 8, 10,  -8,  1],\n",
        "       [ 1,  5,  1,  0]])"
      ],
      "metadata": {
        "id": "PI9Nu95EStje"
      },
      "execution_count": 65,
      "outputs": []
    },
    {
      "cell_type": "code",
      "source": [
        "matrix3 = np.array([\n",
        "       [ 1,  3, 11,  0],\n",
        "       [ 7,  5,  1, -1],\n",
        "       [ 8, 10,  8,  1],\n",
        "       [ 1,  5,  1,  2]])"
      ],
      "metadata": {
        "id": "3Zhg39L5S9R-"
      },
      "execution_count": 66,
      "outputs": []
    },
    {
      "cell_type": "code",
      "source": [
        "def peakFinder2D_binary(matrix):\n",
        "\n",
        "    rows, cols = matrix.shape\n",
        "\n",
        "    if cols == 1:\n",
        "        return np.argmax(matrix[:, 0]), 0\n",
        "\n",
        "    mid_col = cols // 2\n",
        "    max_row_index = np.argmax(matrix[:, mid_col])\n",
        "    max_val = matrix[max_row_index, mid_col]\n",
        "\n",
        "    if mid_col > 0 and matrix[max_row_index, mid_col - 1] > max_val:\n",
        "        return peakFinder2D_binary(matrix[:, :mid_col])\n",
        "\n",
        "    elif mid_col < cols - 1 and matrix[max_row_index, mid_col + 1] > max_val:\n",
        "        return peakFinder2D_binary(matrix[:, mid_col + 1:])\n",
        "\n",
        "    else:\n",
        "        return max_row_index, mid_col"
      ],
      "metadata": {
        "id": "--lAH88h34iN"
      },
      "execution_count": 67,
      "outputs": []
    },
    {
      "cell_type": "code",
      "source": [
        "peakFinder2D_binary(matrix1)"
      ],
      "metadata": {
        "colab": {
          "base_uri": "https://localhost:8080/"
        },
        "id": "WHR6SdbpxUeJ",
        "outputId": "9f684d58-49aa-4443-a539-365dd5671ba5"
      },
      "execution_count": 68,
      "outputs": [
        {
          "output_type": "execute_result",
          "data": {
            "text/plain": [
              "(1, 1)"
            ]
          },
          "metadata": {},
          "execution_count": 68
        }
      ]
    },
    {
      "cell_type": "code",
      "source": [
        "peakFinder2D_binary(matrix2)"
      ],
      "metadata": {
        "colab": {
          "base_uri": "https://localhost:8080/"
        },
        "id": "kaYaRqjKTNnk",
        "outputId": "0849cb8b-f13e-4b75-85bc-2b6289e2bcd4"
      },
      "execution_count": 69,
      "outputs": [
        {
          "output_type": "execute_result",
          "data": {
            "text/plain": [
              "(2, 1)"
            ]
          },
          "metadata": {},
          "execution_count": 69
        }
      ]
    },
    {
      "cell_type": "code",
      "source": [
        "peakFinder2D_binary(matrix3)"
      ],
      "metadata": {
        "colab": {
          "base_uri": "https://localhost:8080/"
        },
        "id": "7f6XcR7ETQHU",
        "outputId": "e9d6fd60-8f62-4356-d678-d9c497cc3abc"
      },
      "execution_count": 70,
      "outputs": [
        {
          "output_type": "execute_result",
          "data": {
            "text/plain": [
              "(0, 2)"
            ]
          },
          "metadata": {},
          "execution_count": 70
        }
      ]
    }
  ]
}