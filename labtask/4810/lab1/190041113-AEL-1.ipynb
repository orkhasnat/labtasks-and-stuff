{
  "nbformat": 4,
  "nbformat_minor": 0,
  "metadata": {
    "colab": {
      "provenance": []
    },
    "kernelspec": {
      "name": "python3",
      "display_name": "Python 3"
    },
    "language_info": {
      "name": "python"
    }
  },
  "cells": [
    {
      "cell_type": "markdown",
      "source": [
        "# **Task 1**\n",
        "### *Implement two stacks in an array.*"
      ],
      "metadata": {
        "id": "9mLT1nQfbYZQ"
      }
    },
    {
      "cell_type": "code",
      "execution_count": 5,
      "metadata": {
        "id": "co5i3zdybFqR"
      },
      "outputs": [],
      "source": [
        "class TwoStacks:\n",
        "\n",
        "  def __init__(self, size):\n",
        "    self.size = size\n",
        "    self.arr = [None] * size\n",
        "    self.top1 = -1\n",
        "    self.top2 = size\n",
        "\n",
        "  def push1(self, item):\n",
        "    if self.top1 < self.top2 - 1:\n",
        "      self.top1 += 1\n",
        "      self.arr[self.top1] = item\n",
        "    else:\n",
        "      print(\"Stack Overflow\")\n",
        "\n",
        "  def push2(self, item):\n",
        "    if self.top1 < self.top2 - 1:\n",
        "      self.top2 -= 1\n",
        "      self.arr[self.top2] = item\n",
        "    else:\n",
        "      print(\"Stack Overflow\")\n",
        "\n",
        "  def pop1(self):\n",
        "    if self.top1 >= 0:\n",
        "      item = self.arr[self.top1]\n",
        "      self.top1 -= 1\n",
        "      return item\n",
        "    else:\n",
        "      print(\"Stack 1 is Empty\")\n",
        "\n",
        "  def pop2(self):\n",
        "    if self.top2 < self.size:\n",
        "      item = self.arr[self.top2]\n",
        "      self.top2 += 1\n",
        "      return item\n",
        "    else:\n",
        "      print(\"Stack 2 is Empty\")\n",
        "\n",
        "  def print_stack1(self):\n",
        "    print(\"Stack 1: \", end=\"\")\n",
        "    for i in range(self.top1, -1, -1):\n",
        "      print(self.arr[i], end=\" \")\n",
        "    print()\n",
        "\n",
        "  def print_stack2(self):\n",
        "    print(\"Stack 2: \", end=\"\")\n",
        "    for i in range(self.top2, self.size):\n",
        "      print(self.arr[i], end=\" \")\n",
        "    print()\n"
      ]
    },
    {
      "cell_type": "markdown",
      "source": [
        "**Test Cases**"
      ],
      "metadata": {
        "id": "FqQW5wQgb35M"
      }
    },
    {
      "cell_type": "code",
      "source": [
        "stacks = TwoStacks(6)\n",
        "stacks.push1(\"p\")\n",
        "stacks.push1(\"e\")\n",
        "stacks.push1(\"w\")\n",
        "stacks.push2(\"p\")\n",
        "stacks.push2(\"e\")\n",
        "stacks.push2(\"w\")\n",
        "stacks.print_stack1()\n",
        "stacks.print_stack2()\n",
        "print(stacks.pop1())\n",
        "print(stacks.pop2())\n",
        "stacks.print_stack1()\n",
        "stacks.print_stack2()"
      ],
      "metadata": {
        "colab": {
          "base_uri": "https://localhost:8080/"
        },
        "id": "Yeu3dfs0bySl",
        "outputId": "a571bcbe-55f8-4c19-e812-205060c0bd2a"
      },
      "execution_count": 6,
      "outputs": [
        {
          "output_type": "stream",
          "name": "stdout",
          "text": [
            "Stack 1: w e p \n",
            "Stack 2: w e p \n",
            "w\n",
            "w\n",
            "Stack 1: e p \n",
            "Stack 2: e p \n"
          ]
        }
      ]
    },
    {
      "cell_type": "markdown",
      "source": [
        "### *Implement stack using queues.*"
      ],
      "metadata": {
        "id": "gCEVDXdrcFZR"
      }
    },
    {
      "cell_type": "code",
      "source": [
        "class Stack:\n",
        "\n",
        "  def __init__(self):\n",
        "    self.queue1 = []\n",
        "    self.queue2 = []\n",
        "\n",
        "  def push(self, item):\n",
        "    self.queue1.append(item)\n",
        "\n",
        "  def pop(self):\n",
        "    if not self.queue1:\n",
        "      return None\n",
        "\n",
        "    while len(self.queue1) > 1:\n",
        "      self.queue2.append(self.queue1.pop(0))\n",
        "\n",
        "    popped_item = self.queue1.pop(0)\n",
        "\n",
        "    self.queue1, self.queue2 = self.queue2, self.queue1\n",
        "\n",
        "    return popped_item\n",
        "\n",
        "  def top(self):\n",
        "    if not self.queue1:\n",
        "      return None\n",
        "\n",
        "    while len(self.queue1) > 1:\n",
        "      self.queue2.append(self.queue1.pop(0))\n",
        "\n",
        "    top_item = self.queue1[0]\n",
        "\n",
        "    self.queue2.append(self.queue1.pop(0))\n",
        "    self.queue1, self.queue2 = self.queue2, self.queue1\n",
        "\n",
        "    return top_item\n",
        "\n",
        "  def empty(self):\n",
        "    return len(self.queue1) == 0"
      ],
      "metadata": {
        "id": "iJvdgf0JcJZA"
      },
      "execution_count": 3,
      "outputs": []
    },
    {
      "cell_type": "markdown",
      "source": [
        "**Test Cases**"
      ],
      "metadata": {
        "id": "_xm7R2wdcrQf"
      }
    },
    {
      "cell_type": "code",
      "source": [
        "stack = Stack()\n",
        "stack.push(1)\n",
        "stack.push(2)\n",
        "stack.push(3)\n",
        "print(\"Top ->\",stack.top())\n",
        "stack.pop(); print(\"Popping\")\n",
        "print(\"Now the Top ->\",stack.top())\n",
        "print(\"Is stack empty? \",stack.empty())"
      ],
      "metadata": {
        "colab": {
          "base_uri": "https://localhost:8080/"
        },
        "id": "MzqIhdl8cu9_",
        "outputId": "3de982c3-b699-4982-cbcf-08c6554b68a0"
      },
      "execution_count": 11,
      "outputs": [
        {
          "output_type": "stream",
          "name": "stdout",
          "text": [
            "Top -> 3\n",
            "Popping\n",
            "Now the Top -> 2\n",
            "Is stack empty?  False\n"
          ]
        }
      ]
    },
    {
      "cell_type": "markdown",
      "source": [
        "### *Reverse a link list using stack.*"
      ],
      "metadata": {
        "id": "kPKcHGWbcv1e"
      }
    },
    {
      "cell_type": "code",
      "source": [
        "class Node:\n",
        "\n",
        "  def __init__(self, data):\n",
        "    self.data = data\n",
        "    self.next = None\n",
        "\n",
        "\n",
        "class LinkedList:\n",
        "\n",
        "  def __init__(self):\n",
        "    self.head = None\n",
        "\n",
        "  def push(self, data):\n",
        "    new_node = Node(data)\n",
        "    new_node.next = self.head\n",
        "    self.head = new_node\n",
        "\n",
        "  def reverse(self):\n",
        "    if self.head is None:\n",
        "      return\n",
        "\n",
        "    stack = []\n",
        "    current = self.head\n",
        "\n",
        "    while current is not None:\n",
        "      stack.append(current)\n",
        "      current = current.next\n",
        "\n",
        "    self.head = stack.pop()\n",
        "    current = self.head\n",
        "    while stack:\n",
        "      current.next = stack.pop()\n",
        "      current = current.next\n",
        "    current.next = None\n",
        "\n",
        "  def print(self):\n",
        "    current = self.head\n",
        "    while current:\n",
        "      print(current.data, end=\" \")\n",
        "      current = current.next\n",
        "    print()\n"
      ],
      "metadata": {
        "id": "s7Dj1xgLc61p"
      },
      "execution_count": 41,
      "outputs": []
    },
    {
      "cell_type": "markdown",
      "source": [
        "**Test Cases**"
      ],
      "metadata": {
        "id": "-8CwqzLic7Xw"
      }
    },
    {
      "cell_type": "code",
      "source": [
        "ll = LinkedList()\n",
        "ll.push(1)\n",
        "ll.push(2)\n",
        "ll.push(3)\n",
        "ll.push(4)\n",
        "ll.push(5)\n",
        "\n",
        "print(\"Original Linked List:\")\n",
        "ll.print()\n",
        "\n",
        "ll.reverse()\n",
        "\n",
        "print(\"Reversed Linked List:\")\n",
        "ll.print()"
      ],
      "metadata": {
        "colab": {
          "base_uri": "https://localhost:8080/"
        },
        "id": "d0Ay6R9Gc-I2",
        "outputId": "4362e01b-38f2-4f57-e0f4-b7715c4c045b"
      },
      "execution_count": 43,
      "outputs": [
        {
          "output_type": "stream",
          "name": "stdout",
          "text": [
            "Original Linked List:\n",
            "5 4 3 2 1 \n",
            "Reversed Linked List:\n",
            "1 2 3 4 5 \n"
          ]
        }
      ]
    },
    {
      "cell_type": "markdown",
      "source": [
        "# Task 2\n",
        "Given an array, print the Next Greater Element (NGE) for every element. The Next greater Element for an element x is the first greater element on the right side of x in the array. Elements for which no greater element exist, consider the next greater element as -1."
      ],
      "metadata": {
        "id": "keb3nWsRjtwD"
      }
    },
    {
      "cell_type": "code",
      "source": [
        "def NGE(arr):\n",
        "    stack =[]\n",
        "    stack.append(arr[0])\n",
        "\n",
        "    top = -1\n",
        "    next = -1\n",
        "\n",
        "    for i in range(1,len(arr)):\n",
        "        next = arr[i]\n",
        "        if len(stack)!= 0:\n",
        "            top= stack.pop()\n",
        "\n",
        "            if top > next :\n",
        "                stack.append(top)\n",
        "            while top<next:\n",
        "                print(top,'->', next)\n",
        "                if len(stack) == 0:\n",
        "                    break\n",
        "                top = stack.pop()\n",
        "\n",
        "        stack.append(next)\n",
        "\n",
        "    while( len(stack)!=0 ):\n",
        "        top= stack.pop()\n",
        "        next =-1\n",
        "        print(top, \"->\",next)"
      ],
      "metadata": {
        "id": "lCwcHMfVidEJ"
      },
      "execution_count": 50,
      "outputs": []
    },
    {
      "cell_type": "markdown",
      "source": [
        "**Test Cases**"
      ],
      "metadata": {
        "id": "gTfzxVE1igko"
      }
    },
    {
      "cell_type": "code",
      "source": [
        "print(\"Test case 1\")\n",
        "arr = [4,5,2,25]\n",
        "print(\"Input:\", arr, \"\\nOutput:\")\n",
        "NGE(arr)\n",
        "print(\"\\nTest case 2\")\n",
        "arr2 = [13,7,6,12]\n",
        "print(\"Input:\", arr2, \"\\nOutput:\")\n",
        "NGE(arr2)"
      ],
      "metadata": {
        "colab": {
          "base_uri": "https://localhost:8080/"
        },
        "id": "UBRP_ir5igOw",
        "outputId": "a328d670-5169-4c7b-ceca-66bcbada5c14"
      },
      "execution_count": 53,
      "outputs": [
        {
          "output_type": "stream",
          "name": "stdout",
          "text": [
            "Test case 1\n",
            "Input: [4, 5, 2, 25] \n",
            "Output:\n",
            "4 -> 5\n",
            "2 -> 25\n",
            "5 -> 25\n",
            "25 -> -1\n",
            "\n",
            "Test case 2\n",
            "Input: [13, 7, 6, 12] \n",
            "Output:\n",
            "6 -> 12\n",
            "7 -> 12\n",
            "12 -> -1\n"
          ]
        }
      ]
    },
    {
      "cell_type": "markdown",
      "source": [
        "# Task 3\n",
        "Given a number N, write a function that generates and prints all binary numbers with decimal values from 1 to N."
      ],
      "metadata": {
        "id": "eFB1jhuQidaz"
      }
    },
    {
      "cell_type": "code",
      "source": [
        "def generatePrintBinary(n):\n",
        "  from queue import Queue\n",
        "  q = Queue()\n",
        "\n",
        "  q.put(\"1\")\n",
        "\n",
        "  while (n > 0):\n",
        "    n -= 1\n",
        "    s1 = q.get()\n",
        "    print(s1)\n",
        "\n",
        "    s2 = s1\n",
        "    q.put(s1 + \"0\")\n",
        "    q.put(s2 + \"1\")"
      ],
      "metadata": {
        "id": "LzBvC4a2j1Pw"
      },
      "execution_count": 54,
      "outputs": []
    },
    {
      "cell_type": "markdown",
      "source": [
        "**Test Cases**"
      ],
      "metadata": {
        "id": "f-HlMF-cjzqM"
      }
    },
    {
      "cell_type": "code",
      "source": [
        "print(\"Test Case 1 for n = 2\")\n",
        "generatePrintBinary(2)\n",
        "\n",
        "print(\"Test Case 1 for n = 11\")\n",
        "generatePrintBinary(11)"
      ],
      "metadata": {
        "colab": {
          "base_uri": "https://localhost:8080/"
        },
        "id": "qKyCkfaJj1rX",
        "outputId": "ed87f5a6-8c53-4617-9076-52d87b875b07"
      },
      "execution_count": 57,
      "outputs": [
        {
          "output_type": "stream",
          "name": "stdout",
          "text": [
            "Test Case 1 for n = 2\n",
            "1\n",
            "10\n",
            "Test Case 1 for n = 11\n",
            "1\n",
            "10\n",
            "11\n",
            "100\n",
            "101\n",
            "110\n",
            "111\n",
            "1000\n",
            "1001\n",
            "1010\n",
            "1011\n"
          ]
        }
      ]
    },
    {
      "cell_type": "markdown",
      "source": [
        "# Task 4\n",
        "Given two lists sorted in increasing order, create and return a new list representing the intersection of the two lists. The new list should be made with its memory — the original lists should not be changed."
      ],
      "metadata": {
        "id": "vXMO7JqhkfGd"
      }
    },
    {
      "cell_type": "code",
      "source": [
        "# already using the previous LinkedList class and Node class\n",
        "\n",
        "def intersection(list1, list2):\n",
        "  result = LinkedList()\n",
        "  curr1 = list1.head\n",
        "  curr2 = list2.head\n",
        "\n",
        "  while curr1 is not None and curr2 is not None:\n",
        "    if curr1.data == curr2.data:\n",
        "      result.push(curr1.data)\n",
        "      curr1 = curr1.next\n",
        "      curr2 = curr2.next\n",
        "    elif curr1.data < curr2.data:\n",
        "      curr1 = curr1.next\n",
        "    else:\n",
        "      curr2 = curr2.next\n",
        "\n",
        "  return result"
      ],
      "metadata": {
        "id": "RhUtKJ7JkfGd"
      },
      "execution_count": 83,
      "outputs": []
    },
    {
      "cell_type": "markdown",
      "source": [
        "**Test Cases**"
      ],
      "metadata": {
        "id": "Pzm6jCI-kfGd"
      }
    },
    {
      "cell_type": "code",
      "source": [
        "list1 = LinkedList()\n",
        "list1.push(14)\n",
        "list1.push(12)\n",
        "list1.push(10)\n",
        "list1.push(9)\n",
        "list1.push(8)\n",
        "list1.push(2)\n",
        "list1.push(1)\n",
        "print(\"First List: \",end=\"\")\n",
        "list1.print()\n",
        "\n",
        "list2 = LinkedList()\n",
        "list2.push(13)\n",
        "list2.push(12)\n",
        "list2.push(11)\n",
        "list2.push(9)\n",
        "list2.push(4)\n",
        "list2.push(3)\n",
        "list2.push(2)\n",
        "print(\"\\nSecond List: \",end=\"\")\n",
        "list2.print()\n",
        "\n",
        "print(\"\\nIntersected List: \",end=\"\")\n",
        "result = intersection(list1, list2)\n",
        "result.reverse()\n",
        "result.print()\n"
      ],
      "metadata": {
        "colab": {
          "base_uri": "https://localhost:8080/"
        },
        "outputId": "7f0ee7e3-3251-4a65-96c7-4d4e846e4512",
        "id": "KZwzXf95kfGd"
      },
      "execution_count": 85,
      "outputs": [
        {
          "output_type": "stream",
          "name": "stdout",
          "text": [
            "First List: 1 2 8 9 10 12 14 \n",
            "\n",
            "Second List: 2 3 4 9 11 12 13 \n",
            "\n",
            "Intersected List: 2 9 12 \n"
          ]
        }
      ]
    }
  ]
}