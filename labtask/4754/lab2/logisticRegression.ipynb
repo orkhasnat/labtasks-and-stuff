{
  "nbformat": 4,
  "nbformat_minor": 0,
  "metadata": {
    "colab": {
      "provenance": []
    },
    "kernelspec": {
      "name": "python3",
      "display_name": "Python 3"
    },
    "language_info": {
      "name": "python"
    }
  },
  "cells": [
    {
      "cell_type": "code",
      "execution_count": null,
      "metadata": {
        "colab": {
          "base_uri": "https://localhost:8080/"
        },
        "id": "Z0UR7O_pFXGk",
        "outputId": "786cd672-a3d5-4211-8bd5-bc22d92fc17e"
      },
      "outputs": [
        {
          "output_type": "stream",
          "name": "stdout",
          "text": [
            "Collecting scikit-learn-intelex\n",
            "  Downloading scikit_learn_intelex-2023.2.1-py310-none-manylinux1_x86_64.whl (128 kB)\n",
            "\u001b[2K     \u001b[90m━━━━━━━━━━━━━━━━━━━━━━━━━━━━━━━━━━━━━━━━\u001b[0m \u001b[32m128.7/128.7 kB\u001b[0m \u001b[31m3.0 MB/s\u001b[0m eta \u001b[36m0:00:00\u001b[0m\n",
            "\u001b[?25hCollecting daal4py==2023.2.1 (from scikit-learn-intelex)\n",
            "  Downloading daal4py-2023.2.1-py310-none-manylinux1_x86_64.whl (14.0 MB)\n",
            "\u001b[2K     \u001b[90m━━━━━━━━━━━━━━━━━━━━━━━━━━━━━━━━━━━━━━━━\u001b[0m \u001b[32m14.0/14.0 MB\u001b[0m \u001b[31m76.4 MB/s\u001b[0m eta \u001b[36m0:00:00\u001b[0m\n",
            "\u001b[?25hRequirement already satisfied: scikit-learn>=0.22 in /usr/local/lib/python3.10/dist-packages (from scikit-learn-intelex) (1.2.2)\n",
            "Collecting daal==2023.2.1 (from daal4py==2023.2.1->scikit-learn-intelex)\n",
            "  Downloading daal-2023.2.1-py2.py3-none-manylinux1_x86_64.whl (75.3 MB)\n",
            "\u001b[2K     \u001b[90m━━━━━━━━━━━━━━━━━━━━━━━━━━━━━━━━━━━━━━━━\u001b[0m \u001b[32m75.3/75.3 MB\u001b[0m \u001b[31m12.2 MB/s\u001b[0m eta \u001b[36m0:00:00\u001b[0m\n",
            "\u001b[?25hRequirement already satisfied: numpy>=1.19 in /usr/local/lib/python3.10/dist-packages (from daal4py==2023.2.1->scikit-learn-intelex) (1.23.5)\n",
            "Requirement already satisfied: tbb==2021.* in /usr/local/lib/python3.10/dist-packages (from daal==2023.2.1->daal4py==2023.2.1->scikit-learn-intelex) (2021.10.0)\n",
            "Requirement already satisfied: scipy>=1.3.2 in /usr/local/lib/python3.10/dist-packages (from scikit-learn>=0.22->scikit-learn-intelex) (1.11.3)\n",
            "Requirement already satisfied: joblib>=1.1.1 in /usr/local/lib/python3.10/dist-packages (from scikit-learn>=0.22->scikit-learn-intelex) (1.3.2)\n",
            "Requirement already satisfied: threadpoolctl>=2.0.0 in /usr/local/lib/python3.10/dist-packages (from scikit-learn>=0.22->scikit-learn-intelex) (3.2.0)\n",
            "Installing collected packages: daal, daal4py, scikit-learn-intelex\n",
            "Successfully installed daal-2023.2.1 daal4py-2023.2.1 scikit-learn-intelex-2023.2.1\n"
          ]
        }
      ],
      "source": [
        "!pip install scikit-learn-intelex"
      ]
    },
    {
      "cell_type": "code",
      "source": [
        "import os\n",
        "import numpy as np\n",
        "import pandas as pd\n",
        "from numpy import mean\n",
        "from numpy import std\n",
        "from sklearn.model_selection import train_test_split\n",
        "from sklearn.metrics import classification_report, confusion_matrix\n",
        "from sklearn import metrics\n",
        "from sklearn.preprocessing import StandardScaler\n",
        "from sklearn.linear_model import LogisticRegression\n",
        "from sklearn.model_selection import KFold\n",
        "from sklearn.model_selection import RepeatedKFold\n",
        "from sklearn.model_selection import cross_val_score"
      ],
      "metadata": {
        "id": "Vg8t7mD0Waa0"
      },
      "execution_count": null,
      "outputs": []
    },
    {
      "cell_type": "code",
      "source": [
        "# from google.colab import drive\n",
        "# drive.mount('/content/drive')\n",
        "!gdown 1_6gfk6C26idk4cYPsqWnkPfqLd7-yreX\n",
        "!gdown 1OBKi4FF9SeGdRoqcIjvWj3X9Ox2eWqTZ"
      ],
      "metadata": {
        "colab": {
          "base_uri": "https://localhost:8080/"
        },
        "id": "UxOUlAOMWW6c",
        "outputId": "9e551cb6-a564-4f0e-df13-296397914bf5"
      },
      "execution_count": null,
      "outputs": [
        {
          "output_type": "stream",
          "name": "stdout",
          "text": [
            "Downloading...\n",
            "From: https://drive.google.com/uc?id=1_6gfk6C26idk4cYPsqWnkPfqLd7-yreX\n",
            "To: /content/data.csv\n",
            "100% 824M/824M [00:07<00:00, 110MB/s]\n",
            "Downloading...\n",
            "From: https://drive.google.com/uc?id=1OBKi4FF9SeGdRoqcIjvWj3X9Ox2eWqTZ\n",
            "To: /content/labels.csv\n",
            "100% 3.89k/3.89k [00:00<00:00, 10.6MB/s]\n"
          ]
        }
      ]
    },
    {
      "cell_type": "code",
      "source": [
        "data = pd.read_csv(\"/content/data.csv\")"
      ],
      "metadata": {
        "id": "juWSjjIdKYFu"
      },
      "execution_count": null,
      "outputs": []
    },
    {
      "cell_type": "code",
      "source": [
        "labels = pd.read_csv(\"/content/labels.csv\")"
      ],
      "metadata": {
        "id": "2yB0cLVDfbli"
      },
      "execution_count": null,
      "outputs": []
    },
    {
      "cell_type": "code",
      "source": [
        "data.info"
      ],
      "metadata": {
        "colab": {
          "base_uri": "https://localhost:8080/"
        },
        "id": "ZY_HzIsbgNq2",
        "outputId": "1789c332-7cfc-45d3-c01d-a5cc3a0790e3"
      },
      "execution_count": null,
      "outputs": [
        {
          "output_type": "execute_result",
          "data": {
            "text/plain": [
              "<bound method DataFrame.info of                         Unnamed: 0  ENSG00000000003.15  ENSG00000000005.6  \\\n",
              "0     TCGA-AJ-A3NH-11A-11R-A22K-07            1.565076           0.066810   \n",
              "1     TCGA-AX-A05Y-11A-11R-A27V-07            0.975542           0.159958   \n",
              "2     TCGA-FL-A1YN-11A-11R-A32Y-07            1.277174           0.058654   \n",
              "3     TCGA-FL-A1YU-11A-11R-A32Y-07            1.319747           0.039811   \n",
              "4     TCGA-AJ-A3NC-11A-11R-A22K-07            1.017179           0.158393   \n",
              "...                            ...                 ...                ...   \n",
              "1292  TCGA-JY-A93C-01A-11R-A38D-31            1.536423           0.003977   \n",
              "1293  TCGA-JY-A6FH-01A-11R-A336-31            0.789686           0.003762   \n",
              "1294  TCGA-L5-A8NF-01A-11R-A37I-31            0.755745           0.000000   \n",
              "1295  TCGA-VR-AA4D-01A-11R-A37I-31            1.252630           0.007961   \n",
              "1296  TCGA-IG-A3QL-01A-11R-A24K-31            1.400346           0.003331   \n",
              "\n",
              "      ENSG00000000419.13  ENSG00000000457.14  ENSG00000000460.17  \\\n",
              "0               1.497444            0.571010            0.208603   \n",
              "1               1.529378            0.449864            0.149527   \n",
              "2               1.479356            0.511843            0.158634   \n",
              "3               1.404088            0.500044            0.323706   \n",
              "4               1.478722            0.499330            0.224740   \n",
              "...                  ...                 ...                 ...   \n",
              "1292            1.715027            0.641315            0.419195   \n",
              "1293            1.551599            0.712902            0.547024   \n",
              "1294            1.712190            0.577135            0.408325   \n",
              "1295            1.732420            0.550020            0.521033   \n",
              "1296            1.685742            0.505733            0.633014   \n",
              "\n",
              "      ENSG00000000938.13  ENSG00000000971.16  ENSG00000001036.14  \\\n",
              "0               0.375005            0.668060            1.204150   \n",
              "1               1.064630            0.867756            1.121225   \n",
              "2               0.969211            0.626956            1.202036   \n",
              "3               0.561197            0.453119            1.435132   \n",
              "4               1.097223            0.919753            1.043115   \n",
              "...                  ...                 ...                 ...   \n",
              "1292            0.445962            0.903443            1.271923   \n",
              "1293            0.219794            0.269933            1.023684   \n",
              "1294            0.383115            0.634014            1.361932   \n",
              "1295            0.106904            0.247924            1.382482   \n",
              "1296            0.158121            0.621488            0.987107   \n",
              "\n",
              "      ENSG00000001084.13  ...  ENSG00000288661.1  ENSG00000288662.1  \\\n",
              "0               1.722480  ...                  0           0.000000   \n",
              "1               0.649082  ...                  0           0.000000   \n",
              "2               0.873094  ...                  0           0.000000   \n",
              "3               1.504668  ...                  0           0.000000   \n",
              "4               0.511696  ...                  0           0.000000   \n",
              "...                  ...  ...                ...                ...   \n",
              "1292            1.029838  ...                  0           0.162266   \n",
              "1293            0.686091  ...                  0           0.000000   \n",
              "1294            0.788409  ...                  0           0.502905   \n",
              "1295            0.932955  ...                  0           0.414338   \n",
              "1296            1.558346  ...                  0           0.195069   \n",
              "\n",
              "      ENSG00000288663.1  ENSG00000288665.1  ENSG00000288667.1  \\\n",
              "0              0.070629                  0           0.000000   \n",
              "1              0.029059                  0           0.000000   \n",
              "2              0.022882                  0           0.000000   \n",
              "3              0.083288                  0           0.000000   \n",
              "4              0.044344                  0           0.000000   \n",
              "...                 ...                ...                ...   \n",
              "1292           0.087852                  0           0.368622   \n",
              "1293           0.049140                  0           0.265879   \n",
              "1294           0.071440                  0           0.341078   \n",
              "1295           0.071919                  0           0.160948   \n",
              "1296           0.013596                  0           0.192484   \n",
              "\n",
              "      ENSG00000288669.1  ENSG00000288670.1  ENSG00000288671.1  \\\n",
              "0              0.002684           0.771051                  0   \n",
              "1              0.000000           0.685150                  0   \n",
              "2              0.000000           0.638120                  0   \n",
              "3              0.000000           0.500675                  0   \n",
              "4              0.000000           0.717820                  0   \n",
              "...                 ...                ...                ...   \n",
              "1292           0.000000           0.458305                  0   \n",
              "1293           0.000000           0.627642                  0   \n",
              "1294           0.000000           0.816274                  0   \n",
              "1295           0.001474           0.498352                  0   \n",
              "1296           0.000000           0.719505                  0   \n",
              "\n",
              "      ENSG00000288674.1  ENSG00000288675.1  \n",
              "0              0.009876           0.170878  \n",
              "1              0.003934           0.016657  \n",
              "2              0.005309           0.051924  \n",
              "3              0.003977           0.215743  \n",
              "4              0.006637           0.045519  \n",
              "...                 ...                ...  \n",
              "1292           0.012711           0.059033  \n",
              "1293           0.006936           0.177796  \n",
              "1294           0.013596           0.042969  \n",
              "1295           0.005524           0.111666  \n",
              "1296           0.004579           0.110657  \n",
              "\n",
              "[1297 rows x 60661 columns]>"
            ]
          },
          "metadata": {},
          "execution_count": 8
        }
      ]
    },
    {
      "cell_type": "code",
      "source": [
        "labels.info"
      ],
      "metadata": {
        "colab": {
          "base_uri": "https://localhost:8080/"
        },
        "id": "t_lB3RDPgQzf",
        "outputId": "81c3289b-a907-4d39-cc78-0d4e75e808e1"
      },
      "execution_count": null,
      "outputs": [
        {
          "output_type": "execute_result",
          "data": {
            "text/plain": [
              "<bound method DataFrame.info of       0\n",
              "0     0\n",
              "1     0\n",
              "2     0\n",
              "3     0\n",
              "4     0\n",
              "...  ..\n",
              "1291  1\n",
              "1292  1\n",
              "1293  1\n",
              "1294  1\n",
              "1295  1\n",
              "\n",
              "[1296 rows x 1 columns]>"
            ]
          },
          "metadata": {},
          "execution_count": 9
        }
      ]
    },
    {
      "cell_type": "code",
      "source": [
        "columns_to_remove = []\n",
        "for i in range(len(data.columns)):\n",
        "  if(data.columns[i].find(\"Unnamed\")>=0):\n",
        "    columns_to_remove.append(data.columns[i])\n",
        "data = data.drop(labels = columns_to_remove, axis = 1, inplace = False)"
      ],
      "metadata": {
        "id": "XA3AUw2ogdyY"
      },
      "execution_count": null,
      "outputs": []
    },
    {
      "cell_type": "code",
      "source": [
        "X = data.values\n",
        "y = labels.values\n",
        "X = X[:-1]\n",
        "print(\"(Dataset) (Label):\",X.shape,y.shape)"
      ],
      "metadata": {
        "colab": {
          "base_uri": "https://localhost:8080/"
        },
        "id": "-XNm1i5ogoe5",
        "outputId": "c2fc9800-fa81-40a0-f9a6-e9a6f5b96169"
      },
      "execution_count": null,
      "outputs": [
        {
          "output_type": "stream",
          "name": "stdout",
          "text": [
            "(Dataset) (Label): (1296, 60660) (1296, 1)\n"
          ]
        }
      ]
    },
    {
      "cell_type": "code",
      "source": [
        "X_train, X_test, y_train, y_test = train_test_split(X, y, test_size = 0.20, random_state =7, shuffle = True, stratify = y)\n",
        "\n",
        "# Print dimension of training/test dataset and labels.\n",
        "print(\"Train Set: \",X_train.shape,y_train.shape)\n",
        "print(\"Test Set: \",X_test.shape,y_test.shape)"
      ],
      "metadata": {
        "colab": {
          "base_uri": "https://localhost:8080/"
        },
        "id": "lMR8QfTrgqAW",
        "outputId": "86963037-7e2d-4841-f5e0-ddfce5c83fd2"
      },
      "execution_count": null,
      "outputs": [
        {
          "output_type": "stream",
          "name": "stdout",
          "text": [
            "Train Set:  (1036, 60660) (1036, 1)\n",
            "Test Set:  (260, 60660) (260, 1)\n"
          ]
        }
      ]
    },
    {
      "cell_type": "code",
      "source": [
        "# Normalize Standardize features by removing the mean and scaling to unit variance.\n",
        "\n",
        "sc = StandardScaler()\n",
        "X_train = sc.fit_transform(X_train)\n",
        "X_test = sc.transform (X_test)"
      ],
      "metadata": {
        "id": "1msuJ9eRhZoP"
      },
      "execution_count": null,
      "outputs": []
    },
    {
      "cell_type": "code",
      "source": [
        "# Logistic Regression Model declaration and train by train dataset\n",
        "#solver options: newton-cg|lbfgs|sag|liblinear\n",
        "\n",
        "modelLR = LogisticRegression(max_iter=1000, C = 20, penalty=\"l2\",random_state=17,solver=\"lbfgs\")\n",
        "fit = modelLR.fit(X_train, np.ravel(y_train))"
      ],
      "metadata": {
        "id": "0IHmqQO_hcFd"
      },
      "execution_count": null,
      "outputs": []
    },
    {
      "cell_type": "code",
      "source": [
        "print(\"LR Accuracy: \", modelLR.score(X_test, y_test)*100)\n",
        "# LR Accuracy:  98.42767295597484\n",
        "\n",
        "y_pred = modelLR.predict(X_test)\n",
        "cf_matrix = confusion_matrix(y_test, y_pred)"
      ],
      "metadata": {
        "colab": {
          "base_uri": "https://localhost:8080/"
        },
        "id": "NKqcHfJhh2Nd",
        "outputId": "22a9f0fc-deb1-4302-98b1-04cbf1c5724e"
      },
      "execution_count": null,
      "outputs": [
        {
          "output_type": "stream",
          "name": "stdout",
          "text": [
            "LR Accuracy:  99.23076923076923\n"
          ]
        }
      ]
    },
    {
      "cell_type": "code",
      "source": [
        "#Print report-\n",
        "print(\"Confusion Matrix:\")\n",
        "\n",
        "print(cf_matrix)\n",
        "print(\"Classification Report:\")\n",
        "print(classification_report(y_test, modelLR.predict(X_test), digits=4))"
      ],
      "metadata": {
        "colab": {
          "base_uri": "https://localhost:8080/"
        },
        "id": "FktGSMiqh71I",
        "outputId": "e4432431-b51a-4010-da81-889c07e715a6"
      },
      "execution_count": null,
      "outputs": [
        {
          "output_type": "stream",
          "name": "stdout",
          "text": [
            "Confusion Matrix:\n",
            "[[ 23   1]\n",
            " [  1 235]]\n",
            "Classification Report:\n",
            "              precision    recall  f1-score   support\n",
            "\n",
            "           0     0.9583    0.9583    0.9583        24\n",
            "           1     0.9958    0.9958    0.9958       236\n",
            "\n",
            "    accuracy                         0.9923       260\n",
            "   macro avg     0.9770    0.9770    0.9770       260\n",
            "weighted avg     0.9923    0.9923    0.9923       260\n",
            "\n"
          ]
        }
      ]
    },
    {
      "cell_type": "code",
      "source": [
        "y_pred"
      ],
      "metadata": {
        "colab": {
          "base_uri": "https://localhost:8080/"
        },
        "id": "E3RymVW6Xtu5",
        "outputId": "b765acdd-67d4-4894-c9cb-252ecc7271e0"
      },
      "execution_count": null,
      "outputs": [
        {
          "output_type": "execute_result",
          "data": {
            "text/plain": [
              "array([1, 1, 1, 1, 1, 1, 1, 1, 1, 1, 1, 1, 1, 1, 1, 1, 1, 1, 1, 1, 1, 1,\n",
              "       1, 1, 1, 1, 1, 1, 1, 1, 1, 1, 1, 1, 0, 0, 1, 1, 1, 1, 0, 1, 1, 1,\n",
              "       1, 1, 1, 1, 1, 1, 1, 1, 0, 1, 0, 1, 1, 1, 1, 0, 1, 1, 1, 1, 0, 1,\n",
              "       1, 1, 0, 1, 1, 1, 1, 1, 1, 1, 1, 1, 1, 1, 1, 1, 1, 1, 1, 1, 1, 1,\n",
              "       1, 1, 1, 1, 1, 1, 1, 0, 1, 0, 1, 1, 1, 1, 1, 1, 1, 1, 1, 1, 1, 1,\n",
              "       1, 1, 0, 1, 1, 1, 1, 1, 1, 1, 1, 1, 1, 1, 1, 1, 1, 0, 1, 1, 1, 1,\n",
              "       1, 1, 1, 1, 1, 1, 0, 1, 1, 1, 1, 1, 1, 0, 1, 0, 1, 1, 1, 1, 1, 1,\n",
              "       1, 1, 1, 1, 1, 1, 0, 1, 1, 0, 0, 1, 1, 1, 1, 1, 1, 1, 1, 1, 1, 1,\n",
              "       1, 1, 1, 1, 1, 1, 1, 1, 1, 1, 1, 1, 1, 1, 1, 1, 1, 1, 1, 1, 1, 1,\n",
              "       1, 1, 1, 1, 1, 1, 1, 1, 1, 1, 1, 1, 1, 1, 1, 1, 1, 1, 1, 1, 0, 1,\n",
              "       1, 1, 0, 1, 1, 1, 1, 1, 1, 1, 1, 1, 1, 1, 1, 0, 1, 1, 0, 1, 1, 1,\n",
              "       1, 0, 1, 1, 1, 1, 1, 1, 1, 0, 1, 1, 1, 1, 1, 1, 1, 1])"
            ]
          },
          "metadata": {},
          "execution_count": 17
        }
      ]
    }
  ]
}