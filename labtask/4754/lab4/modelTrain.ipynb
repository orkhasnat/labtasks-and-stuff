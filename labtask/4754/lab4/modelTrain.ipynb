{
  "nbformat": 4,
  "nbformat_minor": 0,
  "metadata": {
    "colab": {
      "provenance": []
    },
    "kernelspec": {
      "name": "python3",
      "display_name": "Python 3"
    },
    "language_info": {
      "name": "python"
    },
    "accelerator": "TPU"
  },
  "cells": [
    {
      "cell_type": "markdown",
      "source": [
        "#Prerequisite"
      ],
      "metadata": {
        "id": "xgWC0X2H0xzv"
      }
    },
    {
      "cell_type": "code",
      "execution_count": 24,
      "metadata": {
        "colab": {
          "base_uri": "https://localhost:8080/"
        },
        "id": "Z0UR7O_pFXGk",
        "outputId": "c51faeb7-2eff-48a8-e978-f83db8aa7dc6"
      },
      "outputs": [
        {
          "output_type": "stream",
          "name": "stdout",
          "text": [
            "Requirement already satisfied: scikit-learn-intelex in /usr/local/lib/python3.10/dist-packages (2024.0.0)\n",
            "Requirement already satisfied: daal4py==2024.0.0 in /usr/local/lib/python3.10/dist-packages (from scikit-learn-intelex) (2024.0.0)\n",
            "Requirement already satisfied: scikit-learn>=0.22 in /usr/local/lib/python3.10/dist-packages (from scikit-learn-intelex) (1.2.2)\n",
            "Requirement already satisfied: daal==2024.0.0 in /usr/local/lib/python3.10/dist-packages (from daal4py==2024.0.0->scikit-learn-intelex) (2024.0.0)\n",
            "Requirement already satisfied: numpy>=1.19 in /usr/local/lib/python3.10/dist-packages (from daal4py==2024.0.0->scikit-learn-intelex) (1.23.5)\n",
            "Requirement already satisfied: tbb==2021.* in /usr/local/lib/python3.10/dist-packages (from daal==2024.0.0->daal4py==2024.0.0->scikit-learn-intelex) (2021.11.0)\n",
            "Requirement already satisfied: scipy>=1.3.2 in /usr/local/lib/python3.10/dist-packages (from scikit-learn>=0.22->scikit-learn-intelex) (1.11.3)\n",
            "Requirement already satisfied: joblib>=1.1.1 in /usr/local/lib/python3.10/dist-packages (from scikit-learn>=0.22->scikit-learn-intelex) (1.3.2)\n",
            "Requirement already satisfied: threadpoolctl>=2.0.0 in /usr/local/lib/python3.10/dist-packages (from scikit-learn>=0.22->scikit-learn-intelex) (3.2.0)\n"
          ]
        }
      ],
      "source": [
        "!pip install scikit-learn-intelex"
      ]
    },
    {
      "cell_type": "code",
      "source": [
        "import os\n",
        "import numpy as np\n",
        "import pandas as pd\n",
        "from numpy import mean\n",
        "from numpy import std\n",
        "from sklearn.model_selection import train_test_split\n",
        "from sklearn.metrics import classification_report, confusion_matrix\n",
        "from sklearn import metrics\n",
        "from sklearn.preprocessing import StandardScaler\n",
        "from sklearn.linear_model import LogisticRegression\n",
        "from sklearn.model_selection import KFold\n",
        "from sklearn.model_selection import RepeatedKFold\n",
        "from sklearn.model_selection import cross_val_score"
      ],
      "metadata": {
        "id": "Vg8t7mD0Waa0"
      },
      "execution_count": 25,
      "outputs": []
    },
    {
      "cell_type": "code",
      "source": [
        "from sklearn.ensemble import VotingClassifier"
      ],
      "metadata": {
        "id": "qE6NwmoPe22c"
      },
      "execution_count": 26,
      "outputs": []
    },
    {
      "cell_type": "code",
      "source": [
        "#from google.colab import drive\n",
        "!gdown 1d-n3DRMh8YZwAd5pxryRZMiqLKH4dPPo\n",
        "!gdown 1GzBgV34sITnhenBS-E21ZvQ9MU8SwMMa\n",
        "#drive.mount('/content/drive')"
      ],
      "metadata": {
        "colab": {
          "base_uri": "https://localhost:8080/"
        },
        "id": "UxOUlAOMWW6c",
        "outputId": "e36ff2bf-b695-4e65-c43b-68a7b90768cd"
      },
      "execution_count": 27,
      "outputs": [
        {
          "output_type": "stream",
          "name": "stdout",
          "text": [
            "Downloading...\n",
            "From: https://drive.google.com/uc?id=1d-n3DRMh8YZwAd5pxryRZMiqLKH4dPPo\n",
            "To: /content/labels1.csv\n",
            "100% 3.89k/3.89k [00:00<00:00, 10.6MB/s]\n",
            "Downloading...\n",
            "From: https://drive.google.com/uc?id=1GzBgV34sITnhenBS-E21ZvQ9MU8SwMMa\n",
            "To: /content/data1.csv\n",
            "100% 824M/824M [00:07<00:00, 107MB/s] \n"
          ]
        }
      ]
    },
    {
      "cell_type": "code",
      "source": [
        "data = pd.read_csv(\"/content/data1.csv\")"
      ],
      "metadata": {
        "id": "juWSjjIdKYFu"
      },
      "execution_count": 28,
      "outputs": []
    },
    {
      "cell_type": "code",
      "source": [
        "labels = pd.read_csv(\"/content/labels1.csv\")"
      ],
      "metadata": {
        "id": "2yB0cLVDfbli"
      },
      "execution_count": 29,
      "outputs": []
    },
    {
      "cell_type": "code",
      "source": [
        "data.info"
      ],
      "metadata": {
        "colab": {
          "base_uri": "https://localhost:8080/"
        },
        "id": "ZY_HzIsbgNq2",
        "outputId": "4a692f09-fabe-4727-be78-f1a43d47e2b5"
      },
      "execution_count": 30,
      "outputs": [
        {
          "output_type": "execute_result",
          "data": {
            "text/plain": [
              "<bound method DataFrame.info of                         Unnamed: 0  ENSG00000000003.15  ENSG00000000005.6  \\\n",
              "0     TCGA-AJ-A3NH-11A-11R-A22K-07            1.565076           0.066810   \n",
              "1     TCGA-AX-A05Y-11A-11R-A27V-07            0.975542           0.159958   \n",
              "2     TCGA-FL-A1YN-11A-11R-A32Y-07            1.277174           0.058654   \n",
              "3     TCGA-FL-A1YU-11A-11R-A32Y-07            1.319747           0.039811   \n",
              "4     TCGA-AJ-A3NC-11A-11R-A22K-07            1.017179           0.158393   \n",
              "...                            ...                 ...                ...   \n",
              "1292  TCGA-JY-A93C-01A-11R-A38D-31            1.536423           0.003977   \n",
              "1293  TCGA-JY-A6FH-01A-11R-A336-31            0.789686           0.003762   \n",
              "1294  TCGA-L5-A8NF-01A-11R-A37I-31            0.755745           0.000000   \n",
              "1295  TCGA-VR-AA4D-01A-11R-A37I-31            1.252630           0.007961   \n",
              "1296  TCGA-IG-A3QL-01A-11R-A24K-31            1.400346           0.003331   \n",
              "\n",
              "      ENSG00000000419.13  ENSG00000000457.14  ENSG00000000460.17  \\\n",
              "0               1.497444            0.571010            0.208603   \n",
              "1               1.529378            0.449864            0.149527   \n",
              "2               1.479356            0.511843            0.158634   \n",
              "3               1.404088            0.500044            0.323706   \n",
              "4               1.478722            0.499330            0.224740   \n",
              "...                  ...                 ...                 ...   \n",
              "1292            1.715027            0.641315            0.419195   \n",
              "1293            1.551599            0.712902            0.547024   \n",
              "1294            1.712190            0.577135            0.408325   \n",
              "1295            1.732420            0.550020            0.521033   \n",
              "1296            1.685742            0.505733            0.633014   \n",
              "\n",
              "      ENSG00000000938.13  ENSG00000000971.16  ENSG00000001036.14  \\\n",
              "0               0.375005            0.668060            1.204150   \n",
              "1               1.064630            0.867756            1.121225   \n",
              "2               0.969211            0.626956            1.202036   \n",
              "3               0.561197            0.453119            1.435132   \n",
              "4               1.097223            0.919753            1.043115   \n",
              "...                  ...                 ...                 ...   \n",
              "1292            0.445962            0.903443            1.271923   \n",
              "1293            0.219794            0.269933            1.023684   \n",
              "1294            0.383115            0.634014            1.361932   \n",
              "1295            0.106904            0.247924            1.382482   \n",
              "1296            0.158121            0.621488            0.987107   \n",
              "\n",
              "      ENSG00000001084.13  ...  ENSG00000288661.1  ENSG00000288662.1  \\\n",
              "0               1.722480  ...                  0           0.000000   \n",
              "1               0.649082  ...                  0           0.000000   \n",
              "2               0.873094  ...                  0           0.000000   \n",
              "3               1.504668  ...                  0           0.000000   \n",
              "4               0.511696  ...                  0           0.000000   \n",
              "...                  ...  ...                ...                ...   \n",
              "1292            1.029838  ...                  0           0.162266   \n",
              "1293            0.686091  ...                  0           0.000000   \n",
              "1294            0.788409  ...                  0           0.502905   \n",
              "1295            0.932955  ...                  0           0.414338   \n",
              "1296            1.558346  ...                  0           0.195069   \n",
              "\n",
              "      ENSG00000288663.1  ENSG00000288665.1  ENSG00000288667.1  \\\n",
              "0              0.070629                  0           0.000000   \n",
              "1              0.029059                  0           0.000000   \n",
              "2              0.022882                  0           0.000000   \n",
              "3              0.083288                  0           0.000000   \n",
              "4              0.044344                  0           0.000000   \n",
              "...                 ...                ...                ...   \n",
              "1292           0.087852                  0           0.368622   \n",
              "1293           0.049140                  0           0.265879   \n",
              "1294           0.071440                  0           0.341078   \n",
              "1295           0.071919                  0           0.160948   \n",
              "1296           0.013596                  0           0.192484   \n",
              "\n",
              "      ENSG00000288669.1  ENSG00000288670.1  ENSG00000288671.1  \\\n",
              "0              0.002684           0.771051                  0   \n",
              "1              0.000000           0.685150                  0   \n",
              "2              0.000000           0.638120                  0   \n",
              "3              0.000000           0.500675                  0   \n",
              "4              0.000000           0.717820                  0   \n",
              "...                 ...                ...                ...   \n",
              "1292           0.000000           0.458305                  0   \n",
              "1293           0.000000           0.627642                  0   \n",
              "1294           0.000000           0.816274                  0   \n",
              "1295           0.001474           0.498352                  0   \n",
              "1296           0.000000           0.719505                  0   \n",
              "\n",
              "      ENSG00000288674.1  ENSG00000288675.1  \n",
              "0              0.009876           0.170878  \n",
              "1              0.003934           0.016657  \n",
              "2              0.005309           0.051924  \n",
              "3              0.003977           0.215743  \n",
              "4              0.006637           0.045519  \n",
              "...                 ...                ...  \n",
              "1292           0.012711           0.059033  \n",
              "1293           0.006936           0.177796  \n",
              "1294           0.013596           0.042969  \n",
              "1295           0.005524           0.111666  \n",
              "1296           0.004579           0.110657  \n",
              "\n",
              "[1297 rows x 60661 columns]>"
            ]
          },
          "metadata": {},
          "execution_count": 30
        }
      ]
    },
    {
      "cell_type": "code",
      "source": [
        "labels.info"
      ],
      "metadata": {
        "colab": {
          "base_uri": "https://localhost:8080/"
        },
        "id": "t_lB3RDPgQzf",
        "outputId": "7a5636ab-d528-4701-de10-410fab339141"
      },
      "execution_count": 31,
      "outputs": [
        {
          "output_type": "execute_result",
          "data": {
            "text/plain": [
              "<bound method DataFrame.info of       0\n",
              "0     0\n",
              "1     0\n",
              "2     0\n",
              "3     0\n",
              "4     0\n",
              "...  ..\n",
              "1291  4\n",
              "1292  4\n",
              "1293  4\n",
              "1294  4\n",
              "1295  4\n",
              "\n",
              "[1296 rows x 1 columns]>"
            ]
          },
          "metadata": {},
          "execution_count": 31
        }
      ]
    },
    {
      "cell_type": "code",
      "source": [
        "columns_to_remove = []\n",
        "for i in range(len(data.columns)):\n",
        "  if(data.columns[i].find(\"Unnamed\")>=0):\n",
        "    columns_to_remove.append(data.columns[i])\n",
        "data = data.drop(labels = columns_to_remove, axis = 1, inplace = False)\n",
        "\n",
        "# this removes any row that has even a single null value\n",
        "#data = data.dropna()\n",
        "\n",
        "# To remove only the rows where all values are null\n",
        "#data = data.dropna(how='all')\n",
        "\n",
        "# Remove rows with null values only in the 'column_name' column\n",
        "#data = data.dropna(subset=['column_name'])"
      ],
      "metadata": {
        "id": "XA3AUw2ogdyY"
      },
      "execution_count": 32,
      "outputs": []
    },
    {
      "cell_type": "code",
      "source": [
        "X = data.values\n",
        "y = labels.values\n",
        "X = X[:-1]\n",
        "print(\"(Dataset) (Label):\",X.shape,y.shape)"
      ],
      "metadata": {
        "colab": {
          "base_uri": "https://localhost:8080/"
        },
        "id": "-XNm1i5ogoe5",
        "outputId": "a22859c4-4c92-471a-851f-956610f06d48"
      },
      "execution_count": 33,
      "outputs": [
        {
          "output_type": "stream",
          "name": "stdout",
          "text": [
            "(Dataset) (Label): (1296, 60660) (1296, 1)\n"
          ]
        }
      ]
    },
    {
      "cell_type": "code",
      "source": [
        "X_train, X_test, y_train, y_test = train_test_split(X, y, test_size = 0.20, random_state =7, shuffle = True, stratify = y)\n",
        "# We need random_state so that using that same seed, we can reproduce the exact same results later\n",
        "# We need startify to balance the split. Else, the train data might have too many values of a particular class,\n",
        "# and too less value of another class. This can later on create overfitting or underfitting\n",
        "\n",
        "# Print dimension of training/test dataset and labels.\n",
        "print(\"Train Set: \",X_train.shape,y_train.shape)\n",
        "print(\"Test Set: \",X_test.shape,y_test.shape)"
      ],
      "metadata": {
        "colab": {
          "base_uri": "https://localhost:8080/"
        },
        "id": "lMR8QfTrgqAW",
        "outputId": "34bb7ba0-8aef-4e89-b02b-03d916b947ef"
      },
      "execution_count": 34,
      "outputs": [
        {
          "output_type": "stream",
          "name": "stdout",
          "text": [
            "Train Set:  (1036, 60660) (1036, 1)\n",
            "Test Set:  (260, 60660) (260, 1)\n"
          ]
        }
      ]
    },
    {
      "cell_type": "code",
      "source": [
        "# Normalize Standardize features by removing the mean and scaling to unit variance.\n",
        "\n",
        "sc = StandardScaler()\n",
        "X_train = sc.fit_transform(X_train)\n",
        "X_test = sc.transform (X_test)"
      ],
      "metadata": {
        "id": "1msuJ9eRhZoP"
      },
      "execution_count": 35,
      "outputs": []
    },
    {
      "cell_type": "markdown",
      "source": [
        "#Logistic Regression"
      ],
      "metadata": {
        "id": "e7fhdSXEzAlo"
      }
    },
    {
      "cell_type": "code",
      "source": [
        "from sklearn.metrics import accuracy_score, precision_score, recall_score, f1_score\n",
        "\n",
        "# Initialize the Logistic Regression model\n",
        "modelLR = LogisticRegression(max_iter=500, C=20, penalty=\"l2\", random_state=27, solver=\"lbfgs\")\n",
        "fit = modelLR.fit(X_train, np.ravel(y_train))\n",
        "\n",
        "# Make predictions on the test set\n",
        "y_predLR = modelLR.predict(X_test)\n",
        "\n",
        "# Calculate and print accuracy\n",
        "accuracyLR = accuracy_score(y_test, y_predLR)\n",
        "print(\"Accuracy: {:.2f}%\".format(accuracyLR * 100))\n",
        "\n",
        "# Calculate and print macro precision\n",
        "macro_precision = precision_score(y_test, y_predLR, average='macro')\n",
        "print(\"Macro Precision: {:.4f}\".format(macro_precision))\n",
        "\n",
        "# Calculate and print weighted precision\n",
        "weighted_precision = precision_score(y_test, y_predLR, average='weighted')\n",
        "print(\"Weighted Precision: {:.4f}\".format(weighted_precision))\n",
        "\n",
        "# Calculate and print macro recall\n",
        "macro_recall = recall_score(y_test, y_predLR, average='macro')\n",
        "print(\"Macro Recall: {:.4f}\".format(macro_recall))\n",
        "\n",
        "# Calculate and print weighted recall\n",
        "weighted_recall = recall_score(y_test, y_predLR, average='weighted')\n",
        "print(\"Weighted Recall: {:.4f}\".format(weighted_recall))\n",
        "\n",
        "# Calculate and print macro F1-score\n",
        "macro_f1 = f1_score(y_test, y_predLR, average='macro')\n",
        "print(\"Macro F1-Score: {:.4f}\".format(macro_f1))\n",
        "\n",
        "# Calculate and print weighted F1-score\n",
        "weighted_f1 = f1_score(y_test, y_predLR, average='weighted')\n",
        "print(\"Weighted F1-Score: {:.4f}\".format(weighted_f1))\n",
        "\n",
        "# Display confusion matrix\n",
        "cf_matrixLR = confusion_matrix(y_test, y_predLR)\n",
        "print(\"\\nConfusion Matrix:\")\n",
        "print(cf_matrixLR)\n",
        "\n",
        "# Display classification report\n",
        "print(\"\\nClassification Report:\")\n",
        "print(classification_report(y_test, y_predLR, digits=4))"
      ],
      "metadata": {
        "colab": {
          "base_uri": "https://localhost:8080/"
        },
        "id": "NKqcHfJhh2Nd",
        "outputId": "76384335-f580-4893-8e16-a92dcd46bc71"
      },
      "execution_count": 36,
      "outputs": [
        {
          "output_type": "stream",
          "name": "stdout",
          "text": [
            "Accuracy: 98.08%\n",
            "Macro Precision: 0.9582\n",
            "Weighted Precision: 0.9820\n",
            "Macro Recall: 0.9812\n",
            "Weighted Recall: 0.9808\n",
            "Macro F1-Score: 0.9690\n",
            "Weighted F1-Score: 0.9809\n",
            "\n",
            "Confusion Matrix:\n",
            "[[ 24   0   0   0   1]\n",
            " [  0 111   0   0   0]\n",
            " [  0   0  13   0   0]\n",
            " [  3   0   1  70   0]\n",
            " [  0   0   0   0  37]]\n",
            "\n",
            "Classification Report:\n",
            "              precision    recall  f1-score   support\n",
            "\n",
            "           0     0.8889    0.9600    0.9231        25\n",
            "           1     1.0000    1.0000    1.0000       111\n",
            "           2     0.9286    1.0000    0.9630        13\n",
            "           3     1.0000    0.9459    0.9722        74\n",
            "           4     0.9737    1.0000    0.9867        37\n",
            "\n",
            "    accuracy                         0.9808       260\n",
            "   macro avg     0.9582    0.9812    0.9690       260\n",
            "weighted avg     0.9820    0.9808    0.9809       260\n",
            "\n"
          ]
        }
      ]
    },
    {
      "cell_type": "markdown",
      "source": [],
      "metadata": {
        "id": "y-cXv16ZzDaa"
      }
    },
    {
      "cell_type": "markdown",
      "source": [
        "#Random Forest"
      ],
      "metadata": {
        "id": "__BrFdApzIcV"
      }
    },
    {
      "cell_type": "code",
      "source": [
        "from sklearn.metrics import accuracy_score, precision_score, recall_score, f1_score\n",
        "\n",
        "from sklearn.ensemble import RandomForestClassifier\n",
        "\n",
        "# Initialize the Logistic Regression model\n",
        "#modelRF = RandomForestClassifier(n_estimators = 100, criterion=\"entropy\", min_samples_split = 2, min_samples_leaf= 1, max_features = 'sqrt', max_depth= 50, bootstrap=False, n_jobs=-1)\n",
        "\n",
        "# Reduce the number of estimators for RandomForestClassifier\n",
        "modelRF = RandomForestClassifier(n_estimators=50, criterion=\"entropy\", min_samples_split=2, min_samples_leaf=1, max_features='sqrt', max_depth=50, bootstrap=False, n_jobs=-1)\n",
        "\n",
        "\n",
        "# n_estimators -> number of trees in the forest\n",
        "# criterion -> The function used to measure the quality of a split.\n",
        "# min_sample_split -> The minimum number of samples required to split an internal node.\n",
        "# min_samples_leaf -> The minimum number of samples required to be at a leaf node.\n",
        "# max_features -> The number of features to consider when looking for the best split.\n",
        "# max_depth -> The maximum depth of the tree.\n",
        "# bootstrap -> Whether to use bootstrap samples when building trees.\n",
        "# n_jobs -> The number of jobs to run in parallel for both fit and predict.\n",
        "\n",
        "fit = modelRF.fit(X_train, np.ravel(y_train))\n",
        "\n",
        "# Make predictions on the test set\n",
        "y_predRF = modelRF.predict(X_test)\n",
        "\n",
        "# Calculate and print accuracy\n",
        "accuracyRF = accuracy_score(y_test, y_predRF)\n",
        "print(\"Accuracy: {:.2f}%\".format(accuracyRF * 100))\n",
        "\n",
        "# Calculate and print macro precision\n",
        "macro_precision = precision_score(y_test, y_predRF, average='macro')\n",
        "print(\"Macro Precision: {:.4f}\".format(macro_precision))\n",
        "\n",
        "# Calculate and print weighted precision\n",
        "weighted_precision = precision_score(y_test, y_predRF, average='weighted')\n",
        "print(\"Weighted Precision: {:.4f}\".format(weighted_precision))\n",
        "\n",
        "# Calculate and print macro recall\n",
        "macro_recall = recall_score(y_test, y_predRF, average='macro')\n",
        "print(\"Macro Recall: {:.4f}\".format(macro_recall))\n",
        "\n",
        "# Calculate and print weighted recall\n",
        "weighted_recall = recall_score(y_test, y_predRF, average='weighted')\n",
        "print(\"Weighted Recall: {:.4f}\".format(weighted_recall))\n",
        "\n",
        "# Calculate and print macro F1-score\n",
        "macro_f1 = f1_score(y_test, y_predRF, average='macro')\n",
        "print(\"Macro F1-Score: {:.4f}\".format(macro_f1))\n",
        "\n",
        "# Calculate and print weighted F1-score\n",
        "weighted_f1 = f1_score(y_test, y_predRF, average='weighted')\n",
        "print(\"Weighted F1-Score: {:.4f}\".format(weighted_f1))\n",
        "\n",
        "# Display confusion matrix\n",
        "cf_matrixRF = confusion_matrix(y_test, y_predRF)\n",
        "print(\"\\nConfusion Matrix:\")\n",
        "print(cf_matrixRF)\n",
        "\n",
        "# Display classification report\n",
        "print(\"\\nClassification Report:\")\n",
        "print(classification_report(y_test, y_predRF, digits=4))"
      ],
      "metadata": {
        "colab": {
          "base_uri": "https://localhost:8080/"
        },
        "id": "peH4NaKV1kkF",
        "outputId": "3a32984b-59ea-4dd9-9ccf-fd9f87a519ab"
      },
      "execution_count": 37,
      "outputs": [
        {
          "output_type": "stream",
          "name": "stdout",
          "text": [
            "Accuracy: 98.46%\n",
            "Macro Precision: 0.9671\n",
            "Weighted Precision: 0.9851\n",
            "Macro Recall: 0.9786\n",
            "Weighted Recall: 0.9846\n",
            "Macro F1-Score: 0.9723\n",
            "Weighted F1-Score: 0.9846\n",
            "\n",
            "Confusion Matrix:\n",
            "[[ 23   0   0   0   2]\n",
            " [  0 111   0   0   0]\n",
            " [  0   0  13   0   0]\n",
            " [  1   0   1  72   0]\n",
            " [  0   0   0   0  37]]\n",
            "\n",
            "Classification Report:\n",
            "              precision    recall  f1-score   support\n",
            "\n",
            "           0     0.9583    0.9200    0.9388        25\n",
            "           1     1.0000    1.0000    1.0000       111\n",
            "           2     0.9286    1.0000    0.9630        13\n",
            "           3     1.0000    0.9730    0.9863        74\n",
            "           4     0.9487    1.0000    0.9737        37\n",
            "\n",
            "    accuracy                         0.9846       260\n",
            "   macro avg     0.9671    0.9786    0.9723       260\n",
            "weighted avg     0.9851    0.9846    0.9846       260\n",
            "\n"
          ]
        }
      ]
    },
    {
      "cell_type": "markdown",
      "source": [
        "#Gradient Boosting"
      ],
      "metadata": {
        "id": "IfVahwWyzL9B"
      }
    },
    {
      "cell_type": "code",
      "source": [
        "from sklearn.metrics import accuracy_score, precision_score, recall_score, f1_score\n",
        "\n",
        "\n",
        "from xgboost import XGBClassifier\n",
        "from sklearn.ensemble import GradientBoostingClassifier\n",
        "\n",
        "# Initialize the Logistic Regression model\n",
        "# model_XGBoost = XGBClassifier()\n",
        "\n",
        "# Reduce the number of estimators for XGBClassifier\n",
        "model_XGBoost = XGBClassifier(n_estimators=50)\n",
        "\n",
        "fit = model_XGBoost.fit(X_train, np.ravel(y_train))\n",
        "\n",
        "# Make predictions on the test set\n",
        "y_predXGB = model_XGBoost.predict(X_test)\n",
        "\n",
        "# Calculate and print accuracy\n",
        "accuracyXGB = accuracy_score(y_test, y_predXGB)\n",
        "print(\"Accuracy: {:.2f}%\".format(accuracyXGB * 100))\n",
        "\n",
        "# Calculate and print macro precision\n",
        "macro_precision = precision_score(y_test, y_predXGB, average='macro')\n",
        "print(\"Macro Precision: {:.4f}\".format(macro_precision))\n",
        "\n",
        "# Calculate and print weighted precision\n",
        "weighted_precision = precision_score(y_test, y_predXGB, average='weighted')\n",
        "print(\"Weighted Precision: {:.4f}\".format(weighted_precision))\n",
        "\n",
        "# Calculate and print macro recall\n",
        "macro_recall = recall_score(y_test, y_predXGB, average='macro')\n",
        "print(\"Macro Recall: {:.4f}\".format(macro_recall))\n",
        "\n",
        "# Calculate and print weighted recall\n",
        "weighted_recall = recall_score(y_test, y_predXGB, average='weighted')\n",
        "print(\"Weighted Recall: {:.4f}\".format(weighted_recall))\n",
        "\n",
        "# Calculate and print macro F1-score\n",
        "macro_f1 = f1_score(y_test, y_predXGB, average='macro')\n",
        "print(\"Macro F1-Score: {:.4f}\".format(macro_f1))\n",
        "\n",
        "# Calculate and print weighted F1-score\n",
        "weighted_f1 = f1_score(y_test, y_predXGB, average='weighted')\n",
        "print(\"Weighted F1-Score: {:.4f}\".format(weighted_f1))\n",
        "\n",
        "# Display confusion matrix\n",
        "cf_matrixXGB = confusion_matrix(y_test, y_predXGB)\n",
        "print(\"\\nConfusion Matrix:\")\n",
        "print(cf_matrixXGB)\n",
        "\n",
        "# Display classification report\n",
        "print(\"\\nClassification Report:\")\n",
        "print(classification_report(y_test, y_predXGB, digits=4))"
      ],
      "metadata": {
        "colab": {
          "base_uri": "https://localhost:8080/"
        },
        "id": "_5MaOMvh1mVe",
        "outputId": "80664bc4-3d6e-4552-c328-700a5be5baa0"
      },
      "execution_count": 38,
      "outputs": [
        {
          "output_type": "stream",
          "name": "stdout",
          "text": [
            "Accuracy: 98.46%\n",
            "Macro Precision: 0.9671\n",
            "Weighted Precision: 0.9851\n",
            "Macro Recall: 0.9786\n",
            "Weighted Recall: 0.9846\n",
            "Macro F1-Score: 0.9723\n",
            "Weighted F1-Score: 0.9846\n",
            "\n",
            "Confusion Matrix:\n",
            "[[ 23   0   0   0   2]\n",
            " [  0 111   0   0   0]\n",
            " [  0   0  13   0   0]\n",
            " [  1   0   1  72   0]\n",
            " [  0   0   0   0  37]]\n",
            "\n",
            "Classification Report:\n",
            "              precision    recall  f1-score   support\n",
            "\n",
            "           0     0.9583    0.9200    0.9388        25\n",
            "           1     1.0000    1.0000    1.0000       111\n",
            "           2     0.9286    1.0000    0.9630        13\n",
            "           3     1.0000    0.9730    0.9863        74\n",
            "           4     0.9487    1.0000    0.9737        37\n",
            "\n",
            "    accuracy                         0.9846       260\n",
            "   macro avg     0.9671    0.9786    0.9723       260\n",
            "weighted avg     0.9851    0.9846    0.9846       260\n",
            "\n"
          ]
        }
      ]
    },
    {
      "cell_type": "markdown",
      "source": [
        "#Max Voting Ensemble Learning"
      ],
      "metadata": {
        "id": "TszPonBFi8UQ"
      }
    },
    {
      "cell_type": "code",
      "source": [
        "from sklearn.ensemble import VotingClassifier\n",
        "\n",
        "# Create a list of tuples with model names and their instances\n",
        "models = [('RandomForest', modelRF), ('LogisticRegression', modelLR), ('XGBoost', model_XGBoost)]\n",
        "\n",
        "# Initialize the VotingClassifier with 'hard' voting\n",
        "voting_clf = VotingClassifier(estimators=models, voting='hard')\n",
        "\n",
        "# Fit the ensemble model on the training data\n",
        "voting_clf.fit(X_train, np.ravel(y_train))\n",
        "\n",
        "# Make predictions on the test set\n",
        "y_pred_ensemble = voting_clf.predict(X_test)\n",
        "\n",
        "# Calculate and print accuracy\n",
        "accuracy_ensemble = accuracy_score(y_test, y_pred_ensemble)\n",
        "print(\"Ensemble Accuracy: {:.2f}%\".format(accuracy_ensemble * 100))"
      ],
      "metadata": {
        "id": "TxzrZTAvjNWg",
        "colab": {
          "base_uri": "https://localhost:8080/"
        },
        "outputId": "c52629b8-5bcf-4cd4-8746-cafb80c1f71c"
      },
      "execution_count": 39,
      "outputs": [
        {
          "output_type": "stream",
          "name": "stdout",
          "text": [
            "Ensemble Accuracy: 98.08%\n"
          ]
        }
      ]
    },
    {
      "cell_type": "markdown",
      "source": [
        "# Average Voting Ensemble Learning"
      ],
      "metadata": {
        "id": "SSIC0ezTyYA-"
      }
    },
    {
      "cell_type": "code",
      "source": [
        "proba_RF = modelRF.predict_proba(X_test)\n",
        "proba_LR = modelLR.predict_proba(X_test)\n",
        "proba_XGBoost =model_XGBoost.predict_proba(X_test)\n",
        "\n",
        "# Perform averaging voting\n",
        "average_proba = (proba_RF + proba_LR + proba_XGBoost) / 3\n",
        "\n",
        "# Make predictions based on the average probabilities\n",
        "y_pred_avg_ensemble = np.argmax(average_proba, axis=1)\n",
        "\n",
        "accuracy_avg_ensemble = accuracy_score(y_test, y_pred_avg_ensemble)\n",
        "print(\"Ensemble Accuracy: {:.2f}%\".format(accuracy_avg_ensemble * 100))"
      ],
      "metadata": {
        "colab": {
          "base_uri": "https://localhost:8080/"
        },
        "id": "Uo412gTkxh8V",
        "outputId": "d821fa78-8a6a-452e-f75e-e36742318afc"
      },
      "execution_count": 40,
      "outputs": [
        {
          "output_type": "stream",
          "name": "stdout",
          "text": [
            "Ensemble Accuracy: 98.85%\n"
          ]
        }
      ]
    },
    {
      "cell_type": "code",
      "source": [
        "# print(list(proba_RF))"
      ],
      "metadata": {
        "id": "Esk8odIy3I9q"
      },
      "execution_count": 41,
      "outputs": []
    },
    {
      "cell_type": "code",
      "source": [
        "import matplotlib.pyplot as plt\n",
        "\n",
        "# Model names\n",
        "models = ['Logistic Regression', 'Random Forest', 'Gradient Boosting', 'Max Ensemble', 'Avg Ensemble']\n",
        "\n",
        "# Corresponding accuracy values\n",
        "accuracies = [val * 100 for val in [accuracyLR, accuracyRF, accuracyXGB, accuracy_ensemble, accuracy_avg_ensemble]]\n",
        "\n",
        "\n",
        "# Plotting the horizontal bar chart\n",
        "fig, ax = plt.subplots(figsize=(5, 3))\n",
        "bars = ax.barh(models, accuracies, color=['blue', 'cyan', 'yellow', 'orange', 'red'])\n",
        "\n",
        "# Display the exact accuracy values on the bars\n",
        "for bar, accuracy in zip(bars, accuracies):\n",
        "    ax.text(bar.get_width() + 0.05, bar.get_y() + bar.get_height() / 2, f'{accuracy:.2f}%', va='center')\n",
        "\n",
        "ax.set_xlabel('Accuracy (%)')\n",
        "ax.set_title('Accuracy Comparison of Different Models')\n",
        "plt.xlim(97, 100)  # Set the x-axis range if needed\n",
        "plt.show()"
      ],
      "metadata": {
        "colab": {
          "base_uri": "https://localhost:8080/",
          "height": 333
        },
        "id": "cpXbYJgCvrz7",
        "outputId": "49ffeeb2-bbdc-4118-8855-64d2d4673d77"
      },
      "execution_count": 42,
      "outputs": [
        {
          "output_type": "display_data",
          "data": {
            "text/plain": [
              "<Figure size 500x300 with 1 Axes>"
            ],
            "image/png": "[encoded data removed]"
          },
          "metadata": {}
        }
      ]
    }
  ]
}