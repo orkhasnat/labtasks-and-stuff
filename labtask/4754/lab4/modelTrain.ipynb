{
  "cells": [
    {
      "cell_type": "markdown",
      "metadata": {
        "id": "xgWC0X2H0xzv"
      },
      "source": [
        "#Prerequisite"
      ]
    },
    {
      "cell_type": "code",
      "execution_count": 82,
      "metadata": {
        "colab": {
          "base_uri": "https://localhost:8080/"
        },
        "id": "Z0UR7O_pFXGk",
        "outputId": "e4a7fd7d-1db9-4204-fa78-f6557d1a4358"
      },
      "outputs": [
        {
          "output_type": "stream",
          "name": "stdout",
          "text": [
            "Requirement already satisfied: scikit-learn-intelex in /usr/local/lib/python3.10/dist-packages (2024.0.0)\n",
            "Requirement already satisfied: daal4py==2024.0.0 in /usr/local/lib/python3.10/dist-packages (from scikit-learn-intelex) (2024.0.0)\n",
            "Requirement already satisfied: scikit-learn>=0.22 in /usr/local/lib/python3.10/dist-packages (from scikit-learn-intelex) (1.2.2)\n",
            "Requirement already satisfied: daal==2024.0.0 in /usr/local/lib/python3.10/dist-packages (from daal4py==2024.0.0->scikit-learn-intelex) (2024.0.0)\n",
            "Requirement already satisfied: numpy>=1.19 in /usr/local/lib/python3.10/dist-packages (from daal4py==2024.0.0->scikit-learn-intelex) (1.23.5)\n",
            "Requirement already satisfied: tbb==2021.* in /usr/local/lib/python3.10/dist-packages (from daal==2024.0.0->daal4py==2024.0.0->scikit-learn-intelex) (2021.11.0)\n",
            "Requirement already satisfied: scipy>=1.3.2 in /usr/local/lib/python3.10/dist-packages (from scikit-learn>=0.22->scikit-learn-intelex) (1.11.3)\n",
            "Requirement already satisfied: joblib>=1.1.1 in /usr/local/lib/python3.10/dist-packages (from scikit-learn>=0.22->scikit-learn-intelex) (1.3.2)\n",
            "Requirement already satisfied: threadpoolctl>=2.0.0 in /usr/local/lib/python3.10/dist-packages (from scikit-learn>=0.22->scikit-learn-intelex) (3.2.0)\n"
          ]
        }
      ],
      "source": [
        "!pip install scikit-learn-intelex"
      ]
    },
    {
      "cell_type": "code",
      "execution_count": 83,
      "metadata": {
        "id": "Vg8t7mD0Waa0"
      },
      "outputs": [],
      "source": [
        "import os\n",
        "import numpy as np\n",
        "import pandas as pd\n",
        "from numpy import mean\n",
        "from numpy import std\n",
        "from sklearn.model_selection import train_test_split\n",
        "from sklearn.metrics import classification_report, confusion_matrix\n",
        "from sklearn import metrics\n",
        "from sklearn.preprocessing import StandardScaler\n",
        "from sklearn.linear_model import LogisticRegression\n",
        "from sklearn.model_selection import KFold\n",
        "from sklearn.model_selection import RepeatedKFold\n",
        "from sklearn.model_selection import cross_val_score"
      ]
    },
    {
      "cell_type": "code",
      "execution_count": 84,
      "metadata": {
        "id": "qE6NwmoPe22c"
      },
      "outputs": [],
      "source": [
        "from sklearn.ensemble import VotingClassifier"
      ]
    },
    {
      "cell_type": "code",
      "execution_count": 85,
      "metadata": {
        "colab": {
          "base_uri": "https://localhost:8080/"
        },
        "id": "UxOUlAOMWW6c",
        "outputId": "7280505b-d086-438a-c9c4-31c758813197"
      },
      "outputs": [
        {
          "output_type": "stream",
          "name": "stdout",
          "text": [
            "Downloading...\n",
            "From: https://drive.google.com/uc?id=1d-n3DRMh8YZwAd5pxryRZMiqLKH4dPPo\n",
            "To: /content/labels1.csv\n",
            "100% 3.89k/3.89k [00:00<00:00, 11.4MB/s]\n",
            "Downloading...\n",
            "From: https://drive.google.com/uc?id=1GzBgV34sITnhenBS-E21ZvQ9MU8SwMMa\n",
            "To: /content/data1.csv\n",
            "100% 824M/824M [00:08<00:00, 100MB/s] \n"
          ]
        }
      ],
      "source": [
        "!gdown 1d-n3DRMh8YZwAd5pxryRZMiqLKH4dPPo\n",
        "!gdown 1GzBgV34sITnhenBS-E21ZvQ9MU8SwMMa"
      ]
    },
    {
      "cell_type": "code",
      "execution_count": 86,
      "metadata": {
        "id": "juWSjjIdKYFu"
      },
      "outputs": [],
      "source": [
        "data = pd.read_csv(\"/content/data1.csv\")"
      ]
    },
    {
      "cell_type": "code",
      "execution_count": 87,
      "metadata": {
        "id": "2yB0cLVDfbli"
      },
      "outputs": [],
      "source": [
        "labels = pd.read_csv(\"/content/labels1.csv\")"
      ]
    },
    {
      "cell_type": "code",
      "execution_count": 88,
      "metadata": {
        "id": "ZY_HzIsbgNq2",
        "colab": {
          "base_uri": "https://localhost:8080/"
        },
        "outputId": "8dc16118-9f1f-4084-97a1-82568cbebcc4"
      },
      "outputs": [
        {
          "output_type": "execute_result",
          "data": {
            "text/plain": [
              "<bound method DataFrame.info of                         Unnamed: 0  ENSG00000000003.15  ENSG00000000005.6  \\\n",
              "0     TCGA-AJ-A3NH-11A-11R-A22K-07            1.565076           0.066810   \n",
              "1     TCGA-AX-A05Y-11A-11R-A27V-07            0.975542           0.159958   \n",
              "2     TCGA-FL-A1YN-11A-11R-A32Y-07            1.277174           0.058654   \n",
              "3     TCGA-FL-A1YU-11A-11R-A32Y-07            1.319747           0.039811   \n",
              "4     TCGA-AJ-A3NC-11A-11R-A22K-07            1.017179           0.158393   \n",
              "...                            ...                 ...                ...   \n",
              "1292  TCGA-JY-A93C-01A-11R-A38D-31            1.536423           0.003977   \n",
              "1293  TCGA-JY-A6FH-01A-11R-A336-31            0.789686           0.003762   \n",
              "1294  TCGA-L5-A8NF-01A-11R-A37I-31            0.755745           0.000000   \n",
              "1295  TCGA-VR-AA4D-01A-11R-A37I-31            1.252630           0.007961   \n",
              "1296  TCGA-IG-A3QL-01A-11R-A24K-31            1.400346           0.003331   \n",
              "\n",
              "      ENSG00000000419.13  ENSG00000000457.14  ENSG00000000460.17  \\\n",
              "0               1.497444            0.571010            0.208603   \n",
              "1               1.529378            0.449864            0.149527   \n",
              "2               1.479356            0.511843            0.158634   \n",
              "3               1.404088            0.500044            0.323706   \n",
              "4               1.478722            0.499330            0.224740   \n",
              "...                  ...                 ...                 ...   \n",
              "1292            1.715027            0.641315            0.419195   \n",
              "1293            1.551599            0.712902            0.547024   \n",
              "1294            1.712190            0.577135            0.408325   \n",
              "1295            1.732420            0.550020            0.521033   \n",
              "1296            1.685742            0.505733            0.633014   \n",
              "\n",
              "      ENSG00000000938.13  ENSG00000000971.16  ENSG00000001036.14  \\\n",
              "0               0.375005            0.668060            1.204150   \n",
              "1               1.064630            0.867756            1.121225   \n",
              "2               0.969211            0.626956            1.202036   \n",
              "3               0.561197            0.453119            1.435132   \n",
              "4               1.097223            0.919753            1.043115   \n",
              "...                  ...                 ...                 ...   \n",
              "1292            0.445962            0.903443            1.271923   \n",
              "1293            0.219794            0.269933            1.023684   \n",
              "1294            0.383115            0.634014            1.361932   \n",
              "1295            0.106904            0.247924            1.382482   \n",
              "1296            0.158121            0.621488            0.987107   \n",
              "\n",
              "      ENSG00000001084.13  ...  ENSG00000288661.1  ENSG00000288662.1  \\\n",
              "0               1.722480  ...                  0           0.000000   \n",
              "1               0.649082  ...                  0           0.000000   \n",
              "2               0.873094  ...                  0           0.000000   \n",
              "3               1.504668  ...                  0           0.000000   \n",
              "4               0.511696  ...                  0           0.000000   \n",
              "...                  ...  ...                ...                ...   \n",
              "1292            1.029838  ...                  0           0.162266   \n",
              "1293            0.686091  ...                  0           0.000000   \n",
              "1294            0.788409  ...                  0           0.502905   \n",
              "1295            0.932955  ...                  0           0.414338   \n",
              "1296            1.558346  ...                  0           0.195069   \n",
              "\n",
              "      ENSG00000288663.1  ENSG00000288665.1  ENSG00000288667.1  \\\n",
              "0              0.070629                  0           0.000000   \n",
              "1              0.029059                  0           0.000000   \n",
              "2              0.022882                  0           0.000000   \n",
              "3              0.083288                  0           0.000000   \n",
              "4              0.044344                  0           0.000000   \n",
              "...                 ...                ...                ...   \n",
              "1292           0.087852                  0           0.368622   \n",
              "1293           0.049140                  0           0.265879   \n",
              "1294           0.071440                  0           0.341078   \n",
              "1295           0.071919                  0           0.160948   \n",
              "1296           0.013596                  0           0.192484   \n",
              "\n",
              "      ENSG00000288669.1  ENSG00000288670.1  ENSG00000288671.1  \\\n",
              "0              0.002684           0.771051                  0   \n",
              "1              0.000000           0.685150                  0   \n",
              "2              0.000000           0.638120                  0   \n",
              "3              0.000000           0.500675                  0   \n",
              "4              0.000000           0.717820                  0   \n",
              "...                 ...                ...                ...   \n",
              "1292           0.000000           0.458305                  0   \n",
              "1293           0.000000           0.627642                  0   \n",
              "1294           0.000000           0.816274                  0   \n",
              "1295           0.001474           0.498352                  0   \n",
              "1296           0.000000           0.719505                  0   \n",
              "\n",
              "      ENSG00000288674.1  ENSG00000288675.1  \n",
              "0              0.009876           0.170878  \n",
              "1              0.003934           0.016657  \n",
              "2              0.005309           0.051924  \n",
              "3              0.003977           0.215743  \n",
              "4              0.006637           0.045519  \n",
              "...                 ...                ...  \n",
              "1292           0.012711           0.059033  \n",
              "1293           0.006936           0.177796  \n",
              "1294           0.013596           0.042969  \n",
              "1295           0.005524           0.111666  \n",
              "1296           0.004579           0.110657  \n",
              "\n",
              "[1297 rows x 60661 columns]>"
            ]
          },
          "metadata": {},
          "execution_count": 88
        }
      ],
      "source": [
        "data.info"
      ]
    },
    {
      "cell_type": "code",
      "execution_count": 89,
      "metadata": {
        "id": "t_lB3RDPgQzf",
        "colab": {
          "base_uri": "https://localhost:8080/"
        },
        "outputId": "b6f1bc22-a476-4036-80e7-4fa430bded8e"
      },
      "outputs": [
        {
          "output_type": "execute_result",
          "data": {
            "text/plain": [
              "<bound method DataFrame.info of       0\n",
              "0     0\n",
              "1     0\n",
              "2     0\n",
              "3     0\n",
              "4     0\n",
              "...  ..\n",
              "1291  4\n",
              "1292  4\n",
              "1293  4\n",
              "1294  4\n",
              "1295  4\n",
              "\n",
              "[1296 rows x 1 columns]>"
            ]
          },
          "metadata": {},
          "execution_count": 89
        }
      ],
      "source": [
        "labels.info"
      ]
    },
    {
      "cell_type": "code",
      "execution_count": 90,
      "metadata": {
        "id": "XA3AUw2ogdyY"
      },
      "outputs": [],
      "source": [
        "columns_to_remove = []\n",
        "for i in range(len(data.columns)):\n",
        "  if(data.columns[i].find(\"Unnamed\")>=0):\n",
        "    columns_to_remove.append(data.columns[i])\n",
        "data = data.drop(labels = columns_to_remove, axis = 1, inplace = False)\n"
      ]
    },
    {
      "cell_type": "code",
      "execution_count": 91,
      "metadata": {
        "id": "-XNm1i5ogoe5"
      },
      "outputs": [],
      "source": [
        "X = data.values\n",
        "y = labels.values\n",
        "X = X[:-1]\n",
        "\n",
        "X_train, X_test, y_train, y_test = train_test_split(X, y, test_size = 0.20, random_state =7, shuffle = True, stratify = y)"
      ]
    },
    {
      "cell_type": "code",
      "execution_count": 92,
      "metadata": {
        "id": "1msuJ9eRhZoP"
      },
      "outputs": [],
      "source": [
        "# Normalize Standardize features by removing the mean and scaling to unit variance.\n",
        "\n",
        "sc = StandardScaler()\n",
        "X_train = sc.fit_transform(X_train)\n",
        "X_test = sc.transform (X_test)"
      ]
    },
    {
      "cell_type": "markdown",
      "metadata": {
        "id": "e7fhdSXEzAlo"
      },
      "source": [
        "#Logistic Regression"
      ]
    },
    {
      "cell_type": "code",
      "execution_count": 93,
      "metadata": {
        "id": "NKqcHfJhh2Nd"
      },
      "outputs": [],
      "source": [
        "from sklearn.metrics import accuracy_score, precision_score, recall_score, f1_score\n",
        "\n",
        "modelLR = LogisticRegression(max_iter=500, C=20, penalty=\"l2\", random_state=27, solver=\"lbfgs\")\n",
        "fit = modelLR.fit(X_train, np.ravel(y_train))\n",
        "\n",
        "y_predLR = modelLR.predict(X_test)"
      ]
    },
    {
      "cell_type": "code",
      "source": [
        "accuracyLR = accuracy_score(y_test, y_predLR)\n",
        "print(\"Logistic Regression Accuracy: {:.2f}%\".format(accuracyLR * 100))\n",
        "\n",
        "macro_precision = precision_score(y_test, y_predLR, average='macro')\n",
        "print(\"Logistic Regression Macro Precision: {:.4f}\".format(macro_precision))\n",
        "\n",
        "weighted_precision = precision_score(y_test, y_predLR, average='weighted')\n",
        "print(\"Logistic Regression Weighted Precision: {:.4f}\".format(weighted_precision))\n",
        "\n",
        "macro_recall = recall_score(y_test, y_predLR, average='macro')\n",
        "print(\"Logistic Regression Macro Recall: {:.4f}\".format(macro_recall))\n",
        "\n",
        "weighted_recall = recall_score(y_test, y_predLR, average='weighted')\n",
        "print(\"Logistic Regression Weighted Recall: {:.4f}\".format(weighted_recall))\n",
        "\n",
        "macro_f1 = f1_score(y_test, y_predLR, average='macro')\n",
        "print(\"Logistic Regression Macro F1-Score: {:.4f}\".format(macro_f1))\n",
        "\n",
        "weighted_f1 = f1_score(y_test, y_predLR, average='weighted')\n",
        "print(\"Logistic Regression Weighted F1-Score: {:.4f}\".format(weighted_f1))\n",
        "\n",
        "cf_matrixLR = confusion_matrix(y_test, y_predLR)\n",
        "print(\"\\nLogistic Regression Confusion Matrix:\")\n",
        "print(cf_matrixLR)\n",
        "\n",
        "print(\"\\nLogistic Regression Classification Report:\")\n",
        "print(classification_report(y_test, y_predLR, digits=4))"
      ],
      "metadata": {
        "colab": {
          "base_uri": "https://localhost:8080/"
        },
        "id": "YrJBhcKv5gSH",
        "outputId": "6e479a0e-d57b-43d5-e6e2-3f3d33333e3b"
      },
      "execution_count": 94,
      "outputs": [
        {
          "output_type": "stream",
          "name": "stdout",
          "text": [
            "Logistic Regression Accuracy: 98.08%\n",
            "Logistic Regression Macro Precision: 0.9582\n",
            "Logistic Regression Weighted Precision: 0.9820\n",
            "Logistic Regression Macro Recall: 0.9812\n",
            "Logistic Regression Weighted Recall: 0.9808\n",
            "Logistic Regression Macro F1-Score: 0.9690\n",
            "Logistic Regression Weighted F1-Score: 0.9809\n",
            "\n",
            "Logistic Regression Confusion Matrix:\n",
            "[[ 24   0   0   0   1]\n",
            " [  0 111   0   0   0]\n",
            " [  0   0  13   0   0]\n",
            " [  3   0   1  70   0]\n",
            " [  0   0   0   0  37]]\n",
            "\n",
            "Logistic Regression Classification Report:\n",
            "              precision    recall  f1-score   support\n",
            "\n",
            "           0     0.8889    0.9600    0.9231        25\n",
            "           1     1.0000    1.0000    1.0000       111\n",
            "           2     0.9286    1.0000    0.9630        13\n",
            "           3     1.0000    0.9459    0.9722        74\n",
            "           4     0.9737    1.0000    0.9867        37\n",
            "\n",
            "    accuracy                         0.9808       260\n",
            "   macro avg     0.9582    0.9812    0.9690       260\n",
            "weighted avg     0.9820    0.9808    0.9809       260\n",
            "\n"
          ]
        }
      ]
    },
    {
      "cell_type": "code",
      "source": [
        "LR = [accuracyLR,macro_precision,weighted_precision,macro_recall,weighted_recall,macro_f1,weighted_f1]"
      ],
      "metadata": {
        "id": "rMtLIUJuCYma"
      },
      "execution_count": 95,
      "outputs": []
    },
    {
      "cell_type": "markdown",
      "metadata": {
        "id": "y-cXv16ZzDaa"
      },
      "source": []
    },
    {
      "cell_type": "markdown",
      "metadata": {
        "id": "__BrFdApzIcV"
      },
      "source": [
        "#Random Forest"
      ]
    },
    {
      "cell_type": "code",
      "execution_count": 96,
      "metadata": {
        "id": "peH4NaKV1kkF"
      },
      "outputs": [],
      "source": [
        "from sklearn.metrics import accuracy_score, precision_score, recall_score, f1_score\n",
        "from sklearn.ensemble import RandomForestClassifier\n",
        "\n",
        "modelRF = RandomForestClassifier(n_estimators=50, criterion=\"entropy\", min_samples_split=2, min_samples_leaf=1, max_features='sqrt', max_depth=50, bootstrap=False, n_jobs=-1)\n",
        "\n",
        "fit = modelRF.fit(X_train, np.ravel(y_train))\n",
        "\n",
        "y_predRF = modelRF.predict(X_test)\n"
      ]
    },
    {
      "cell_type": "code",
      "source": [
        "accuracyRF = accuracy_score(y_test, y_predRF)\n",
        "print(\"Random Forest Accuracy: {:.2f}%\".format(accuracyRF * 100))\n",
        "\n",
        "macro_precision = precision_score(y_test, y_predRF, average='macro')\n",
        "print(\"Random Forest Macro Precision: {:.4f}\".format(macro_precision))\n",
        "\n",
        "weighted_precision = precision_score(y_test, y_predRF, average='weighted')\n",
        "print(\"Random Forest Weighted Precision: {:.4f}\".format(weighted_precision))\n",
        "\n",
        "macro_recall = recall_score(y_test, y_predRF, average='macro')\n",
        "print(\"Random Forest Macro Recall: {:.4f}\".format(macro_recall))\n",
        "\n",
        "weighted_recall = recall_score(y_test, y_predRF, average='weighted')\n",
        "print(\"Random Forest Weighted Recall: {:.4f}\".format(weighted_recall))\n",
        "\n",
        "macro_f1 = f1_score(y_test, y_predRF, average='macro')\n",
        "print(\"Random Forest Macro F1-Score: {:.4f}\".format(macro_f1))\n",
        "\n",
        "weighted_f1 = f1_score(y_test, y_predRF, average='weighted')\n",
        "print(\"Random Forest Weighted F1-Score: {:.4f}\".format(weighted_f1))\n",
        "\n",
        "cf_matrixRF = confusion_matrix(y_test, y_predRF)\n",
        "print(\"\\nRandom Forest Confusion Matrix:\")\n",
        "print(cf_matrixRF)\n",
        "\n",
        "print(\"\\nRandom Forest Classification Report:\")\n",
        "print(classification_report(y_test, y_predRF, digits=4))"
      ],
      "metadata": {
        "colab": {
          "base_uri": "https://localhost:8080/"
        },
        "id": "JHHfJiEp5m6w",
        "outputId": "4f7c6da8-b3ca-43fd-d659-a520946c23ff"
      },
      "execution_count": 97,
      "outputs": [
        {
          "output_type": "stream",
          "name": "stdout",
          "text": [
            "Random Forest Accuracy: 98.46%\n",
            "Random Forest Macro Precision: 0.9671\n",
            "Random Forest Weighted Precision: 0.9851\n",
            "Random Forest Macro Recall: 0.9786\n",
            "Random Forest Weighted Recall: 0.9846\n",
            "Random Forest Macro F1-Score: 0.9723\n",
            "Random Forest Weighted F1-Score: 0.9846\n",
            "\n",
            "Random Forest Confusion Matrix:\n",
            "[[ 23   0   0   0   2]\n",
            " [  0 111   0   0   0]\n",
            " [  0   0  13   0   0]\n",
            " [  1   0   1  72   0]\n",
            " [  0   0   0   0  37]]\n",
            "\n",
            "Random Forest Classification Report:\n",
            "              precision    recall  f1-score   support\n",
            "\n",
            "           0     0.9583    0.9200    0.9388        25\n",
            "           1     1.0000    1.0000    1.0000       111\n",
            "           2     0.9286    1.0000    0.9630        13\n",
            "           3     1.0000    0.9730    0.9863        74\n",
            "           4     0.9487    1.0000    0.9737        37\n",
            "\n",
            "    accuracy                         0.9846       260\n",
            "   macro avg     0.9671    0.9786    0.9723       260\n",
            "weighted avg     0.9851    0.9846    0.9846       260\n",
            "\n"
          ]
        }
      ]
    },
    {
      "cell_type": "code",
      "source": [
        "RF = [accuracyRF,macro_precision,weighted_precision,macro_recall,weighted_recall,macro_f1,weighted_f1]"
      ],
      "metadata": {
        "id": "3On9RetLEq8Q"
      },
      "execution_count": 98,
      "outputs": []
    },
    {
      "cell_type": "markdown",
      "metadata": {
        "id": "IfVahwWyzL9B"
      },
      "source": [
        "#Gradient Boosting"
      ]
    },
    {
      "cell_type": "code",
      "execution_count": 99,
      "metadata": {
        "id": "_5MaOMvh1mVe"
      },
      "outputs": [],
      "source": [
        "from sklearn.metrics import accuracy_score, precision_score, recall_score, f1_score\n",
        "\n",
        "\n",
        "from xgboost import XGBClassifier\n",
        "from sklearn.ensemble import GradientBoostingClassifier\n",
        "\n",
        "model_XGBoost = XGBClassifier(n_estimators=50)\n",
        "\n",
        "fit = model_XGBoost.fit(X_train, np.ravel(y_train))\n",
        "\n",
        "y_predXGB = model_XGBoost.predict(X_test)\n",
        "\n"
      ]
    },
    {
      "cell_type": "code",
      "source": [
        "accuracyXGB = accuracy_score(y_test, y_predXGB)\n",
        "print(\"Gradient Boosting Accuracy: {:.2f}%\".format(accuracyXGB * 100))\n",
        "\n",
        "macro_precision = precision_score(y_test, y_predXGB, average='macro')\n",
        "print(\"Gradient Boosting Macro Precision: {:.4f}\".format(macro_precision))\n",
        "\n",
        "weighted_precision = precision_score(y_test, y_predXGB, average='weighted')\n",
        "print(\"Gradient Boosting Weighted Precision: {:.4f}\".format(weighted_precision))\n",
        "\n",
        "macro_recall = recall_score(y_test, y_predXGB, average='macro')\n",
        "print(\"Gradient Boosting Macro Recall: {:.4f}\".format(macro_recall))\n",
        "\n",
        "weighted_recall = recall_score(y_test, y_predXGB, average='weighted')\n",
        "print(\"Gradient Boosting Weighted Recall: {:.4f}\".format(weighted_recall))\n",
        "\n",
        "macro_f1 = f1_score(y_test, y_predXGB, average='macro')\n",
        "print(\"Gradient Boosting Macro F1-Score: {:.4f}\".format(macro_f1))\n",
        "\n",
        "weighted_f1 = f1_score(y_test, y_predXGB, average='weighted')\n",
        "print(\"Gradient Boosting Weighted F1-Score: {:.4f}\".format(weighted_f1))\n",
        "\n",
        "cf_matrixXGB = confusion_matrix(y_test, y_predXGB)\n",
        "print(\"\\nGradient Boosting Confusion Matrix:\")\n",
        "print(cf_matrixXGB)\n",
        "\n",
        "print(\"\\nGradient Boosting Classification Report:\")\n",
        "print(classification_report(y_test, y_predXGB, digits=4))"
      ],
      "metadata": {
        "colab": {
          "base_uri": "https://localhost:8080/"
        },
        "id": "NPpm2Q0A5qnp",
        "outputId": "725d11f8-7feb-4598-b91b-fe5da1ffefc9"
      },
      "execution_count": 100,
      "outputs": [
        {
          "output_type": "stream",
          "name": "stdout",
          "text": [
            "Gradient Boosting Accuracy: 98.46%\n",
            "Gradient Boosting Macro Precision: 0.9671\n",
            "Gradient Boosting Weighted Precision: 0.9851\n",
            "Gradient Boosting Macro Recall: 0.9786\n",
            "Gradient Boosting Weighted Recall: 0.9846\n",
            "Gradient Boosting Macro F1-Score: 0.9723\n",
            "Gradient Boosting Weighted F1-Score: 0.9846\n",
            "\n",
            "Gradient Boosting Confusion Matrix:\n",
            "[[ 23   0   0   0   2]\n",
            " [  0 111   0   0   0]\n",
            " [  0   0  13   0   0]\n",
            " [  1   0   1  72   0]\n",
            " [  0   0   0   0  37]]\n",
            "\n",
            "Gradient Boosting Classification Report:\n",
            "              precision    recall  f1-score   support\n",
            "\n",
            "           0     0.9583    0.9200    0.9388        25\n",
            "           1     1.0000    1.0000    1.0000       111\n",
            "           2     0.9286    1.0000    0.9630        13\n",
            "           3     1.0000    0.9730    0.9863        74\n",
            "           4     0.9487    1.0000    0.9737        37\n",
            "\n",
            "    accuracy                         0.9846       260\n",
            "   macro avg     0.9671    0.9786    0.9723       260\n",
            "weighted avg     0.9851    0.9846    0.9846       260\n",
            "\n"
          ]
        }
      ]
    },
    {
      "cell_type": "code",
      "source": [
        "XGB = [accuracyXGB,macro_precision,weighted_precision,macro_recall,weighted_recall,macro_f1,weighted_f1]"
      ],
      "metadata": {
        "id": "M-wA5zSCE0Oh"
      },
      "execution_count": 101,
      "outputs": []
    },
    {
      "cell_type": "markdown",
      "metadata": {
        "id": "TszPonBFi8UQ"
      },
      "source": [
        "#Max Voting Ensemble Learning"
      ]
    },
    {
      "cell_type": "code",
      "execution_count": 102,
      "metadata": {
        "id": "TxzrZTAvjNWg"
      },
      "outputs": [],
      "source": [
        "from sklearn.metrics import accuracy_score, precision_score, recall_score, f1_score\n",
        "from sklearn.ensemble import VotingClassifier\n",
        "\n",
        "models = [('RandomForest', modelRF), ('LogisticRegression', modelLR), ('XGBoost', model_XGBoost)]\n",
        "\n",
        "voting_clf = VotingClassifier(estimators=models, voting='hard')\n",
        "\n",
        "voting_clf.fit(X_train, np.ravel(y_train))\n",
        "\n",
        "y_pred_max_ensemble = voting_clf.predict(X_test)\n",
        "\n"
      ]
    },
    {
      "cell_type": "code",
      "source": [
        "accuracyMV = accuracy_score(y_test, y_pred_max_ensemble)\n",
        "print(\"Max Voting Ensemble Accuracy: {:.2f}%\".format(accuracyMV * 100))\n",
        "\n",
        "macro_precision = precision_score(y_test, y_pred_max_ensemble, average='macro')\n",
        "print(\"Max Voting Ensemble Macro Precision: {:.4f}\".format(macro_precision))\n",
        "\n",
        "weighted_precision = precision_score(y_test, y_pred_max_ensemble, average='weighted')\n",
        "print(\"Max Voting Ensemble Weighted Precision: {:.4f}\".format(weighted_precision))\n",
        "\n",
        "macro_recall = recall_score(y_test,y_pred_max_ensemble, average='macro')\n",
        "print(\"Max Voting Ensemble Macro Recall: {:.4f}\".format(macro_recall))\n",
        "\n",
        "weighted_recall = recall_score(y_test, y_pred_max_ensemble, average='weighted')\n",
        "print(\"Max Voting Ensemble Weighted Recall: {:.4f}\".format(weighted_recall))\n",
        "\n",
        "macro_f1 = f1_score(y_test, y_pred_max_ensemble, average='macro')\n",
        "print(\"Max Voting Ensemble Macro F1-Score: {:.4f}\".format(macro_f1))\n",
        "\n",
        "weighted_f1 = f1_score(y_test, y_pred_max_ensemble, average='weighted')\n",
        "print(\"Max Voting Ensemble Weighted F1-Score: {:.4f}\".format(weighted_f1))\n",
        "\n",
        "cf_matrixMV = confusion_matrix(y_test, y_pred_max_ensemble)\n",
        "print(\"\\nMax Voting Ensemble Confusion Matrix:\")\n",
        "print(cf_matrixMV)\n",
        "\n",
        "print(\"\\nMax Voting Ensemble Classification Report:\")\n",
        "print(classification_report(y_test, y_pred_max_ensemble, digits=4))"
      ],
      "metadata": {
        "colab": {
          "base_uri": "https://localhost:8080/"
        },
        "id": "qKnpZOgS5thz",
        "outputId": "0fba1289-3ba4-48e4-e9be-64d7e0290835"
      },
      "execution_count": 103,
      "outputs": [
        {
          "output_type": "stream",
          "name": "stdout",
          "text": [
            "Max Voting Ensemble Accuracy: 98.46%\n",
            "Max Voting Ensemble Macro Precision: 0.9671\n",
            "Max Voting Ensemble Weighted Precision: 0.9851\n",
            "Max Voting Ensemble Macro Recall: 0.9786\n",
            "Max Voting Ensemble Weighted Recall: 0.9846\n",
            "Max Voting Ensemble Macro F1-Score: 0.9723\n",
            "Max Voting Ensemble Weighted F1-Score: 0.9846\n",
            "\n",
            "Max Voting Ensemble Confusion Matrix:\n",
            "[[ 23   0   0   0   2]\n",
            " [  0 111   0   0   0]\n",
            " [  0   0  13   0   0]\n",
            " [  1   0   1  72   0]\n",
            " [  0   0   0   0  37]]\n",
            "\n",
            "Max Voting Ensemble Classification Report:\n",
            "              precision    recall  f1-score   support\n",
            "\n",
            "           0     0.9583    0.9200    0.9388        25\n",
            "           1     1.0000    1.0000    1.0000       111\n",
            "           2     0.9286    1.0000    0.9630        13\n",
            "           3     1.0000    0.9730    0.9863        74\n",
            "           4     0.9487    1.0000    0.9737        37\n",
            "\n",
            "    accuracy                         0.9846       260\n",
            "   macro avg     0.9671    0.9786    0.9723       260\n",
            "weighted avg     0.9851    0.9846    0.9846       260\n",
            "\n"
          ]
        }
      ]
    },
    {
      "cell_type": "code",
      "source": [
        "MV = [accuracyMV,macro_precision,weighted_precision,macro_recall,weighted_recall,macro_f1,weighted_f1]"
      ],
      "metadata": {
        "id": "DTkMqSJvFDhx"
      },
      "execution_count": 104,
      "outputs": []
    },
    {
      "cell_type": "markdown",
      "metadata": {
        "id": "SSIC0ezTyYA-"
      },
      "source": [
        "# Average Voting Ensemble Learning"
      ]
    },
    {
      "cell_type": "code",
      "execution_count": 105,
      "metadata": {
        "id": "rul9_mkvAfoB"
      },
      "outputs": [],
      "source": [
        "from sklearn.metrics import accuracy_score, precision_score, recall_score, f1_score\n",
        "from sklearn.ensemble import VotingClassifier\n",
        "\n",
        "models = [('RandomForest', modelRF), ('LogisticRegression', modelLR), ('XGBoost', model_XGBoost)]\n",
        "\n",
        "voting_clf = VotingClassifier(estimators=models, voting='soft')\n",
        "\n",
        "voting_clf.fit(X_train, np.ravel(y_train))\n",
        "\n",
        "y_pred_avg_ensemble = voting_clf.predict(X_test)\n"
      ]
    },
    {
      "cell_type": "code",
      "source": [
        "accuracyAV = accuracy_score(y_test, y_pred_avg_ensemble)\n",
        "print(\"Average Voting Ensemble Accuracy: {:.2f}%\".format(accuracyAV * 100))\n",
        "\n",
        "macro_precision = precision_score(y_test, y_pred_avg_ensemble, average='macro')\n",
        "print(\"Average Voting Ensemble Macro Precision: {:.4f}\".format(macro_precision))\n",
        "\n",
        "weighted_precision = precision_score(y_test, y_pred_avg_ensemble, average='weighted')\n",
        "print(\"Average Voting Ensemble Weighted Precision: {:.4f}\".format(weighted_precision))\n",
        "\n",
        "macro_recall = recall_score(y_test,y_pred_avg_ensemble, average='macro')\n",
        "print(\"Average Voting Ensemble Macro Recall: {:.4f}\".format(macro_recall))\n",
        "\n",
        "weighted_recall = recall_score(y_test, y_pred_avg_ensemble, average='weighted')\n",
        "print(\"Average Voting Ensemble Weighted Recall: {:.4f}\".format(weighted_recall))\n",
        "\n",
        "macro_f1 = f1_score(y_test, y_pred_avg_ensemble, average='macro')\n",
        "print(\"Average Voting Ensemble Macro F1-Score: {:.4f}\".format(macro_f1))\n",
        "\n",
        "weighted_f1 = f1_score(y_test, y_pred_avg_ensemble, average='weighted')\n",
        "print(\"Average Voting Ensemble Weighted F1-Score: {:.4f}\".format(weighted_f1))\n",
        "\n",
        "cf_matrixAV = confusion_matrix(y_test, y_pred_avg_ensemble)\n",
        "print(\"\\nAverage Voting Ensemble Confusion Matrix:\")\n",
        "print(cf_matrixAV)\n",
        "\n",
        "print(\"\\nAverage Voting Ensemble Classification Report:\")\n",
        "print(classification_report(y_test, y_pred_avg_ensemble, digits=4))"
      ],
      "metadata": {
        "colab": {
          "base_uri": "https://localhost:8080/"
        },
        "id": "HmpH6jQ45xKH",
        "outputId": "e5a4ba61-ed11-4e09-d794-53522e4f3cc3"
      },
      "execution_count": 106,
      "outputs": [
        {
          "output_type": "stream",
          "name": "stdout",
          "text": [
            "Average Voting Ensemble Accuracy: 98.46%\n",
            "Average Voting Ensemble Macro Precision: 0.9671\n",
            "Average Voting Ensemble Weighted Precision: 0.9851\n",
            "Average Voting Ensemble Macro Recall: 0.9786\n",
            "Average Voting Ensemble Weighted Recall: 0.9846\n",
            "Average Voting Ensemble Macro F1-Score: 0.9723\n",
            "Average Voting Ensemble Weighted F1-Score: 0.9846\n",
            "\n",
            "Average Voting Ensemble Confusion Matrix:\n",
            "[[ 23   0   0   0   2]\n",
            " [  0 111   0   0   0]\n",
            " [  0   0  13   0   0]\n",
            " [  1   0   1  72   0]\n",
            " [  0   0   0   0  37]]\n",
            "\n",
            "Average Voting Ensemble Classification Report:\n",
            "              precision    recall  f1-score   support\n",
            "\n",
            "           0     0.9583    0.9200    0.9388        25\n",
            "           1     1.0000    1.0000    1.0000       111\n",
            "           2     0.9286    1.0000    0.9630        13\n",
            "           3     1.0000    0.9730    0.9863        74\n",
            "           4     0.9487    1.0000    0.9737        37\n",
            "\n",
            "    accuracy                         0.9846       260\n",
            "   macro avg     0.9671    0.9786    0.9723       260\n",
            "weighted avg     0.9851    0.9846    0.9846       260\n",
            "\n"
          ]
        }
      ]
    },
    {
      "cell_type": "code",
      "source": [
        "AV = [accuracyAV,macro_precision,weighted_precision,macro_recall,weighted_recall,macro_f1,weighted_f1]"
      ],
      "metadata": {
        "id": "eegLF06jFf37"
      },
      "execution_count": 107,
      "outputs": []
    },
    {
      "cell_type": "markdown",
      "source": [
        "# Representation"
      ],
      "metadata": {
        "id": "bzlZfass5yPm"
      }
    },
    {
      "cell_type": "code",
      "source": [
        "import matplotlib.pyplot as plt\n",
        "import numpy as np\n",
        "\n",
        "\n",
        "models=['Linear Regression','Random Forest','Gradient Boosting','Max Voting','Average Voting']\n",
        "\n",
        "acc=[LR[0],RF[0],XGB[0],MV[0],AV[0]]\n",
        "mPr=[LR[1],RF[1],XGB[1],MV[1],AV[1]]\n",
        "wPr=[LR[2],RF[2],XGB[2],MV[2],AV[2]]\n",
        "mR=[LR[3],RF[3],XGB[3],MV[3],AV[3]]\n",
        "wR=[LR[4],RF[4],XGB[4],MV[4],AV[4]]\n",
        "mF1=[LR[5],RF[5],XGB[5],MV[5],AV[5]]\n",
        "wF1=[LR[6],RF[6],XGB[6],MV[6],AV[6]]\n",
        "\n",
        "fig, ax = plt.subplots()\n",
        "\n",
        "bar_width = 0.1\n",
        "bar_positions = np.arange(len(models))\n",
        "\n",
        "ax.barh(bar_positions - 3 * bar_width, acc, bar_width, label='Accuracy')\n",
        "ax.barh(bar_positions - 2 * bar_width, mPr, bar_width, label='Macro\\nPrecision')\n",
        "ax.barh(bar_positions - bar_width, wPr, bar_width, label='Weighted\\nPrecision')\n",
        "ax.barh(bar_positions, mR, bar_width, label='Macro\\nRecall')\n",
        "ax.barh(bar_positions + bar_width, wR, bar_width, label='Weighted\\nRecall')\n",
        "ax.barh(bar_positions + 2 * bar_width, mF1, bar_width, label='Macro\\nF1 Score')\n",
        "ax.barh(bar_positions + 3 * bar_width, wF1, bar_width, label='Weighted\\nF1 Score')\n",
        "\n",
        "\n",
        "ax.set_yticks(bar_positions)\n",
        "ax.set_yticklabels(models, rotation=45, ha='right')\n",
        "ax.set_xlabel('Values')\n",
        "\n",
        "ax.legend()\n",
        "\n",
        "plt.xlim(0.955,1)\n",
        "plt.show()"
      ],
      "metadata": {
        "colab": {
          "base_uri": "https://localhost:8080/",
          "height": 456
        },
        "id": "VYPG1TFOMpfW",
        "outputId": "7b2c5536-2086-4daa-dd0a-e2ea4fd4d262"
      },
      "execution_count": 147,
      "outputs": [
        {
          "output_type": "display_data",
          "data": {
            "text/plain": [
              "<Figure size 640x480 with 1 Axes>"
            ],
            "image/png": "[encoded data removed]"
          },
          "metadata": {}
        }
      ]
    },
    {
      "cell_type": "code",
      "execution_count": 148,
      "metadata": {
        "colab": {
          "base_uri": "https://localhost:8080/",
          "height": 653
        },
        "id": "cpXbYJgCvrz7",
        "outputId": "4d83b7ba-beb8-475c-f497-52d37056f1f6"
      },
      "outputs": [
        {
          "output_type": "display_data",
          "data": {
            "text/plain": [
              "<Figure size 1200x800 with 1 Axes>"
            ],
            "image/png": "[encoded data removed]"
          },
          "metadata": {}
        }
      ],
      "source": [
        "fig, ax = plt.subplots(figsize=(12, 8))\n",
        "ax.axis('off')\n",
        "\n",
        "headers = ['Classifier', 'Accuracy', 'Macro Precision', 'Weighted Precision', 'Macro Recall', 'Weighted Recall', 'Macro F1 Score', 'Weighted F1 Score']\n",
        "\n",
        "data = list(zip(models, acc, mPr, wPr, mR, wR, mF1, wF1))\n",
        "\n",
        "formatted_data = []\n",
        "for row in data:\n",
        "    formatted_row = [row[0]] + [f'{value:.3f}' for value in row[1:]]\n",
        "    formatted_data.append(formatted_row)\n",
        "# print(formatted_data)\n",
        "\n",
        "table_cells = [ax.table(cellText=formatted_data, cellLoc='center', loc='center', colLabels=headers)]\n",
        "for cell in table_cells:\n",
        "    cell.auto_set_font_size(False)\n",
        "    cell.set_fontsize(7)\n",
        "\n",
        "plt.show()"
      ]
    }
  ],
  "metadata": {
    "colab": {
      "provenance": []
    },
    "kernelspec": {
      "display_name": "Python 3",
      "name": "python3"
    },
    "language_info": {
      "name": "python"
    }
  },
  "nbformat": 4,
  "nbformat_minor": 0
}