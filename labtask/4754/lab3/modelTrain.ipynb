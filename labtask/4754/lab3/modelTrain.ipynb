{
  "nbformat": 4,
  "nbformat_minor": 0,
  "metadata": {
    "colab": {
      "provenance": []
    },
    "kernelspec": {
      "name": "python3",
      "display_name": "Python 3"
    },
    "language_info": {
      "name": "python"
    }
  },
  "cells": [
    {
      "cell_type": "markdown",
      "source": [
        "#Prerequisite"
      ],
      "metadata": {
        "id": "xgWC0X2H0xzv"
      }
    },
    {
      "cell_type": "code",
      "execution_count": null,
      "metadata": {
        "colab": {
          "base_uri": "https://localhost:8080/"
        },
        "id": "Z0UR7O_pFXGk",
        "outputId": "8abc196e-9271-43c0-a729-f800bfa0cce2"
      },
      "outputs": [
        {
          "output_type": "stream",
          "name": "stdout",
          "text": [
            "Collecting scikit-learn-intelex\n",
            "  Downloading scikit_learn_intelex-2024.0.0-py310-none-manylinux1_x86_64.whl (136 kB)\n",
            "\u001b[2K     \u001b[90m━━━━━━━━━━━━━━━━━━━━━━━━━━━━━━━━━━━━━━━━\u001b[0m \u001b[32m136.2/136.2 kB\u001b[0m \u001b[31m2.2 MB/s\u001b[0m eta \u001b[36m0:00:00\u001b[0m\n",
            "\u001b[?25hCollecting daal4py==2024.0.0 (from scikit-learn-intelex)\n",
            "  Downloading daal4py-2024.0.0-py310-none-manylinux1_x86_64.whl (10.0 MB)\n",
            "\u001b[2K     \u001b[90m━━━━━━━━━━━━━━━━━━━━━━━━━━━━━━━━━━━━━━━━\u001b[0m \u001b[32m10.0/10.0 MB\u001b[0m \u001b[31m17.0 MB/s\u001b[0m eta \u001b[36m0:00:00\u001b[0m\n",
            "\u001b[?25hRequirement already satisfied: scikit-learn>=0.22 in /usr/local/lib/python3.10/dist-packages (from scikit-learn-intelex) (1.2.2)\n",
            "Collecting daal==2024.0.0 (from daal4py==2024.0.0->scikit-learn-intelex)\n",
            "  Downloading daal-2024.0.0-py2.py3-none-manylinux1_x86_64.whl (75.2 MB)\n",
            "\u001b[2K     \u001b[90m━━━━━━━━━━━━━━━━━━━━━━━━━━━━━━━━━━━━━━━━\u001b[0m \u001b[32m75.2/75.2 MB\u001b[0m \u001b[31m10.7 MB/s\u001b[0m eta \u001b[36m0:00:00\u001b[0m\n",
            "\u001b[?25hRequirement already satisfied: numpy>=1.19 in /usr/local/lib/python3.10/dist-packages (from daal4py==2024.0.0->scikit-learn-intelex) (1.23.5)\n",
            "Requirement already satisfied: tbb==2021.* in /usr/local/lib/python3.10/dist-packages (from daal==2024.0.0->daal4py==2024.0.0->scikit-learn-intelex) (2021.10.0)\n",
            "Requirement already satisfied: scipy>=1.3.2 in /usr/local/lib/python3.10/dist-packages (from scikit-learn>=0.22->scikit-learn-intelex) (1.11.3)\n",
            "Requirement already satisfied: joblib>=1.1.1 in /usr/local/lib/python3.10/dist-packages (from scikit-learn>=0.22->scikit-learn-intelex) (1.3.2)\n",
            "Requirement already satisfied: threadpoolctl>=2.0.0 in /usr/local/lib/python3.10/dist-packages (from scikit-learn>=0.22->scikit-learn-intelex) (3.2.0)\n",
            "Installing collected packages: daal, daal4py, scikit-learn-intelex\n",
            "Successfully installed daal-2024.0.0 daal4py-2024.0.0 scikit-learn-intelex-2024.0.0\n"
          ]
        }
      ],
      "source": [
        "!pip install scikit-learn-intelex"
      ]
    },
    {
      "cell_type": "code",
      "source": [
        "import os\n",
        "import numpy as np\n",
        "import pandas as pd\n",
        "from numpy import mean\n",
        "from numpy import std\n",
        "from sklearn.model_selection import train_test_split\n",
        "from sklearn.metrics import classification_report, confusion_matrix\n",
        "from sklearn import metrics\n",
        "from sklearn.preprocessing import StandardScaler\n",
        "from sklearn.linear_model import LogisticRegression\n",
        "from sklearn.model_selection import KFold\n",
        "from sklearn.model_selection import RepeatedKFold\n",
        "from sklearn.model_selection import cross_val_score"
      ],
      "metadata": {
        "id": "Vg8t7mD0Waa0"
      },
      "execution_count": null,
      "outputs": []
    },
    {
      "cell_type": "code",
      "source": [
        "#from google.colab import drive\n",
        "!gdown 1d-n3DRMh8YZwAd5pxryRZMiqLKH4dPPo\n",
        "!gdown 1GzBgV34sITnhenBS-E21ZvQ9MU8SwMMa\n",
        "#drive.mount('/content/drive')"
      ],
      "metadata": {
        "colab": {
          "base_uri": "https://localhost:8080/"
        },
        "id": "UxOUlAOMWW6c",
        "outputId": "31714b85-dc1c-4dbe-e2d4-c4a0c402ae99"
      },
      "execution_count": null,
      "outputs": [
        {
          "output_type": "stream",
          "name": "stdout",
          "text": [
            "Downloading...\n",
            "From: https://drive.google.com/uc?id=1d-n3DRMh8YZwAd5pxryRZMiqLKH4dPPo\n",
            "To: /content/labels1.csv\n",
            "100% 3.89k/3.89k [00:00<00:00, 17.5MB/s]\n",
            "Downloading...\n",
            "From: https://drive.google.com/uc?id=1GzBgV34sITnhenBS-E21ZvQ9MU8SwMMa\n",
            "To: /content/data1.csv\n",
            "100% 824M/824M [00:10<00:00, 75.7MB/s]\n"
          ]
        }
      ]
    },
    {
      "cell_type": "code",
      "source": [
        "data = pd.read_csv(\"/content/data1.csv\")"
      ],
      "metadata": {
        "id": "juWSjjIdKYFu"
      },
      "execution_count": null,
      "outputs": []
    },
    {
      "cell_type": "code",
      "source": [
        "labels = pd.read_csv(\"/content/labels1.csv\")"
      ],
      "metadata": {
        "id": "2yB0cLVDfbli"
      },
      "execution_count": null,
      "outputs": []
    },
    {
      "cell_type": "code",
      "source": [
        "data.info"
      ],
      "metadata": {
        "colab": {
          "base_uri": "https://localhost:8080/"
        },
        "id": "ZY_HzIsbgNq2",
        "outputId": "601a47dd-b647-43e2-c82d-6fc5af39020f"
      },
      "execution_count": null,
      "outputs": [
        {
          "output_type": "execute_result",
          "data": {
            "text/plain": [
              "<bound method DataFrame.info of                         Unnamed: 0  ENSG00000000003.15  ENSG00000000005.6  \\\n",
              "0     TCGA-AJ-A3NH-11A-11R-A22K-07            1.565076           0.066810   \n",
              "1     TCGA-AX-A05Y-11A-11R-A27V-07            0.975542           0.159958   \n",
              "2     TCGA-FL-A1YN-11A-11R-A32Y-07            1.277174           0.058654   \n",
              "3     TCGA-FL-A1YU-11A-11R-A32Y-07            1.319747           0.039811   \n",
              "4     TCGA-AJ-A3NC-11A-11R-A22K-07            1.017179           0.158393   \n",
              "...                            ...                 ...                ...   \n",
              "1292  TCGA-JY-A93C-01A-11R-A38D-31            1.536423           0.003977   \n",
              "1293  TCGA-JY-A6FH-01A-11R-A336-31            0.789686           0.003762   \n",
              "1294  TCGA-L5-A8NF-01A-11R-A37I-31            0.755745           0.000000   \n",
              "1295  TCGA-VR-AA4D-01A-11R-A37I-31            1.252630           0.007961   \n",
              "1296  TCGA-IG-A3QL-01A-11R-A24K-31            1.400346           0.003331   \n",
              "\n",
              "      ENSG00000000419.13  ENSG00000000457.14  ENSG00000000460.17  \\\n",
              "0               1.497444            0.571010            0.208603   \n",
              "1               1.529378            0.449864            0.149527   \n",
              "2               1.479356            0.511843            0.158634   \n",
              "3               1.404088            0.500044            0.323706   \n",
              "4               1.478722            0.499330            0.224740   \n",
              "...                  ...                 ...                 ...   \n",
              "1292            1.715027            0.641315            0.419195   \n",
              "1293            1.551599            0.712902            0.547024   \n",
              "1294            1.712190            0.577135            0.408325   \n",
              "1295            1.732420            0.550020            0.521033   \n",
              "1296            1.685742            0.505733            0.633014   \n",
              "\n",
              "      ENSG00000000938.13  ENSG00000000971.16  ENSG00000001036.14  \\\n",
              "0               0.375005            0.668060            1.204150   \n",
              "1               1.064630            0.867756            1.121225   \n",
              "2               0.969211            0.626956            1.202036   \n",
              "3               0.561197            0.453119            1.435132   \n",
              "4               1.097223            0.919753            1.043115   \n",
              "...                  ...                 ...                 ...   \n",
              "1292            0.445962            0.903443            1.271923   \n",
              "1293            0.219794            0.269933            1.023684   \n",
              "1294            0.383115            0.634014            1.361932   \n",
              "1295            0.106904            0.247924            1.382482   \n",
              "1296            0.158121            0.621488            0.987107   \n",
              "\n",
              "      ENSG00000001084.13  ...  ENSG00000288661.1  ENSG00000288662.1  \\\n",
              "0               1.722480  ...                  0           0.000000   \n",
              "1               0.649082  ...                  0           0.000000   \n",
              "2               0.873094  ...                  0           0.000000   \n",
              "3               1.504668  ...                  0           0.000000   \n",
              "4               0.511696  ...                  0           0.000000   \n",
              "...                  ...  ...                ...                ...   \n",
              "1292            1.029838  ...                  0           0.162266   \n",
              "1293            0.686091  ...                  0           0.000000   \n",
              "1294            0.788409  ...                  0           0.502905   \n",
              "1295            0.932955  ...                  0           0.414338   \n",
              "1296            1.558346  ...                  0           0.195069   \n",
              "\n",
              "      ENSG00000288663.1  ENSG00000288665.1  ENSG00000288667.1  \\\n",
              "0              0.070629                  0           0.000000   \n",
              "1              0.029059                  0           0.000000   \n",
              "2              0.022882                  0           0.000000   \n",
              "3              0.083288                  0           0.000000   \n",
              "4              0.044344                  0           0.000000   \n",
              "...                 ...                ...                ...   \n",
              "1292           0.087852                  0           0.368622   \n",
              "1293           0.049140                  0           0.265879   \n",
              "1294           0.071440                  0           0.341078   \n",
              "1295           0.071919                  0           0.160948   \n",
              "1296           0.013596                  0           0.192484   \n",
              "\n",
              "      ENSG00000288669.1  ENSG00000288670.1  ENSG00000288671.1  \\\n",
              "0              0.002684           0.771051                  0   \n",
              "1              0.000000           0.685150                  0   \n",
              "2              0.000000           0.638120                  0   \n",
              "3              0.000000           0.500675                  0   \n",
              "4              0.000000           0.717820                  0   \n",
              "...                 ...                ...                ...   \n",
              "1292           0.000000           0.458305                  0   \n",
              "1293           0.000000           0.627642                  0   \n",
              "1294           0.000000           0.816274                  0   \n",
              "1295           0.001474           0.498352                  0   \n",
              "1296           0.000000           0.719505                  0   \n",
              "\n",
              "      ENSG00000288674.1  ENSG00000288675.1  \n",
              "0              0.009876           0.170878  \n",
              "1              0.003934           0.016657  \n",
              "2              0.005309           0.051924  \n",
              "3              0.003977           0.215743  \n",
              "4              0.006637           0.045519  \n",
              "...                 ...                ...  \n",
              "1292           0.012711           0.059033  \n",
              "1293           0.006936           0.177796  \n",
              "1294           0.013596           0.042969  \n",
              "1295           0.005524           0.111666  \n",
              "1296           0.004579           0.110657  \n",
              "\n",
              "[1297 rows x 60661 columns]>"
            ]
          },
          "metadata": {},
          "execution_count": 11
        }
      ]
    },
    {
      "cell_type": "code",
      "source": [
        "labels.info"
      ],
      "metadata": {
        "colab": {
          "base_uri": "https://localhost:8080/"
        },
        "id": "t_lB3RDPgQzf",
        "outputId": "4f572165-c27b-4a0a-ed25-72e1c252b8a9"
      },
      "execution_count": null,
      "outputs": [
        {
          "output_type": "execute_result",
          "data": {
            "text/plain": [
              "<bound method DataFrame.info of       0\n",
              "0     0\n",
              "1     0\n",
              "2     0\n",
              "3     0\n",
              "4     0\n",
              "...  ..\n",
              "1291  4\n",
              "1292  4\n",
              "1293  4\n",
              "1294  4\n",
              "1295  4\n",
              "\n",
              "[1296 rows x 1 columns]>"
            ]
          },
          "metadata": {},
          "execution_count": 12
        }
      ]
    },
    {
      "cell_type": "code",
      "source": [
        "columns_to_remove = []\n",
        "for i in range(len(data.columns)):\n",
        "  if(data.columns[i].find(\"Unnamed\")>=0):\n",
        "    columns_to_remove.append(data.columns[i])\n",
        "data = data.drop(labels = columns_to_remove, axis = 1, inplace = False)\n",
        "\n",
        "# this removes any row that has even a single null value\n",
        "#data = data.dropna()\n",
        "\n",
        "# To remove only the rows where all values are null\n",
        "#data = data.dropna(how='all')\n",
        "\n",
        "# Remove rows with null values only in the 'column_name' column\n",
        "#data = data.dropna(subset=['column_name'])"
      ],
      "metadata": {
        "id": "XA3AUw2ogdyY"
      },
      "execution_count": null,
      "outputs": []
    },
    {
      "cell_type": "code",
      "source": [
        "X = data.values\n",
        "y = labels.values\n",
        "X = X[:-1]\n",
        "print(\"(Dataset) (Label):\",X.shape,y.shape)"
      ],
      "metadata": {
        "colab": {
          "base_uri": "https://localhost:8080/"
        },
        "id": "-XNm1i5ogoe5",
        "outputId": "a6669289-eb9a-4544-924e-c522fa6426e3"
      },
      "execution_count": null,
      "outputs": [
        {
          "output_type": "stream",
          "name": "stdout",
          "text": [
            "(Dataset) (Label): (1296, 60660) (1296, 1)\n"
          ]
        }
      ]
    },
    {
      "cell_type": "code",
      "source": [
        "X_train, X_test, y_train, y_test = train_test_split(X, y, test_size = 0.20, random_state =7, shuffle = True, stratify = y)\n",
        "# We need random_state so that using that same seed, we can reproduce the exact same results later\n",
        "# We need startify to balance the split. Else, the train data might have too many values of a particular class,\n",
        "# and too less value of another class. This can later on create overfitting or underfitting\n",
        "\n",
        "# Print dimension of training/test dataset and labels.\n",
        "print(\"Train Set: \",X_train.shape,y_train.shape)\n",
        "print(\"Test Set: \",X_test.shape,y_test.shape)"
      ],
      "metadata": {
        "colab": {
          "base_uri": "https://localhost:8080/"
        },
        "id": "lMR8QfTrgqAW",
        "outputId": "90039e5d-bdaa-4288-82e1-1250a387e11e"
      },
      "execution_count": null,
      "outputs": [
        {
          "output_type": "stream",
          "name": "stdout",
          "text": [
            "Train Set:  (1036, 60660) (1036, 1)\n",
            "Test Set:  (260, 60660) (260, 1)\n"
          ]
        }
      ]
    },
    {
      "cell_type": "code",
      "source": [
        "# Normalize Standardize features by removing the mean and scaling to unit variance.\n",
        "\n",
        "sc = StandardScaler()\n",
        "X_train = sc.fit_transform(X_train)\n",
        "X_test = sc.transform (X_test)"
      ],
      "metadata": {
        "id": "1msuJ9eRhZoP"
      },
      "execution_count": null,
      "outputs": []
    },
    {
      "cell_type": "markdown",
      "source": [
        "#Logistic Regression"
      ],
      "metadata": {
        "id": "e7fhdSXEzAlo"
      }
    },
    {
      "cell_type": "code",
      "source": [
        "from sklearn.metrics import accuracy_score, precision_score, recall_score, f1_score\n",
        "\n",
        "# Initialize the Logistic Regression model\n",
        "modelLR = LogisticRegression(max_iter=1000, C=20, penalty=\"l2\", random_state=17, solver=\"lbfgs\")\n",
        "fit = modelLR.fit(X_train, np.ravel(y_train))\n",
        "\n",
        "# Make predictions on the test set\n",
        "y_pred = modelLR.predict(X_test)\n",
        "\n",
        "# Calculate and print accuracy\n",
        "accuracy = accuracy_score(y_test, y_pred)\n",
        "print(\"Accuracy: {:.2f}%\".format(accuracy * 100))\n",
        "\n",
        "# Calculate and print macro precision\n",
        "macro_precision = precision_score(y_test, y_pred, average='macro')\n",
        "print(\"Macro Precision: {:.4f}\".format(macro_precision))\n",
        "\n",
        "# Calculate and print weighted precision\n",
        "weighted_precision = precision_score(y_test, y_pred, average='weighted')\n",
        "print(\"Weighted Precision: {:.4f}\".format(weighted_precision))\n",
        "\n",
        "# Calculate and print macro recall\n",
        "macro_recall = recall_score(y_test, y_pred, average='macro')\n",
        "print(\"Macro Recall: {:.4f}\".format(macro_recall))\n",
        "\n",
        "# Calculate and print weighted recall\n",
        "weighted_recall = recall_score(y_test, y_pred, average='weighted')\n",
        "print(\"Weighted Recall: {:.4f}\".format(weighted_recall))\n",
        "\n",
        "# Calculate and print macro F1-score\n",
        "macro_f1 = f1_score(y_test, y_pred, average='macro')\n",
        "print(\"Macro F1-Score: {:.4f}\".format(macro_f1))\n",
        "\n",
        "# Calculate and print weighted F1-score\n",
        "weighted_f1 = f1_score(y_test, y_pred, average='weighted')\n",
        "print(\"Weighted F1-Score: {:.4f}\".format(weighted_f1))\n",
        "\n",
        "# Display confusion matrix\n",
        "cf_matrix = confusion_matrix(y_test, y_pred)\n",
        "print(\"\\nConfusion Matrix:\")\n",
        "print(cf_matrix)\n",
        "\n",
        "# Display classification report\n",
        "print(\"\\nClassification Report:\")\n",
        "print(classification_report(y_test, y_pred, digits=4))"
      ],
      "metadata": {
        "colab": {
          "base_uri": "https://localhost:8080/",
          "height": 245
        },
        "id": "NKqcHfJhh2Nd",
        "outputId": "4a253c7e-e4f7-4210-822a-66818740c6d5"
      },
      "execution_count": null,
      "outputs": [
        {
          "output_type": "error",
          "ename": "NameError",
          "evalue": "ignored",
          "traceback": [
            "\u001b[0;31m---------------------------------------------------------------------------\u001b[0m",
            "\u001b[0;31mNameError\u001b[0m                                 Traceback (most recent call last)",
            "\u001b[0;32m<ipython-input-1-3b34e66d2f42>\u001b[0m in \u001b[0;36m<cell line: 4>\u001b[0;34m()\u001b[0m\n\u001b[1;32m      2\u001b[0m \u001b[0;34m\u001b[0m\u001b[0m\n\u001b[1;32m      3\u001b[0m \u001b[0;31m# Initialize the Logistic Regression model\u001b[0m\u001b[0;34m\u001b[0m\u001b[0;34m\u001b[0m\u001b[0m\n\u001b[0;32m----> 4\u001b[0;31m \u001b[0mmodelLR\u001b[0m \u001b[0;34m=\u001b[0m \u001b[0mLogisticRegression\u001b[0m\u001b[0;34m(\u001b[0m\u001b[0mmax_iter\u001b[0m\u001b[0;34m=\u001b[0m\u001b[0;36m1000\u001b[0m\u001b[0;34m,\u001b[0m \u001b[0mC\u001b[0m\u001b[0;34m=\u001b[0m\u001b[0;36m20\u001b[0m\u001b[0;34m,\u001b[0m \u001b[0mpenalty\u001b[0m\u001b[0;34m=\u001b[0m\u001b[0;34m\"l2\"\u001b[0m\u001b[0;34m,\u001b[0m \u001b[0mrandom_state\u001b[0m\u001b[0;34m=\u001b[0m\u001b[0;36m17\u001b[0m\u001b[0;34m,\u001b[0m \u001b[0msolver\u001b[0m\u001b[0;34m=\u001b[0m\u001b[0;34m\"lbfgs\"\u001b[0m\u001b[0;34m)\u001b[0m\u001b[0;34m\u001b[0m\u001b[0;34m\u001b[0m\u001b[0m\n\u001b[0m\u001b[1;32m      5\u001b[0m \u001b[0mfit\u001b[0m \u001b[0;34m=\u001b[0m \u001b[0mmodelLR\u001b[0m\u001b[0;34m.\u001b[0m\u001b[0mfit\u001b[0m\u001b[0;34m(\u001b[0m\u001b[0mX_train\u001b[0m\u001b[0;34m,\u001b[0m \u001b[0mnp\u001b[0m\u001b[0;34m.\u001b[0m\u001b[0mravel\u001b[0m\u001b[0;34m(\u001b[0m\u001b[0my_train\u001b[0m\u001b[0;34m)\u001b[0m\u001b[0;34m)\u001b[0m\u001b[0;34m\u001b[0m\u001b[0;34m\u001b[0m\u001b[0m\n\u001b[1;32m      6\u001b[0m \u001b[0;34m\u001b[0m\u001b[0m\n",
            "\u001b[0;31mNameError\u001b[0m: name 'LogisticRegression' is not defined"
          ]
        }
      ]
    },
    {
      "cell_type": "markdown",
      "source": [],
      "metadata": {
        "id": "y-cXv16ZzDaa"
      }
    },
    {
      "cell_type": "markdown",
      "source": [
        "#Decision Tree"
      ],
      "metadata": {
        "id": "ZdA6knNmzGEy"
      }
    },
    {
      "cell_type": "code",
      "source": [
        "from sklearn.metrics import accuracy_score, precision_score, recall_score, f1_score\n",
        "\n",
        "from sklearn.tree import DecisionTreeClassifier\n",
        "\n",
        "# Initialize the Logistic Regression model\n",
        "modelDT = DecisionTreeClassifier(random_state = 17)\n",
        "fit = modelDT.fit(X_train, np.ravel(y_train))\n",
        "\n",
        "# Make predictions on the test set\n",
        "y_pred = modelDT.predict(X_test)\n",
        "\n",
        "# Calculate and print accuracy\n",
        "accuracy = accuracy_score(y_test, y_pred)\n",
        "print(\"Accuracy: {:.2f}%\".format(accuracy * 100))\n",
        "\n",
        "# Calculate and print macro precision\n",
        "macro_precision = precision_score(y_test, y_pred, average='macro')\n",
        "print(\"Macro Precision: {:.4f}\".format(macro_precision))\n",
        "\n",
        "# Calculate and print weighted precision\n",
        "weighted_precision = precision_score(y_test, y_pred, average='weighted')\n",
        "print(\"Weighted Precision: {:.4f}\".format(weighted_precision))\n",
        "\n",
        "# Calculate and print macro recall\n",
        "macro_recall = recall_score(y_test, y_pred, average='macro')\n",
        "print(\"Macro Recall: {:.4f}\".format(macro_recall))\n",
        "\n",
        "# Calculate and print weighted recall\n",
        "weighted_recall = recall_score(y_test, y_pred, average='weighted')\n",
        "print(\"Weighted Recall: {:.4f}\".format(weighted_recall))\n",
        "\n",
        "# Calculate and print macro F1-score\n",
        "macro_f1 = f1_score(y_test, y_pred, average='macro')\n",
        "print(\"Macro F1-Score: {:.4f}\".format(macro_f1))\n",
        "\n",
        "# Calculate and print weighted F1-score\n",
        "weighted_f1 = f1_score(y_test, y_pred, average='weighted')\n",
        "print(\"Weighted F1-Score: {:.4f}\".format(weighted_f1))\n",
        "\n",
        "# Display confusion matrix\n",
        "cf_matrix = confusion_matrix(y_test, y_pred)\n",
        "print(\"\\nConfusion Matrix:\")\n",
        "print(cf_matrix)\n",
        "\n",
        "# Display classification report\n",
        "print(\"\\nClassification Report:\")\n",
        "print(classification_report(y_test, y_pred, digits=4))"
      ],
      "metadata": {
        "colab": {
          "base_uri": "https://localhost:8080/"
        },
        "id": "4NdObtVhzS9k",
        "outputId": "f10f8662-90d8-4957-a29a-02e44212d135"
      },
      "execution_count": null,
      "outputs": [
        {
          "output_type": "stream",
          "name": "stdout",
          "text": [
            "Accuracy: 95.38%\n",
            "Macro Precision: 0.9271\n",
            "Weighted Precision: 0.9541\n",
            "Macro Recall: 0.9420\n",
            "Weighted Recall: 0.9538\n",
            "Macro F1-Score: 0.9341\n",
            "Weighted F1-Score: 0.9537\n",
            "\n",
            "Confusion Matrix:\n",
            "[[ 20   1   0   3   1]\n",
            " [  2 107   0   0   2]\n",
            " [  0   0  13   0   0]\n",
            " [  1   0   1  72   0]\n",
            " [  1   0   0   0  36]]\n",
            "\n",
            "Classification Report:\n",
            "              precision    recall  f1-score   support\n",
            "\n",
            "           0     0.8333    0.8000    0.8163        25\n",
            "           1     0.9907    0.9640    0.9772       111\n",
            "           2     0.9286    1.0000    0.9630        13\n",
            "           3     0.9600    0.9730    0.9664        74\n",
            "           4     0.9231    0.9730    0.9474        37\n",
            "\n",
            "    accuracy                         0.9538       260\n",
            "   macro avg     0.9271    0.9420    0.9341       260\n",
            "weighted avg     0.9541    0.9538    0.9537       260\n",
            "\n"
          ]
        }
      ]
    },
    {
      "cell_type": "markdown",
      "source": [
        "#Random Forest"
      ],
      "metadata": {
        "id": "__BrFdApzIcV"
      }
    },
    {
      "cell_type": "code",
      "source": [
        "from sklearn.metrics import accuracy_score, precision_score, recall_score, f1_score\n",
        "\n",
        "from sklearn.ensemble import RandomForestClassifier\n",
        "\n",
        "# Initialize the Logistic Regression model\n",
        "modelRF = RandomForestClassifier(n_estimators = 500, criterion=\"entropy\", min_samples_split = 2, min_samples_leaf= 1, max_features = 'sqrt', max_depth= 50, bootstrap=False, n_jobs=-1)\n",
        "fit = modelRF.fit(X_train, np.ravel(y_train))\n",
        "\n",
        "# Make predictions on the test set\n",
        "y_pred = modelRF.predict(X_test)\n",
        "\n",
        "# Calculate and print accuracy\n",
        "accuracy = accuracy_score(y_test, y_pred)\n",
        "print(\"Accuracy: {:.2f}%\".format(accuracy * 100))\n",
        "\n",
        "# Calculate and print macro precision\n",
        "macro_precision = precision_score(y_test, y_pred, average='macro')\n",
        "print(\"Macro Precision: {:.4f}\".format(macro_precision))\n",
        "\n",
        "# Calculate and print weighted precision\n",
        "weighted_precision = precision_score(y_test, y_pred, average='weighted')\n",
        "print(\"Weighted Precision: {:.4f}\".format(weighted_precision))\n",
        "\n",
        "# Calculate and print macro recall\n",
        "macro_recall = recall_score(y_test, y_pred, average='macro')\n",
        "print(\"Macro Recall: {:.4f}\".format(macro_recall))\n",
        "\n",
        "# Calculate and print weighted recall\n",
        "weighted_recall = recall_score(y_test, y_pred, average='weighted')\n",
        "print(\"Weighted Recall: {:.4f}\".format(weighted_recall))\n",
        "\n",
        "# Calculate and print macro F1-score\n",
        "macro_f1 = f1_score(y_test, y_pred, average='macro')\n",
        "print(\"Macro F1-Score: {:.4f}\".format(macro_f1))\n",
        "\n",
        "# Calculate and print weighted F1-score\n",
        "weighted_f1 = f1_score(y_test, y_pred, average='weighted')\n",
        "print(\"Weighted F1-Score: {:.4f}\".format(weighted_f1))\n",
        "\n",
        "# Display confusion matrix\n",
        "cf_matrix = confusion_matrix(y_test, y_pred)\n",
        "print(\"\\nConfusion Matrix:\")\n",
        "print(cf_matrix)\n",
        "\n",
        "# Display classification report\n",
        "print(\"\\nClassification Report:\")\n",
        "print(classification_report(y_test, y_pred, digits=4))"
      ],
      "metadata": {
        "colab": {
          "base_uri": "https://localhost:8080/"
        },
        "id": "peH4NaKV1kkF",
        "outputId": "808fab0f-a20b-4393-f83b-c07a08662f43"
      },
      "execution_count": null,
      "outputs": [
        {
          "output_type": "stream",
          "name": "stdout",
          "text": [
            "Accuracy: 98.46%\n",
            "Macro Precision: 0.9671\n",
            "Weighted Precision: 0.9851\n",
            "Macro Recall: 0.9786\n",
            "Weighted Recall: 0.9846\n",
            "Macro F1-Score: 0.9723\n",
            "Weighted F1-Score: 0.9846\n",
            "\n",
            "Confusion Matrix:\n",
            "[[ 23   0   0   0   2]\n",
            " [  0 111   0   0   0]\n",
            " [  0   0  13   0   0]\n",
            " [  1   0   1  72   0]\n",
            " [  0   0   0   0  37]]\n",
            "\n",
            "Classification Report:\n",
            "              precision    recall  f1-score   support\n",
            "\n",
            "           0     0.9583    0.9200    0.9388        25\n",
            "           1     1.0000    1.0000    1.0000       111\n",
            "           2     0.9286    1.0000    0.9630        13\n",
            "           3     1.0000    0.9730    0.9863        74\n",
            "           4     0.9487    1.0000    0.9737        37\n",
            "\n",
            "    accuracy                         0.9846       260\n",
            "   macro avg     0.9671    0.9786    0.9723       260\n",
            "weighted avg     0.9851    0.9846    0.9846       260\n",
            "\n"
          ]
        }
      ]
    },
    {
      "cell_type": "markdown",
      "source": [
        "#KNN"
      ],
      "metadata": {
        "id": "YahBPD0nzKcH"
      }
    },
    {
      "cell_type": "code",
      "source": [
        "from sklearn.metrics import accuracy_score, precision_score, recall_score, f1_score\n",
        "\n",
        "from sklearn.neighbors import KNeighborsClassifier\n",
        "\n",
        "# Initialize the Logistic Regression model\n",
        "model_KNN = KNeighborsClassifier (n_neighbors = 7)\n",
        "fit = model_KNN.fit(X_train, np.ravel(y_train))\n",
        "\n",
        "# Make predictions on the test set\n",
        "y_pred = model_KNN.predict(X_test)\n",
        "\n",
        "# Calculate and print accuracy\n",
        "accuracy = accuracy_score(y_test, y_pred)\n",
        "print(\"Accuracy: {:.2f}%\".format(accuracy * 100))\n",
        "\n",
        "# Calculate and print macro precision\n",
        "macro_precision = precision_score(y_test, y_pred, average='macro')\n",
        "print(\"Macro Precision: {:.4f}\".format(macro_precision))\n",
        "\n",
        "# Calculate and print weighted precision\n",
        "weighted_precision = precision_score(y_test, y_pred, average='weighted')\n",
        "print(\"Weighted Precision: {:.4f}\".format(weighted_precision))\n",
        "\n",
        "# Calculate and print macro recall\n",
        "macro_recall = recall_score(y_test, y_pred, average='macro')\n",
        "print(\"Macro Recall: {:.4f}\".format(macro_recall))\n",
        "\n",
        "# Calculate and print weighted recall\n",
        "weighted_recall = recall_score(y_test, y_pred, average='weighted')\n",
        "print(\"Weighted Recall: {:.4f}\".format(weighted_recall))\n",
        "\n",
        "# Calculate and print macro F1-score\n",
        "macro_f1 = f1_score(y_test, y_pred, average='macro')\n",
        "print(\"Macro F1-Score: {:.4f}\".format(macro_f1))\n",
        "\n",
        "# Calculate and print weighted F1-score\n",
        "weighted_f1 = f1_score(y_test, y_pred, average='weighted')\n",
        "print(\"Weighted F1-Score: {:.4f}\".format(weighted_f1))\n",
        "\n",
        "# Display confusion matrix\n",
        "cf_matrix = confusion_matrix(y_test, y_pred)\n",
        "print(\"\\nConfusion Matrix:\")\n",
        "print(cf_matrix)\n",
        "\n",
        "# Display classification report\n",
        "print(\"\\nClassification Report:\")\n",
        "print(classification_report(y_test, y_pred, digits=4))"
      ],
      "metadata": {
        "colab": {
          "base_uri": "https://localhost:8080/"
        },
        "id": "JC2Wi84T1lfX",
        "outputId": "ae14f9e4-dca6-4380-85e3-1557d2a0d375"
      },
      "execution_count": null,
      "outputs": [
        {
          "output_type": "stream",
          "name": "stdout",
          "text": [
            "Accuracy: 95.77%\n",
            "Macro Precision: 0.9274\n",
            "Weighted Precision: 0.9643\n",
            "Macro Recall: 0.9659\n",
            "Weighted Recall: 0.9577\n",
            "Macro F1-Score: 0.9432\n",
            "Weighted F1-Score: 0.9588\n",
            "\n",
            "Confusion Matrix:\n",
            "[[ 24   0   0   0   1]\n",
            " [  0 110   0   1   0]\n",
            " [  0   0  13   0   0]\n",
            " [  8   0   1  65   0]\n",
            " [  0   0   0   0  37]]\n",
            "\n",
            "Classification Report:\n",
            "              precision    recall  f1-score   support\n",
            "\n",
            "           0     0.7500    0.9600    0.8421        25\n",
            "           1     1.0000    0.9910    0.9955       111\n",
            "           2     0.9286    1.0000    0.9630        13\n",
            "           3     0.9848    0.8784    0.9286        74\n",
            "           4     0.9737    1.0000    0.9867        37\n",
            "\n",
            "    accuracy                         0.9577       260\n",
            "   macro avg     0.9274    0.9659    0.9432       260\n",
            "weighted avg     0.9643    0.9577    0.9588       260\n",
            "\n"
          ]
        }
      ]
    },
    {
      "cell_type": "markdown",
      "source": [
        "#Gradient Boosting"
      ],
      "metadata": {
        "id": "IfVahwWyzL9B"
      }
    },
    {
      "cell_type": "code",
      "source": [
        "from sklearn.metrics import accuracy_score, precision_score, recall_score, f1_score\n",
        "\n",
        "\n",
        "from xgboost import XGBClassifier\n",
        "from sklearn.ensemble import GradientBoostingClassifier\n",
        "\n",
        "# Initialize the Logistic Regression model\n",
        "model_XGBoost = XGBClassifier()\n",
        "\n",
        "fit = model_XGBoost.fit(X_train, np.ravel(y_train))\n",
        "\n",
        "# Make predictions on the test set\n",
        "y_pred = model_XGBoost.predict(X_test)\n",
        "\n",
        "# Calculate and print accuracy\n",
        "accuracy = accuracy_score(y_test, y_pred)\n",
        "print(\"Accuracy: {:.2f}%\".format(accuracy * 100))\n",
        "\n",
        "# Calculate and print macro precision\n",
        "macro_precision = precision_score(y_test, y_pred, average='macro')\n",
        "print(\"Macro Precision: {:.4f}\".format(macro_precision))\n",
        "\n",
        "# Calculate and print weighted precision\n",
        "weighted_precision = precision_score(y_test, y_pred, average='weighted')\n",
        "print(\"Weighted Precision: {:.4f}\".format(weighted_precision))\n",
        "\n",
        "# Calculate and print macro recall\n",
        "macro_recall = recall_score(y_test, y_pred, average='macro')\n",
        "print(\"Macro Recall: {:.4f}\".format(macro_recall))\n",
        "\n",
        "# Calculate and print weighted recall\n",
        "weighted_recall = recall_score(y_test, y_pred, average='weighted')\n",
        "print(\"Weighted Recall: {:.4f}\".format(weighted_recall))\n",
        "\n",
        "# Calculate and print macro F1-score\n",
        "macro_f1 = f1_score(y_test, y_pred, average='macro')\n",
        "print(\"Macro F1-Score: {:.4f}\".format(macro_f1))\n",
        "\n",
        "# Calculate and print weighted F1-score\n",
        "weighted_f1 = f1_score(y_test, y_pred, average='weighted')\n",
        "print(\"Weighted F1-Score: {:.4f}\".format(weighted_f1))\n",
        "\n",
        "# Display confusion matrix\n",
        "cf_matrix = confusion_matrix(y_test, y_pred)\n",
        "print(\"\\nConfusion Matrix:\")\n",
        "print(cf_matrix)\n",
        "\n",
        "# Display classification report\n",
        "print(\"\\nClassification Report:\")\n",
        "print(classification_report(y_test, y_pred, digits=4))"
      ],
      "metadata": {
        "colab": {
          "base_uri": "https://localhost:8080/"
        },
        "id": "_5MaOMvh1mVe",
        "outputId": "1b75e2e8-a764-41c9-c626-176311c00966"
      },
      "execution_count": null,
      "outputs": [
        {
          "output_type": "stream",
          "name": "stdout",
          "text": [
            "Accuracy: 98.46%\n",
            "Macro Precision: 0.9671\n",
            "Weighted Precision: 0.9851\n",
            "Macro Recall: 0.9786\n",
            "Weighted Recall: 0.9846\n",
            "Macro F1-Score: 0.9723\n",
            "Weighted F1-Score: 0.9846\n",
            "\n",
            "Confusion Matrix:\n",
            "[[ 23   0   0   0   2]\n",
            " [  0 111   0   0   0]\n",
            " [  0   0  13   0   0]\n",
            " [  1   0   1  72   0]\n",
            " [  0   0   0   0  37]]\n",
            "\n",
            "Classification Report:\n",
            "              precision    recall  f1-score   support\n",
            "\n",
            "           0     0.9583    0.9200    0.9388        25\n",
            "           1     1.0000    1.0000    1.0000       111\n",
            "           2     0.9286    1.0000    0.9630        13\n",
            "           3     1.0000    0.9730    0.9863        74\n",
            "           4     0.9487    1.0000    0.9737        37\n",
            "\n",
            "    accuracy                         0.9846       260\n",
            "   macro avg     0.9671    0.9786    0.9723       260\n",
            "weighted avg     0.9851    0.9846    0.9846       260\n",
            "\n"
          ]
        }
      ]
    },
    {
      "cell_type": "markdown",
      "source": [
        "#Support Vector Machine"
      ],
      "metadata": {
        "id": "vDT0N-L3zOYD"
      }
    },
    {
      "cell_type": "code",
      "source": [
        "from sklearn.metrics import accuracy_score, precision_score, recall_score, f1_score\n",
        "\n",
        "from sklearn.svm import SVC\n",
        "\n",
        "# Initialize the Logistic Regression model\n",
        "model_SVM = SVC(kernel='linear', C=1, tol=1e-5 , decision_function_shape='ovo',random_state=10)\n",
        "fit = model_SVM.fit(X_train, np.ravel(y_train))\n",
        "\n",
        "# Make predictions on the test set\n",
        "y_pred = model_SVM.predict(X_test)\n",
        "\n",
        "# Calculate and print accuracy\n",
        "accuracy = accuracy_score(y_test, y_pred)\n",
        "print(\"Accuracy: {:.2f}%\".format(accuracy * 100))\n",
        "\n",
        "# Calculate and print macro precision\n",
        "macro_precision = precision_score(y_test, y_pred, average='macro')\n",
        "print(\"Macro Precision: {:.4f}\".format(macro_precision))\n",
        "\n",
        "# Calculate and print weighted precision\n",
        "weighted_precision = precision_score(y_test, y_pred, average='weighted')\n",
        "print(\"Weighted Precision: {:.4f}\".format(weighted_precision))\n",
        "\n",
        "# Calculate and print macro recall\n",
        "macro_recall = recall_score(y_test, y_pred, average='macro')\n",
        "print(\"Macro Recall: {:.4f}\".format(macro_recall))\n",
        "\n",
        "# Calculate and print weighted recall\n",
        "weighted_recall = recall_score(y_test, y_pred, average='weighted')\n",
        "print(\"Weighted Recall: {:.4f}\".format(weighted_recall))\n",
        "\n",
        "# Calculate and print macro F1-score\n",
        "macro_f1 = f1_score(y_test, y_pred, average='macro')\n",
        "print(\"Macro F1-Score: {:.4f}\".format(macro_f1))\n",
        "\n",
        "# Calculate and print weighted F1-score\n",
        "weighted_f1 = f1_score(y_test, y_pred, average='weighted')\n",
        "print(\"Weighted F1-Score: {:.4f}\".format(weighted_f1))\n",
        "\n",
        "# Display confusion matrix\n",
        "cf_matrix = confusion_matrix(y_test, y_pred)\n",
        "print(\"\\nConfusion Matrix:\")\n",
        "print(cf_matrix)\n",
        "\n",
        "# Display classification report\n",
        "print(\"\\nClassification Report:\")\n",
        "print(classification_report(y_test, y_pred, digits=4))"
      ],
      "metadata": {
        "colab": {
          "base_uri": "https://localhost:8080/"
        },
        "id": "jXKlZytn1nDc",
        "outputId": "9bb894de-35a2-42c3-9502-f910ea7d2dc6"
      },
      "execution_count": null,
      "outputs": [
        {
          "output_type": "stream",
          "name": "stdout",
          "text": [
            "Accuracy: 98.08%\n",
            "Macro Precision: 0.9582\n",
            "Weighted Precision: 0.9820\n",
            "Macro Recall: 0.9812\n",
            "Weighted Recall: 0.9808\n",
            "Macro F1-Score: 0.9690\n",
            "Weighted F1-Score: 0.9809\n",
            "\n",
            "Confusion Matrix:\n",
            "[[ 24   0   0   0   1]\n",
            " [  0 111   0   0   0]\n",
            " [  0   0  13   0   0]\n",
            " [  3   0   1  70   0]\n",
            " [  0   0   0   0  37]]\n",
            "\n",
            "Classification Report:\n",
            "              precision    recall  f1-score   support\n",
            "\n",
            "           0     0.8889    0.9600    0.9231        25\n",
            "           1     1.0000    1.0000    1.0000       111\n",
            "           2     0.9286    1.0000    0.9630        13\n",
            "           3     1.0000    0.9459    0.9722        74\n",
            "           4     0.9737    1.0000    0.9867        37\n",
            "\n",
            "    accuracy                         0.9808       260\n",
            "   macro avg     0.9582    0.9812    0.9690       260\n",
            "weighted avg     0.9820    0.9808    0.9809       260\n",
            "\n"
          ]
        }
      ]
    }
  ]
}