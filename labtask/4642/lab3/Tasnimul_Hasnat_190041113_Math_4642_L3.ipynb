{
  "nbformat": 4,
  "nbformat_minor": 0,
  "metadata": {
    "colab": {
      "provenance": []
    },
    "kernelspec": {
      "name": "python3",
      "display_name": "Python 3"
    },
    "language_info": {
      "name": "python"
    }
  },
  "cells": [
    {
      "cell_type": "markdown",
      "source": [
        "# **Lab 3 : Newton's Divided Difference Interpolation**<br>\n",
        "\n",
        "Interpolation is the process of estimating unknown data that lies within the range of some known data. The **Newton's Divided Difference Interpolation** is one of the methods of performing this task. In order to interpolate unknown data, one needs to define a model that would fit the known data and based on that model, one would obtain the unknown data. This model would basically be a function that tries to satisfy the known data points. There can be various types of functions that may satisfy the same given data points, but for interpolation, we usually choose **polynomials** as interpolating functions due to the fact that polynomials are generalized and are very easy to evaluate, differentiate and integrate.\n",
        "\n",
        "In today's lab, we will be implementing the Newton's Divided Difference Interpolation in python. To test our implementation, we will be using the same data that we used during our class lectures. Run the following cell to load the known data points:\n"
      ],
      "metadata": {
        "id": "Dex_lDl5gUKB"
      }
    },
    {
      "cell_type": "code",
      "source": [
        "t = [0, 10, 15, 20, 22.5, 30]\n",
        "v = [0, 227.04, 362.78, 517.35, 602.97, 901.67]"
      ],
      "metadata": {
        "id": "_QpvT2CYjART"
      },
      "execution_count": 3,
      "outputs": []
    },
    {
      "cell_type": "markdown",
      "source": [
        "##Task 1\n",
        "Design a utility function that will be called in the Newton's Divided Difference function. The purpose of this function will be to find the n+1 closest points to the unknown value t_new where we want to interpolate the data, where n is the order of the interpolating polynomial. The function to be implemented is as follows:"
      ],
      "metadata": {
        "id": "_XU-vXFFzj4T"
      }
    },
    {
      "cell_type": "code",
      "source": [
        "def NearestPoints(t, v, n, t_new):\n",
        "    t_nearest = sorted(t, key=lambda x: abs(x - t_new))[:n+1]\n",
        "    v_nearest = [v[t.index(x)] for x in t_nearest]\n",
        "    return t_nearest, v_nearest  \n",
        "\n",
        "# def NearestPoints(t, v, n, t_new):\n",
        "#   #Write your implementation here\n",
        "#   id = []\n",
        "  \n",
        "#   for idx, val in enumerate(t):\n",
        "#     td = abs(val - t_new)\n",
        "#     id.append((td, idx))\n",
        "\n",
        "#   id = sorted(id)\n",
        "\n",
        "#   t_nearest, v_nearest = [], []\n",
        "\n",
        "#   for (val, idx) in id:\n",
        "#     t_nearest.append(t[idx])\n",
        "#     v_nearest.append(v[idx])\n",
        "\n",
        "#   return (t_nearest[: n + 1], v_nearest[: n + 1]) "
      ],
      "metadata": {
        "id": "xv0ziIB60ET8"
      },
      "execution_count": 4,
      "outputs": []
    },
    {
      "cell_type": "markdown",
      "source": [
        "The above function is supposed to return two vectors, say t_nearest and v_nearest consisting of n+1 elements each. For testing the working of the function, we can print the data and see what we are getting. Run the following cell to check this:"
      ],
      "metadata": {
        "id": "LHxyRNGa0RDb"
      }
    },
    {
      "cell_type": "code",
      "source": [
        "n = 1\n",
        "t_new = 16\n",
        "\n",
        "t_nearest, v_nearest = NearestPoints(t, v, n, t_new)\n",
        "print(t_nearest)\n",
        "print(v_nearest)"
      ],
      "metadata": {
        "id": "Ls-vZyV50zgq",
        "colab": {
          "base_uri": "https://localhost:8080/"
        },
        "outputId": "ece21ecb-d75f-4213-f2c0-e28fcab0a95a"
      },
      "execution_count": 5,
      "outputs": [
        {
          "output_type": "stream",
          "name": "stdout",
          "text": [
            "[15, 20]\n",
            "[362.78, 517.35]\n"
          ]
        }
      ]
    },
    {
      "cell_type": "markdown",
      "source": [
        "##Task 2\n",
        "Now your task is to design a generalized function that takes the given data as parameters as well as the order (n) of the polynomial and uses the Newton's Divided Difference Polynomial to interpolate the uknown data at t_new. The following cell contains the function to be implemented:"
      ],
      "metadata": {
        "id": "GzKLR0nkj32g"
      }
    },
    {
      "cell_type": "code",
      "source": [
        "def f(t, v, t_nearest, v_nearest, n, x_ed, x_st):\n",
        "  if x_ed == x_st:\n",
        "    return v_nearest[x_ed]\n",
        "  else:\n",
        "    numerator = f(t, v, t_nearest, v_nearest, n, x_ed, x_st + 1) - f(t, v, t_nearest, v_nearest, n, x_ed - 1, x_st)\n",
        "    denominator = t_nearest[x_ed] - t_nearest[x_st]\n",
        "    return numerator / denominator\n",
        "\n",
        "def NDD(t, v, n, t_new):\n",
        "  #Write your implementation here\n",
        "  \n",
        "  t_nearest, v_nearest = NearestPoints(t, v, n, t_new)\n",
        "  \n",
        "  ret = v_nearest[0]\n",
        "\n",
        "  mult = [1, t_new - t_nearest[0]]\n",
        "  for i in range(2, n):\n",
        "    mult.append(mult[-1] * (t_new - t_nearest[i]))\n",
        "\n",
        "  for i in range(1, n):\n",
        "\n",
        "    ret += f(t, v, t_nearest, v_nearest, n, i, 0) * mult[i]\n",
        "\n",
        "  return ret\n",
        "\n",
        "print(NDD(t, v, 5, 16))"
      ],
      "metadata": {
        "id": "2m1trUT_k5pi",
        "outputId": "81915696-de76-4471-bc43-3270d70ff88b",
        "colab": {
          "base_uri": "https://localhost:8080/"
        }
      },
      "execution_count": 6,
      "outputs": [
        {
          "output_type": "stream",
          "name": "stdout",
          "text": [
            "395.7995482666666\n"
          ]
        }
      ]
    },
    {
      "cell_type": "markdown",
      "source": [
        "Note that the above function will at first need to find a number of closest points to the unknown data (t_new), and this number will vary depending on the order (n) of the polynomial that we want to use as the interpolating function. So you will have to call the function you implemented in Task 1 inside this function."
      ],
      "metadata": {
        "id": "vcJ2VMvplfpw"
      }
    },
    {
      "cell_type": "markdown",
      "source": [
        "##Task 3\n",
        "Now, test the function using different order of polynomials, setting n = 1, 2, 3 and so on and print the absolute relative approximate error at each step. Also store the time needed for executing the NDD function for the different orders of the polynomial. Finally, generate a plot of **order vs error** and **order vs time** curves in the same graph."
      ],
      "metadata": {
        "id": "HhsqLMYYpD8S"
      }
    },
    {
      "cell_type": "code",
      "source": [
        "#Write your code here for finding the relative approximate errors and time elapsed for different orders of the polynomial\n",
        "\n",
        "import time\n",
        "import matplotlib.pyplot as plt\n",
        "true_value = NDD(t, v, 1, t_new)\n",
        "\n",
        "orders = []\n",
        "errors = []\n",
        "times = []\n",
        "\n",
        "for n in range(1, len(t)):\n",
        "    start = time.time()\n",
        "    result = NDD(t, v, n, t_new)\n",
        "    # print(result)\n",
        "    end = time.time()\n",
        "    error = abs((result - true_value) / true_value)\n",
        "    true_value=result\n",
        "    orders.append(n)\n",
        "    errors.append(error)\n",
        "    times.append(end - start)\n",
        "\n",
        "tt = [t*1e3 for t in times]\n",
        "print(tt)\n",
        "\n",
        "print(orders,errors)\n",
        "\n",
        "plt.plot(orders[1:], errors[1:], label='Error')\n",
        "plt.plot(orders, tt, label='Time')\n",
        "\n",
        "plt.legend()\n",
        "plt.xlabel('Order of Polynomial')\n",
        "plt.ylabel('Value')\n",
        "plt.show()"
      ],
      "metadata": {
        "id": "ShRMjjHSm-dq",
        "colab": {
          "base_uri": "https://localhost:8080/",
          "height": 320
        },
        "outputId": "b6a8a077-03c0-46b7-9af5-e949345f9982"
      },
      "execution_count": 8,
      "outputs": [
        {
          "output_type": "stream",
          "name": "stdout",
          "text": [
            "[0.019073486328125, 0.0133514404296875, 0.0133514404296875, 0.019788742065429688, 0.0324249267578125]\n",
            "[1, 2, 3, 4, 5] [0.0, 0.08521417939246924, 0.005739482948685979, 0.0005352950446718925, 0.00014630824670404597]\n"
          ]
        },
        {
          "output_type": "display_data",
          "data": {
            "text/plain": [
              "<Figure size 432x288 with 1 Axes>"
            ],
            "image/png": "[encoded data removed]"
          },
          "metadata": {
            "needs_background": "light"
          }
        }
      ]
    }
  ]
}