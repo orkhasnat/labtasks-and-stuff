{
  "nbformat": 4,
  "nbformat_minor": 0,
  "metadata": {
    "colab": {
      "provenance": []
    },
    "kernelspec": {
      "name": "python3",
      "display_name": "Python 3"
    },
    "language_info": {
      "name": "python"
    }
  },
  "cells": [
    {
      "cell_type": "markdown",
      "source": [
        "# **Lab 6 : Integration**<br>\n",
        "\n",
        "Integration is the process of measuring the area under a function. This area actually corresponds to the anti-derivative of the function. For instance, a velocity function $v(t)$ can be obtained as a derivative of a distance function $S(t)$. Inversely, the integration of the velocity function $v(t)$ over a certain time period can give us the distance traveled over that time period. Performing integration analytically is a complex procedure, involving a lot of rules. Computers and calculators perform integration using some sort of numerical method, such as the **Simpson's 1/3 rule** and **Simpson's 3/8 rule**.\n",
        "\n",
        "In today's lab, we will be implementing a mixed version of **Simpson's 1/3 rule** and **Simpson's 3/8 rule** of integration in python. The **Simpson's 1/3 rule** uses a minimum of 2 segments and **Simpson's 3/8 rule** uses a minimum of 3 segments to divide the entire range of the interval of integration, but we can also define a multiple-segment version of this rule that divides the interval into n equal segments, where n is a multiple of 2 and 3 respectively. Suppose we wish to use the n-segment mixed Simpson's 1/3 and Simpson's 3/8 rule to find the distance covered by a rocket from time $t = 8$ to $t = 30$. The velocity function of the rocket is given as $v(t) = 2000ln[ \\frac{140000}{140000-2100t} ] - 9.8t$\n"
      ],
      "metadata": {
        "id": "Dex_lDl5gUKB"
      }
    },
    {
      "cell_type": "markdown",
      "source": [
        "##Task 1\n",
        "Implement a function that takes time as an argument and returns the velocity based on the given velocity function. Then, complete the following MultiSimpson13() and MultiSimpson38() function that takes number of segments n and the time interval (tmin, tmax) as arguments and returns the distance covered within this interval. Your function should also check for the validity of the number of segments."
      ],
      "metadata": {
        "id": "_XU-vXFFzj4T"
      }
    },
    {
      "cell_type": "code",
      "source": [
        "import math\n",
        "import numpy as np\n",
        "t1=8\n",
        "t2=30\n",
        "n=10\n",
        "\n",
        "def velocity(t):\n",
        "    return 2000 * math.log(140000/(140000 - 2100*t)) - 9.8*t\n",
        "\n",
        "def MultiSimpson13(n, tmin, tmax):\n",
        "    h = (tmax - tmin) / n\n",
        "    t = [tmin + i * h for i in range(n+1)]\n",
        "    v = [velocity(ti) for ti in t]\n",
        "    sum1 = sum(v[i] for i in range(1, n, 2))\n",
        "    sum2 = sum(v[i] for i in range(2, n-1, 2))\n",
        "    integral = (tmax - tmin) / (3 * n) * (v[0] + 4 * sum1 + 2 * sum2 + v[n])\n",
        "    return integral\n",
        "\n",
        "\n",
        "\n",
        "def MultiSimpson38(n, tmin, tmax):\n",
        "    h = (tmax - tmin) / n\n",
        "    t = [tmin + i * h for i in range(n+1)]\n",
        "    v = [velocity(ti) for ti in t]\n",
        "    sum1 = sum(v[i] for i in range(1, n, 3))\n",
        "    sum2 = sum(v[i] for i in range(2, n, 3))\n",
        "    sum3 = sum(v[i] for i in range(3, n-1, 3))\n",
        "    integral = 3/8 * h * (v[0] + 3*sum1 + 3*sum2 + 2*sum3 + v[n])\n",
        "    return integral\n",
        "\n",
        "\n",
        "dis1= MultiSimpson13(4,t1,t2)\n",
        "dis2= MultiSimpson38(6,t1,t2)\n",
        "\n",
        "print(dis1,dis2)"
      ],
      "metadata": {
        "id": "xv0ziIB60ET8",
        "colab": {
          "base_uri": "https://localhost:8080/"
        },
        "outputId": "e8d4df99-33bc-4cfe-b144-dd64e625f5e5"
      },
      "execution_count": 62,
      "outputs": [
        {
          "output_type": "stream",
          "name": "stdout",
          "text": [
            "11061.636137405925 11061.469677297157\n"
          ]
        }
      ]
    },
    {
      "cell_type": "markdown",
      "source": [
        "##Task 2\n",
        "Use your previously implemented MultiSimpson13() and MultiSimpson38() function and write a general MultiSimpson() function that takes any n as parameter (n not necessarily a multiple of 2 or 3) and returns the integral result."
      ],
      "metadata": {
        "id": "GzKLR0nkj32g"
      }
    },
    {
      "cell_type": "code",
      "source": [
        "def MultiSimpson(n, tmin, tmax):\n",
        "    def ff(n):\n",
        "      x=0\n",
        "      y=n//3\n",
        "      if(n%3!=0):\n",
        "        x= (n- 3*y)\n",
        "      return (x,y) \n",
        "    x,y=ff(n)\n",
        "    print(x,y)\n",
        "    result=0\n",
        "    if(x!=0):\n",
        "      result += MultiSimpson13(x, tmin, tmax)\n",
        "    if(y != 0):\n",
        "      result+= MultiSimpson38(y, tmin, tmax)\n",
        "    \n",
        "    return result\n",
        "\n",
        "\n",
        "dis=MultiSimpson(10,t1,t2)\n",
        "  \n",
        "print(dis)"
      ],
      "metadata": {
        "id": "2m1trUT_k5pi",
        "colab": {
          "base_uri": "https://localhost:8080/"
        },
        "outputId": "a8e1c08c-b936-4f1d-8e42-071ef46095f1"
      },
      "execution_count": 60,
      "outputs": [
        {
          "output_type": "stream",
          "name": "stdout",
          "text": [
            "1 3\n",
            "18975.542607606236\n"
          ]
        }
      ]
    }
  ]
}