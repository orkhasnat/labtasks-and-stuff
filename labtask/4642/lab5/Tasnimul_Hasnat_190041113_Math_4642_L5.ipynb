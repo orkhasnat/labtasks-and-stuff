{
  "nbformat": 4,
  "nbformat_minor": 0,
  "metadata": {
    "colab": {
      "provenance": []
    },
    "kernelspec": {
      "name": "python3",
      "display_name": "Python 3"
    },
    "language_info": {
      "name": "python"
    }
  },
  "cells": [
    {
      "cell_type": "markdown",
      "source": [
        "# **Lab 5 : Nonlinear Regression**<br>\n",
        "\n",
        "Regression is the process of estimating a model that produces the best fit for the given data. The simplest method of doing this is by Linear Regression, which assumes that the data are linear in the unknown parameters. But in real life, there are many scenarios where the data is not linearly related. Any model that is not linear in the unknown parameters is known as a **Nonlinear Regression** model. There are various forms of nonlinear regression models, one of which is the exponential model, which is given as $$y = ae^{bx_i}$$ where $a$ and $b$ are the parameters of the regression model. The values of these two parameters should be such that the produced result of the above function should have the least deviation from the actual data points. In order to measure how well our model fits the data or how much it deviates from the actual result, we use the least square criterion.\n",
        "\n",
        "In today's lab, we will be implementing the Exponential Regression model in python. To test our implementation, we will be using the same data that is available in the first example of our class lecture pdf. That way, you can check whether your implementation is working correctly by comparing with the results obtained in that example. Run the following cell to load the known data points:\n"
      ],
      "metadata": {
        "id": "Dex_lDl5gUKB"
      }
    },
    {
      "cell_type": "code",
      "source": [
        "time = [0, 1, 3, 5, 7, 9]\n",
        "gamma = [1, 0.891, 0.708, 0.562, 0.447, 0.355]"
      ],
      "metadata": {
        "id": "_QpvT2CYjART"
      },
      "execution_count": null,
      "outputs": []
    },
    {
      "cell_type": "markdown",
      "source": [
        "##Task 1\n",
        "\n",
        "Write a function for evaluating the following: $$f(\\lambda)=\\sum{\\gamma_i t_i e^{\\lambda t_i}}- \\frac{\\sum{\\gamma_i e^{\\lambda t_i}}}{\\sum{e^{2 \\lambda t_i}}} \\sum{t_i e^{2 \\lambda t_i}}$$\n",
        "\n",
        "This function should take three parameters, the vector time, the vector gamma and a particular value for lambda and it will return the value of the function for that lambda."
      ],
      "metadata": {
        "id": "5X3J0HtkUNWT"
      }
    },
    {
      "cell_type": "code",
      "source": [
        "import numpy as np\n",
        "def func(time, gamma, lmda):\n",
        "    sum1 = np.sum([gamma[i]*time[i]*np.exp(lmda*time[i]) for i in range(len(time))])\n",
        "    sum2 = np.sum([gamma[i]*np.exp(lmda*time[i]) for i in range(len(time))])\n",
        "    sum3 = np.sum([np.exp(2*lmda*time[i]) for i in range(len(time))])\n",
        "    sum4 = np.sum([time[i]*np.exp(2*lmda*time[i]) for i in range(len(time))])\n",
        "    \n",
        "    # print(sum1,sum2,sum3,sum4)\n",
        "\n",
        "    result = sum1 - sum2*sum4/sum3\n",
        "    return result\n",
        "\n",
        "func(time,gamma,-0.12)"
      ],
      "metadata": {
        "id": "-hgwi0hGUM_c",
        "colab": {
          "base_uri": "https://localhost:8080/"
        },
        "outputId": "787a27c0-216f-45dc-e109-be0765ec43e7"
      },
      "execution_count": null,
      "outputs": [
        {
          "output_type": "execute_result",
          "data": {
            "text/plain": [
              "0.09135731245952883"
            ]
          },
          "metadata": {},
          "execution_count": 58
        }
      ]
    },
    {
      "cell_type": "code",
      "source": [
        "def bisection(time, gamma, lambda_l, lambda_u):\n",
        "    max_iterations = 100\n",
        "    tolerance = 1e-6\n",
        "    lambda_mid=0\n",
        "    for i in range(max_iterations):\n",
        "      lambda_mid = (lambda_l + lambda_u) / 2.0\n",
        "      func_l, func_u = func(time, gamma, lambda_l), func(time, gamma, lambda_u)\n",
        "      func_mid =func(time, gamma, lambda_mid)\n",
        "      # print(func_l,func_u,func_mid)\n",
        "      if abs(func_mid) < tolerance:\n",
        "        return lambda_mid\n",
        "      \n",
        "      if func_l * func_mid < 0:\n",
        "        lambda_u = lambda_mid\n",
        "      else:\n",
        "        lambda_l = lambda_mid\n",
        "    return lambda_mid"
      ],
      "metadata": {
        "id": "9fwc9cQNWfrc"
      },
      "execution_count": null,
      "outputs": []
    },
    {
      "cell_type": "markdown",
      "source": [
        "##Task 2\n",
        "Assuming that the exponential model for the given data is defined as $\\gamma = Ae^{\\lambda t}$, write a function that takes the given data as input and returns the regression parameters $A$ and $\\lambda$. Use your previously implemented function for bisection method here inside the NonLinearRegression function. For your left and right guess, choose $-0.12$ for $\\lambda_l$ and $-0.11$ for $\\lambda_u$ and call the function using these values. Bisection function should return the correct value for $\\lambda$ as $\\lambda_{mid}$ and using this value, find the parameter $A$. Your NonLinearRegression function should return the values for $A$ and $\\lambda$."
      ],
      "metadata": {
        "id": "_XU-vXFFzj4T"
      }
    },
    {
      "cell_type": "code",
      "source": [
        "from math import e\n",
        "\n",
        "def NonLinearRegression(time, gamma):\n",
        "  lambda_l = -0.12\n",
        "  lambda_u = -0.11\n",
        "\n",
        "  lambda_mid = 0\n",
        "\n",
        "  lambda_mid = bisection(time, gamma, lambda_l, lambda_u)\n",
        "  \n",
        "  A = sum([gamma[i] * e**(-lambda_mid * time[i]) for i in range(len(time))]) / len(time)\n",
        "\n",
        "  return A, lambda_mid  \n",
        "\n"
      ],
      "metadata": {
        "id": "xv0ziIB60ET8"
      },
      "execution_count": null,
      "outputs": []
    },
    {
      "cell_type": "markdown",
      "source": [
        "Write another function that takes any arbitrary value as input and applies the regression model to generate the output. Calling this function for $time = 0$ should give you a prediction close to $1$."
      ],
      "metadata": {
        "id": "GzKLR0nkj32g"
      }
    },
    {
      "cell_type": "code",
      "source": [
        "def predict(A, l, time):\n",
        "  res = A * (e ** (l * time))\n",
        "  return res\n",
        "  \n",
        "A, l = NonLinearRegression(time, gamma)\n",
        "print(predict(A, l, time[0]))\n",
        "\n"
      ],
      "metadata": {
        "id": "2m1trUT_k5pi",
        "colab": {
          "base_uri": "https://localhost:8080/"
        },
        "outputId": "17427766-b29b-4309-869f-ec86d7bb319d"
      },
      "execution_count": null,
      "outputs": [
        {
          "output_type": "stream",
          "name": "stdout",
          "text": [
            "0.999877673741759\n"
          ]
        }
      ]
    },
    {
      "cell_type": "markdown",
      "source": [
        "##Task 3\n",
        "Generate a plot of the regression curve by recording the result of predict function for different values of time starting from $0$ to $9$ with and interval of $0.1$. Show the original data points (time, gamma) on the same plot using scatter function. Use different colors for the regression curve and the original data points and show a legend. For this task, you are allowed to use various libraries such as matplotlib."
      ],
      "metadata": {
        "id": "HhsqLMYYpD8S"
      }
    },
    {
      "cell_type": "code",
      "source": [
        "#Write your code here for generating the plot\n",
        "\n",
        "import matplotlib.pyplot as plt\n",
        "A, l = NonLinearRegression(time, gamma)\n",
        "\n",
        "time_pred = np.arange(0, 9.1, 0.1)\n",
        "gamma_pred = [predict(A, l, t) for t in time_pred]\n",
        "\n",
        "plt.plot(time_pred, gamma_pred, label='Regression Curve')\n",
        "plt.scatter(time, gamma, label='Original Data Points')\n",
        "\n",
        "plt.xlabel('Time')\n",
        "plt.ylabel('Gamma')\n",
        "plt.title('Exponential Regression Curve')\n",
        "\n",
        "plt.legend()\n",
        "plt.show()"
      ],
      "metadata": {
        "id": "ShRMjjHSm-dq",
        "colab": {
          "base_uri": "https://localhost:8080/",
          "height": 295
        },
        "outputId": "95ad90a9-e68d-4741-c62d-528e994c84a3"
      },
      "execution_count": null,
      "outputs": [
        {
          "output_type": "display_data",
          "data": {
            "text/plain": [
              "<Figure size 432x288 with 1 Axes>"
            ],
            "image/png": "[encoded data removed]"
          },
          "metadata": {
            "needs_background": "light"
          }
        }
      ]
    }
  ]
}