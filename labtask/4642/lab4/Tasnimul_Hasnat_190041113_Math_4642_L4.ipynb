{
  "nbformat": 4,
  "nbformat_minor": 0,
  "metadata": {
    "colab": {
      "provenance": []
    },
    "kernelspec": {
      "name": "python3",
      "display_name": "Python 3"
    },
    "language_info": {
      "name": "python"
    }
  },
  "cells": [
    {
      "cell_type": "markdown",
      "source": [
        "# **Lab 4 : Linear Regression**<br>\n",
        "\n",
        "Regression is the process of estimating a model that produces the best fit for the given data. **Linear Regression** is the simplest and most popular among them. A linear regression model is given by y = a<sub>0</sub> + a<sub>1</sub>x, where a<sub>0</sub> and a<sub>1</sub> are the parameters of the regression model. The values of these two parameters should be such that the produced result of (a<sub>0</sub> + a<sub>1</sub>x) should have the least deviation from the actual result. In order to measure how well our model fits the data or whether it deviates from the actual result, we use the least square criterion.\n",
        "\n",
        "In today's lab, we will be implementing Linear Regression in python. Note that there might be built-in functions for linear regression in python, but the purpose of this lab is to understand how linear regression actually works, and hence those built-in functions are not allowed. To test our implementation, we will be using the same data that is available in the first example of our class lecture pdf. That way, you can check whether your implementation is working correctly by comparing with the results obtained in that example. Run the following cell to load the known data points:\n"
      ],
      "metadata": {
        "id": "Dex_lDl5gUKB"
      }
    },
    {
      "cell_type": "code",
      "source": [
        "theta = [0.698132, 0.959931, 1.134464, 1.570796, 1.919862]\n",
        "torque = [0.188224, 0.209138, 0.230052, 0.250965, 0.313707]"
      ],
      "metadata": {
        "id": "_QpvT2CYjART"
      },
      "execution_count": null,
      "outputs": []
    },
    {
      "cell_type": "markdown",
      "source": [
        "##Task 1\n",
        "Assuming that the linear regression model for the given data is defined as Torque = a<sub>0</sub> + a<sub>1</sub>*Theta, write a function that takes the given data as input and returns the regression parameters a<sub>0</sub> and a<sub>1</sub>."
      ],
      "metadata": {
        "id": "_XU-vXFFzj4T"
      }
    },
    {
      "cell_type": "code",
      "source": [
        "def LinearRegression(theta, torque):\n",
        "    n = len(theta)\n",
        "    sum_theta = sum(theta)\n",
        "    sum_torque = sum(torque)\n",
        "    sum_theta_sq = sum(theta[i] * theta[i] for i in range(n))\n",
        "    sum_theta_torque = sum(theta[i] * torque[i] for i in range(n))\n",
        "    \n",
        "    a1 = (n * sum_theta_torque - sum_theta * sum_torque) / (n * sum_theta_sq - sum_theta * sum_theta)\n",
        "    a0 = (sum_torque - a1 * sum_theta) / n\n",
        "    \n",
        "    return a0, a1\n",
        "\n",
        "  "
      ],
      "metadata": {
        "id": "xv0ziIB60ET8"
      },
      "execution_count": null,
      "outputs": []
    },
    {
      "cell_type": "markdown",
      "source": [
        "##Task 2\n",
        "Write another function that takes any arbitrary value as input and applies the regression model to generate the output. "
      ],
      "metadata": {
        "id": "GzKLR0nkj32g"
      }
    },
    {
      "cell_type": "code",
      "source": [
        "def calculate(x):\n",
        "    a0, a1 = LinearRegression(theta, torque)\n",
        "    res = a0 + a1 * x\n",
        "    return res\n",
        "\n",
        "print(calculate(0.75))\n",
        "\n",
        "  \n"
      ],
      "metadata": {
        "id": "2m1trUT_k5pi",
        "colab": {
          "base_uri": "https://localhost:8080/"
        },
        "outputId": "f593ffc4-bb47-4bcd-d85b-c23a2d6dc34f"
      },
      "execution_count": null,
      "outputs": [
        {
          "output_type": "stream",
          "name": "stdout",
          "text": [
            "0.18973372428792545\n"
          ]
        }
      ]
    },
    {
      "cell_type": "markdown",
      "source": [
        "##Task 3\n",
        "Generate a plot of the regression curve using the model you just produced. Show the original data points (theta, torque) on the same plot using scatter plot. Use different colors for the regression curve and the original data points and show a legend. For this task, you are allowed to use various libraries such as matplotlib."
      ],
      "metadata": {
        "id": "HhsqLMYYpD8S"
      }
    },
    {
      "cell_type": "code",
      "source": [
        "#Write your code here for generating the plot\n",
        "\n",
        "import matplotlib.pyplot as plt\n",
        "import numpy as np\n",
        "\n",
        "# Compute the regression curve\n",
        "a0, a1 = LinearRegression(theta, torque)\n",
        "x = np.array(theta)\n",
        "y = a0 + a1 * x\n",
        "\n",
        "# Plot the data points and regression curve\n",
        "plt.scatter(theta, torque, c='red', label='Data points')\n",
        "plt.plot(x, y, c='blue', label='Regression curve')\n",
        "plt.xlabel('Theta')\n",
        "plt.ylabel('Torque')\n",
        "plt.legend()\n",
        "plt.show()\n"
      ],
      "metadata": {
        "id": "ShRMjjHSm-dq",
        "colab": {
          "base_uri": "https://localhost:8080/",
          "height": 283
        },
        "outputId": "9788eff1-b62b-4585-b9ee-a9bf3e530025"
      },
      "execution_count": null,
      "outputs": [
        {
          "output_type": "display_data",
          "data": {
            "text/plain": [
              "<Figure size 432x288 with 1 Axes>"
            ],
            "image/png": "[encoded data removed]"
          },
          "metadata": {
            "needs_background": "light"
          }
        }
      ]
    }
  ]
}