{
  "nbformat": 4,
  "nbformat_minor": 0,
  "metadata": {
    "colab": {
      "provenance": []
    },
    "kernelspec": {
      "name": "python3",
      "display_name": "Python 3"
    },
    "language_info": {
      "name": "python"
    }
  },
  "cells": [
    {
      "cell_type": "markdown",
      "source": [
        "# Introduction and Dataset Description\n",
        "Since this is an introductory article, the problem that we are going to solve is pretty simple. Suppose we have some information about obesity, smoking habits, and exercise habits of five people. We also know whether these people are diabetic or not. Our dataset looks like this."
      ],
      "metadata": {
        "id": "VVUqg5QIUPH1"
      }
    },
    {
      "cell_type": "code",
      "source": [
        "import pandas as pd\n",
        "import numpy as np\n",
        "\n",
        "!gdown --id -q 1EJmU7Mli1oXLPJfXGrus0HHfVnXM6wpk\n",
        "!unzip -q Data.zip\n",
        "\n",
        "data = pd.read_csv('Data.csv')\n",
        "data.head()"
      ],
      "metadata": {
        "colab": {
          "base_uri": "https://localhost:8080/",
          "height": 261
        },
        "id": "0cGHM4vAXAdu",
        "outputId": "8b5c090d-7bb2-482d-b651-c8f5938cf482"
      },
      "execution_count": null,
      "outputs": [
        {
          "output_type": "stream",
          "name": "stdout",
          "text": [
            "/usr/local/lib/python3.9/dist-packages/gdown/cli.py:121: FutureWarning: Option `--id` was deprecated in version 4.3.1 and will be removed in 5.0. You don't need to pass it anymore to use a file ID.\n",
            "  warnings.warn(\n"
          ]
        },
        {
          "output_type": "execute_result",
          "data": {
            "text/plain": [
              "     Person  Smoking  Obesity  Exercise  Diabetic\n",
              "0  Person 1        0        1         0         1\n",
              "1  Person 2        0        0         1         0\n",
              "2  Person 3        1        0         0         0\n",
              "3  Person 4        1        1         0         1\n",
              "4  Person 5        1        1         1         1"
            ],
            "text/html": [
              "\n",
              "  <div id=\"df-85cfdeea-f79f-422e-b193-a9e5f458309d\">\n",
              "    <div class=\"colab-df-container\">\n",
              "      <div>\n",
              "<style scoped>\n",
              "    .dataframe tbody tr th:only-of-type {\n",
              "        vertical-align: middle;\n",
              "    }\n",
              "\n",
              "    .dataframe tbody tr th {\n",
              "        vertical-align: top;\n",
              "    }\n",
              "\n",
              "    .dataframe thead th {\n",
              "        text-align: right;\n",
              "    }\n",
              "</style>\n",
              "<table border=\"1\" class=\"dataframe\">\n",
              "  <thead>\n",
              "    <tr style=\"text-align: right;\">\n",
              "      <th></th>\n",
              "      <th>Person</th>\n",
              "      <th>Smoking</th>\n",
              "      <th>Obesity</th>\n",
              "      <th>Exercise</th>\n",
              "      <th>Diabetic</th>\n",
              "    </tr>\n",
              "  </thead>\n",
              "  <tbody>\n",
              "    <tr>\n",
              "      <th>0</th>\n",
              "      <td>Person 1</td>\n",
              "      <td>0</td>\n",
              "      <td>1</td>\n",
              "      <td>0</td>\n",
              "      <td>1</td>\n",
              "    </tr>\n",
              "    <tr>\n",
              "      <th>1</th>\n",
              "      <td>Person 2</td>\n",
              "      <td>0</td>\n",
              "      <td>0</td>\n",
              "      <td>1</td>\n",
              "      <td>0</td>\n",
              "    </tr>\n",
              "    <tr>\n",
              "      <th>2</th>\n",
              "      <td>Person 3</td>\n",
              "      <td>1</td>\n",
              "      <td>0</td>\n",
              "      <td>0</td>\n",
              "      <td>0</td>\n",
              "    </tr>\n",
              "    <tr>\n",
              "      <th>3</th>\n",
              "      <td>Person 4</td>\n",
              "      <td>1</td>\n",
              "      <td>1</td>\n",
              "      <td>0</td>\n",
              "      <td>1</td>\n",
              "    </tr>\n",
              "    <tr>\n",
              "      <th>4</th>\n",
              "      <td>Person 5</td>\n",
              "      <td>1</td>\n",
              "      <td>1</td>\n",
              "      <td>1</td>\n",
              "      <td>1</td>\n",
              "    </tr>\n",
              "  </tbody>\n",
              "</table>\n",
              "</div>\n",
              "      <button class=\"colab-df-convert\" onclick=\"convertToInteractive('df-85cfdeea-f79f-422e-b193-a9e5f458309d')\"\n",
              "              title=\"Convert this dataframe to an interactive table.\"\n",
              "              style=\"display:none;\">\n",
              "        \n",
              "  <svg xmlns=\"http://www.w3.org/2000/svg\" height=\"24px\"viewBox=\"0 0 24 24\"\n",
              "       width=\"24px\">\n",
              "    <path d=\"M0 0h24v24H0V0z\" fill=\"none\"/>\n",
              "    <path d=\"M18.56 5.44l.94 2.06.94-2.06 2.06-.94-2.06-.94-.94-2.06-.94 2.06-2.06.94zm-11 1L8.5 8.5l.94-2.06 2.06-.94-2.06-.94L8.5 2.5l-.94 2.06-2.06.94zm10 10l.94 2.06.94-2.06 2.06-.94-2.06-.94-.94-2.06-.94 2.06-2.06.94z\"/><path d=\"M17.41 7.96l-1.37-1.37c-.4-.4-.92-.59-1.43-.59-.52 0-1.04.2-1.43.59L10.3 9.45l-7.72 7.72c-.78.78-.78 2.05 0 2.83L4 21.41c.39.39.9.59 1.41.59.51 0 1.02-.2 1.41-.59l7.78-7.78 2.81-2.81c.8-.78.8-2.07 0-2.86zM5.41 20L4 18.59l7.72-7.72 1.47 1.35L5.41 20z\"/>\n",
              "  </svg>\n",
              "      </button>\n",
              "      \n",
              "  <style>\n",
              "    .colab-df-container {\n",
              "      display:flex;\n",
              "      flex-wrap:wrap;\n",
              "      gap: 12px;\n",
              "    }\n",
              "\n",
              "    .colab-df-convert {\n",
              "      background-color: #E8F0FE;\n",
              "      border: none;\n",
              "      border-radius: 50%;\n",
              "      cursor: pointer;\n",
              "      display: none;\n",
              "      fill: #1967D2;\n",
              "      height: 32px;\n",
              "      padding: 0 0 0 0;\n",
              "      width: 32px;\n",
              "    }\n",
              "\n",
              "    .colab-df-convert:hover {\n",
              "      background-color: #E2EBFA;\n",
              "      box-shadow: 0px 1px 2px rgba(60, 64, 67, 0.3), 0px 1px 3px 1px rgba(60, 64, 67, 0.15);\n",
              "      fill: #174EA6;\n",
              "    }\n",
              "\n",
              "    [theme=dark] .colab-df-convert {\n",
              "      background-color: #3B4455;\n",
              "      fill: #D2E3FC;\n",
              "    }\n",
              "\n",
              "    [theme=dark] .colab-df-convert:hover {\n",
              "      background-color: #434B5C;\n",
              "      box-shadow: 0px 1px 3px 1px rgba(0, 0, 0, 0.15);\n",
              "      filter: drop-shadow(0px 1px 2px rgba(0, 0, 0, 0.3));\n",
              "      fill: #FFFFFF;\n",
              "    }\n",
              "  </style>\n",
              "\n",
              "      <script>\n",
              "        const buttonEl =\n",
              "          document.querySelector('#df-85cfdeea-f79f-422e-b193-a9e5f458309d button.colab-df-convert');\n",
              "        buttonEl.style.display =\n",
              "          google.colab.kernel.accessAllowed ? 'block' : 'none';\n",
              "\n",
              "        async function convertToInteractive(key) {\n",
              "          const element = document.querySelector('#df-85cfdeea-f79f-422e-b193-a9e5f458309d');\n",
              "          const dataTable =\n",
              "            await google.colab.kernel.invokeFunction('convertToInteractive',\n",
              "                                                     [key], {});\n",
              "          if (!dataTable) return;\n",
              "\n",
              "          const docLinkHtml = 'Like what you see? Visit the ' +\n",
              "            '<a target=\"_blank\" href=https://colab.research.google.com/notebooks/data_table.ipynb>data table notebook</a>'\n",
              "            + ' to learn more about interactive tables.';\n",
              "          element.innerHTML = '';\n",
              "          dataTable['output_type'] = 'display_data';\n",
              "          await google.colab.output.renderOutput(dataTable, element);\n",
              "          const docLink = document.createElement('div');\n",
              "          docLink.innerHTML = docLinkHtml;\n",
              "          element.appendChild(docLink);\n",
              "        }\n",
              "      </script>\n",
              "    </div>\n",
              "  </div>\n",
              "  "
            ]
          },
          "metadata": {},
          "execution_count": 1
        }
      ]
    },
    {
      "cell_type": "markdown",
      "source": [
        "In the above table, we have five columns: Person, Smoking, Obesity, Exercise, and Diabetic. Here 1 refers to true and 0 refers to false. For instance, the first person has values of 0, 1, 0 which means that the person doesn't smoke, is obese, and doesn't exercise. The person is also diabetic.\n",
        "\n",
        "It is clearly evident from the dataset that a person's obesity is indicative of him being diabetic. Our task is to create a neural network that is able to predict whether an unknown person is diabetic or not from the given data about his exercise habits, obesity, and smoking habits. This is a type of supervised learning problem where we are given inputs and corresponding correct outputs and our task is to find the mapping between the inputs and the outputs.\n",
        "\n",
        "**Note**: This is just a fictional dataset, in real life, obese people are not necessarily always diabetic."
      ],
      "metadata": {
        "id": "3iJEu5IQZFsx"
      }
    },
    {
      "cell_type": "markdown",
      "source": [
        "# The Solution\n",
        "We will create a very simple neural network with one input layer, one hidden layer (that will contain two hidden units) and one output layer. Before writing any actual code, let's first let's see how our neural network will execute, in theory. For simplicity, we are not considering the bias term.<br>\n",
        "![nn.JPG](data:image/jpeg;base64,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)\n",
        "\n"
      ],
      "metadata": {
        "id": "xiq8T7AsVOBi"
      }
    },
    {
      "cell_type": "markdown",
      "source": [
        "### Separating feature values from labels"
      ],
      "metadata": {
        "id": "eDhseI6GbSVu"
      }
    },
    {
      "cell_type": "code",
      "execution_count": null,
      "metadata": {
        "colab": {
          "base_uri": "https://localhost:8080/"
        },
        "id": "GFlEMtARUD78",
        "outputId": "e9d0b238-9d04-426e-df96-b6ec7b751a7a"
      },
      "outputs": [
        {
          "output_type": "stream",
          "name": "stdout",
          "text": [
            "X:\n",
            " [[0 1 0]\n",
            " [0 0 1]\n",
            " [1 0 0]\n",
            " [1 1 0]\n",
            " [1 1 1]]\n",
            "y:\n",
            " [[1]\n",
            " [0]\n",
            " [0]\n",
            " [1]\n",
            " [1]]\n"
          ]
        }
      ],
      "source": [
        "data_np = data.to_numpy()\n",
        "X = data_np[:,[1,2,3]]\n",
        "y = data_np[:,4]\n",
        "y = np.atleast_2d(y).T\n",
        "\n",
        "print(f'X:\\n {X}')\n",
        "print(f'y:\\n {y}')"
      ]
    },
    {
      "cell_type": "markdown",
      "source": [
        "### Weight Initialization\n",
        "At first, we will consider random weights. We will store the weights values for input layer and hidden layer in matrix `w1`. Weight values for hidden layer and output layer will be stored in matrix `w2`.<br>\n",
        "Since, there are 3 input units and 2 hidden units, the dimension of matrix `w1` will be 3 × 2. For the same reason, dimension of matrix `w2` will be 2 × 1."
      ],
      "metadata": {
        "id": "9IvSyAhobcjn"
      }
    },
    {
      "cell_type": "code",
      "source": [
        "\n",
        "\n",
        "\n",
        "w1 = np.random.random((3, 2))\n",
        "w2 = np.random.random((2, 1))\n",
        "\n",
        "print(f'w1:\\n {w1}')\n",
        "print(f'w2:\\n {w2}')"
      ],
      "metadata": {
        "colab": {
          "base_uri": "https://localhost:8080/"
        },
        "id": "1nhmu5s_aHUV",
        "outputId": "e6d57def-2b84-4a25-9402-914a7801adff"
      },
      "execution_count": null,
      "outputs": [
        {
          "output_type": "stream",
          "name": "stdout",
          "text": [
            "w1:\n",
            " [[0.06087227 0.18899345]\n",
            " [0.42102529 0.70243576]\n",
            " [0.73475206 0.56083524]]\n",
            "w2:\n",
            " [[0.8630463]\n",
            " [0.6211495]]\n"
          ]
        }
      ]
    },
    {
      "cell_type": "markdown",
      "source": [
        "## Forward Propagation\n",
        "At first, we will calculate the weighted sum by multiplying `X` with `w1`. Let this result be $z_{h}$.<br>\n",
        "$$z_h = \\sum_{i=1}^{X} x_iw_{1_i}$$"
      ],
      "metadata": {
        "id": "4PkeffiRdqZn"
      }
    },
    {
      "cell_type": "code",
      "source": [
        "z_h=np.matmul(X, w1)\n",
        "print(f'z_h:\\n {z_h}')"
      ],
      "metadata": {
        "colab": {
          "base_uri": "https://localhost:8080/"
        },
        "id": "HIfNY230bnFN",
        "outputId": "fe229285-b65a-4593-a6f5-23599b4d674a"
      },
      "execution_count": null,
      "outputs": [
        {
          "output_type": "stream",
          "name": "stdout",
          "text": [
            "z_h:\n",
            " [[0.4210252908029698 0.7024357600147605]\n",
            " [0.7347520602954529 0.5608352379336283]\n",
            " [0.06087226606823937 0.18899344705196985]\n",
            " [0.48189755687120917 0.8914292070667303]\n",
            " [1.216649617166662 1.4522644450003588]]\n"
          ]
        }
      ]
    },
    {
      "cell_type": "markdown",
      "source": [
        "$z_{h}$ is the value of hidden layer. To keep this value between 0 and 1, we will pass it through a `sigmoid` function and calculate `a_h`.<br>\n",
        "$$sigmoid = \\frac{1}{1+_e{-x}}$$"
      ],
      "metadata": {
        "id": "hZ1ebmhkg-oD"
      }
    },
    {
      "cell_type": "code",
      "source": [
        "def sigmoid(x):\n",
        "    x = x.astype(float)\n",
        "    return 1/(1+np.exp(-x))"
      ],
      "metadata": {
        "id": "liZOIhKfbnH0"
      },
      "execution_count": null,
      "outputs": []
    },
    {
      "cell_type": "code",
      "source": [
        "a_h = sigmoid(z_h)\n",
        "print(f'a_h:\\n {a_h}')"
      ],
      "metadata": {
        "colab": {
          "base_uri": "https://localhost:8080/"
        },
        "id": "zwCg2aR2bnKW",
        "outputId": "8ddf2878-6e44-4500-f62d-d3afb635105c"
      },
      "execution_count": null,
      "outputs": [
        {
          "output_type": "stream",
          "name": "stdout",
          "text": [
            "a_h:\n",
            " [[0.60372857 0.66872759]\n",
            " [0.67584721 0.63664578]\n",
            " [0.51521337 0.54710823]\n",
            " [0.61819585 0.70918502]\n",
            " [0.77147341 0.81034669]]\n"
          ]
        }
      ]
    },
    {
      "cell_type": "markdown",
      "source": [
        "Now we'll calculate the value of output layer by multiplying the value of hidden layer `a_h` with `w2`. Then, we'll pass the resultant value through a sigmoid function which in turn will return us the final value `a_o`.<br>\n",
        "$$z_o = \\sum_{i=1}^{} a_{h_i}w_{2_i}$$<br>\n",
        "$$a_o = sigmoid(z_o)$$\n"
      ],
      "metadata": {
        "id": "QXlcVF1npemb"
      }
    },
    {
      "cell_type": "code",
      "source": [
        "z_o=np.matmul(a_h, w2)\n",
        "a_o=sigmoid(z_o)\n",
        "print(f'a_o:\\n {a_o}')"
      ],
      "metadata": {
        "colab": {
          "base_uri": "https://localhost:8080/"
        },
        "id": "XgYT7GbBtN03",
        "outputId": "5f1dca0f-d672-4c66-9370-026f67e3edcd"
      },
      "execution_count": null,
      "outputs": [
        {
          "output_type": "stream",
          "name": "stdout",
          "text": [
            "a_o:\n",
            " [[0.71837706]\n",
            " [0.72685806]\n",
            " [0.68664679]\n",
            " [0.72592434]\n",
            " [0.76299382]]\n"
          ]
        }
      ]
    },
    {
      "cell_type": "markdown",
      "source": [
        "But, this is not our final output. We'll calculate the `error` from the difference between our ground truth `y` and `a_o`.<br>\n",
        "$$error, E_{a_o} = \\frac{1}{2} (a_o-y)^2$$"
      ],
      "metadata": {
        "id": "4YXskI5Ptm8K"
      }
    },
    {
      "cell_type": "code",
      "source": [
        "error = (0.5*(a_o-y)**2)\n",
        "print(f'error:\\n {error}')"
      ],
      "metadata": {
        "colab": {
          "base_uri": "https://localhost:8080/"
        },
        "id": "FnXsQI2zva_s",
        "outputId": "866b0392-fb5d-43dc-b94f-ee86967ddcd1"
      },
      "execution_count": null,
      "outputs": [
        {
          "output_type": "stream",
          "name": "stdout",
          "text": [
            "error:\n",
            " [[0.03965573913946507]\n",
            " [0.264161321836984]\n",
            " [0.23574190576727805]\n",
            " [0.03755873494831829]\n",
            " [0.02808596463696207]]\n"
          ]
        }
      ]
    },
    {
      "cell_type": "markdown",
      "source": [
        "## Back Propagation"
      ],
      "metadata": {
        "id": "oXEm4xtpsTfX"
      }
    },
    {
      "cell_type": "markdown",
      "source": [
        "### Updating `w2`\n",
        "Back Propagation will start now. This means that in order to minimize the error that we have received, we will repeatedly update the weights of the `w1` and `w2` matrix back from the output layer and calculate the error. In this way we can reduce the error a lot at a time and predict the value which will be closer to the actual output.<br>\n",
        "\n",
        "So first we will find out how much change in the weights of `w2` will reduce our error. We will deduct the value of $\\frac {dE_{a_o}}{dw_2}$ from $w_2$.<br>\n",
        "$$w_2 = w_2 - learningRate×\\frac{dEa_o}{dw_2}$$.<br>\n",
        "From the chain rule of calculus, we can calculate the value of $\\frac {dE_{a_o}}{dw_2}$ as follows,<br>\n",
        "\n",
        "$$\\frac {dE_{a_o}}{dw_2} = \\frac {dE_{a_o}}{dz_o} × \\frac {d_{z_o}}{dw_2}$$<br>\n",
        "$$\\frac {dE_{a_o}}{dw_2} = \\frac {dE_{a_o}}{da_o} × \\frac {d{a_o}}{dz_o} × \\frac {d_{z_o}}{dw_2}$$<br>\n",
        "$$\\frac {dE_{a_o}}{da_o} = \\frac{d}{da_o}(\\frac{1}{2} (a_o-y)^2)=a_o-y$$<br>\n"
      ],
      "metadata": {
        "id": "bQQq5wTOvoZL"
      }
    },
    {
      "cell_type": "code",
      "source": [
        "dEdao = a_o-y\n",
        "print(f'dEdao:\\n {dEdao}')"
      ],
      "metadata": {
        "colab": {
          "base_uri": "https://localhost:8080/"
        },
        "id": "rYCaVqiU2iIF",
        "outputId": "7faf8303-eb98-4f2f-c8de-6099daf97bf3"
      },
      "execution_count": null,
      "outputs": [
        {
          "output_type": "stream",
          "name": "stdout",
          "text": [
            "dEdao:\n",
            " [[-0.28162293635094804]\n",
            " [0.7268580629489969]\n",
            " [0.6866467880464862]\n",
            " [-0.2740756645465565]\n",
            " [-0.2370061798222235]]\n"
          ]
        }
      ]
    },
    {
      "cell_type": "markdown",
      "source": [
        "Now, the second therm which is needed to calculate $\\frac {dE_{a_o}}{dw_2}$ is basically the derivative of the `sigmoid` function.<br>\n",
        "$\\frac{da_o}{dz_o} = \\frac{d}{dz_o}(\\frac{1}{1+_e{-z_o}})$<br>\n",
        "$\\frac{da_o}{dz_o} = \\frac{d}{dz_o}({1+_e{-z_o}})^{-1}$<br>\n",
        "$\\frac{da_o}{dz_o} = (-1)({1+_e{-z_o}})^{-2}(-e^{-z_o})$<br>\n",
        "....<br>....<br>\n",
        "$\\frac{da_o}{dz_o} =\\frac{1}{1+_e{-z_o}}×(1-\\frac{1}{1+_e{-z_o}}) = sigmoid(z_o)×(1-sigmoid(z_o))=a_o×(1-a_o)$"
      ],
      "metadata": {
        "id": "KmvyjNvc4EpE"
      }
    },
    {
      "cell_type": "code",
      "source": [
        "def sigmoid_derivative(x):\n",
        "    return x*(1-x)\n",
        "daozo = sigmoid_derivative(a_o)\n",
        "print(f'daozo:\\n {daozo}')"
      ],
      "metadata": {
        "colab": {
          "base_uri": "https://localhost:8080/"
        },
        "id": "px92HzlCaa9W",
        "outputId": "7ed9577e-c7d7-4d8b-fec1-0a600006d4f9"
      },
      "execution_count": null,
      "outputs": [
        {
          "output_type": "stream",
          "name": "stdout",
          "text": [
            "daozo:\n",
            " [[0.20231146]\n",
            " [0.19853542]\n",
            " [0.21516298]\n",
            " [0.19895819]\n",
            " [0.18083425]]\n"
          ]
        }
      ]
    },
    {
      "cell_type": "markdown",
      "source": [
        "The last term,<br>\n",
        "$$\\frac{dz_o}{dw_2} = \\frac{d}{dw_2}(a_h×w_2) = a_h$$<br>\n",
        "Now, we have all the necessary information to calculate $\\frac {dE_{a_o}}{dw_2}$"
      ],
      "metadata": {
        "id": "zx9kODXbb9en"
      }
    },
    {
      "cell_type": "code",
      "source": [
        "dEdw2 = np.matmul(a_h.T, daozo*dEdao)\n",
        "print(f'dEdw2:\\n {dEdw2}')"
      ],
      "metadata": {
        "colab": {
          "base_uri": "https://localhost:8080/"
        },
        "id": "erfBf0zXc3b4",
        "outputId": "7e1df545-a362-4f3b-d111-796b75102106"
      },
      "execution_count": null,
      "outputs": [
        {
          "output_type": "stream",
          "name": "stdout",
          "text": [
            "dEdw2:\n",
            " [[0.07247546337429119]\n",
            " [0.06119957456255688]]\n"
          ]
        }
      ]
    },
    {
      "cell_type": "markdown",
      "source": [
        "Now, we'll update the weight values of `w2` by subtracting $\\frac{dEa_o}{dw_2}$ from `w2`. But, for faster convergence, we'll multiply $\\frac{dEa_o}{dw_2}$ by `learning_rate = 3`."
      ],
      "metadata": {
        "id": "NtI8tqmdg1AT"
      }
    },
    {
      "cell_type": "code",
      "source": [
        "learning_rate = 3\n",
        "w2 = w2 - learning_rate*dEdw2\n",
        "print(f'w2:\\n {w2}')"
      ],
      "metadata": {
        "colab": {
          "base_uri": "https://localhost:8080/"
        },
        "id": "AmwBH3Y_hfGE",
        "outputId": "c12d81c4-d393-42da-a98c-bd57a05d30d7"
      },
      "execution_count": null,
      "outputs": [
        {
          "output_type": "stream",
          "name": "stdout",
          "text": [
            "w2:\n",
            " [[0.6456199142341291]\n",
            " [0.4375507788255492]]\n"
          ]
        }
      ]
    },
    {
      "cell_type": "markdown",
      "source": [
        "### Updating `w1`\n",
        "Now we will go one more step backward. The updated value of `w1` will be, $$w_1 = w_1 - learningRate×\\frac{dEa_o}{dw_1}$$.<br>\n",
        "Now, using chain rule as before, we will calculate the value of $\\frac{dEa_o}{dw_1}$.<br>\n"
      ],
      "metadata": {
        "id": "ilbzTThZiWhp"
      }
    },
    {
      "cell_type": "markdown",
      "source": [
        "$$\\frac{dEa_o}{dw_1} = \\frac{dEa_o}{dz_h}×\\frac{dz_h}{dw_1}$$\n",
        "$$\\frac{dEa_o}{dw_1} = \\frac{dEa_o}{da_h}×\\frac{da_h}{dz_h}×\\frac{dz_h}{dw_1}$$\n",
        "Since, there is no direct relationship between $dEa_o$ and $da_h$, we have to break them again using chain rule as follows.\n",
        "$$\\frac{dEa_o}{da_h} = \\frac{dEa_o}{dz_o}×\\frac{dz_o}{da_h} = \\frac{dEa_o}{da_o}×\\frac{da_o}{dz_o}×\\frac{dz_o}{da_h}$$\n",
        "But, we have already calculated the value of $\\frac{dEa_o}{da_o}×\\frac{da_o}{dz_o}$ while updating `w2`. So,\n",
        "$$\\frac{dz_o}{da_h} = \\frac{d}{da_h}(a_h×w_2) = w_2$$"
      ],
      "metadata": {
        "id": "WBKUIrkujPxr"
      }
    },
    {
      "cell_type": "code",
      "source": [
        "dEdzo = (a_o-y)*a_o*(1-a_o)\n",
        "dEdah = np.matmul(dEdzo, w2.T)\n",
        "print(f'dEdah:\\n {dEdah}')"
      ],
      "metadata": {
        "colab": {
          "base_uri": "https://localhost:8080/"
        },
        "id": "ASx8-jW-mPkl",
        "outputId": "7f687ac1-b4f3-47db-cb21-8c5eed0c6dad"
      },
      "execution_count": null,
      "outputs": [
        {
          "output_type": "stream",
          "name": "stdout",
          "text": [
            "dEdah:\n",
            " [[-0.0367845476899038 -0.024929694911217062]\n",
            " [0.09316751833820702 0.06314167099149116]\n",
            " [0.09538451026808169 0.06464417505646775]\n",
            " [-0.035205395297959796 -0.023859468693367223]\n",
            " [-0.027670517314551227 -0.018752916591567727]]\n"
          ]
        }
      ]
    },
    {
      "cell_type": "markdown",
      "source": [
        "We have successfully calculated the value of $\\frac{dEa_o}{da_h}$. As it is the derivative of sigmoid, $$\\frac{da_h}{dz_h} = a_h\\times(1-a_h)$$"
      ],
      "metadata": {
        "id": "DKosFkQInCIp"
      }
    },
    {
      "cell_type": "code",
      "source": [
        "dahdzh = sigmoid_derivative(a_h)\n",
        "print(f'dahdzh:\\n {dahdzh}')"
      ],
      "metadata": {
        "colab": {
          "base_uri": "https://localhost:8080/"
        },
        "id": "tTSB98qynnzD",
        "outputId": "f07aa647-768b-47c0-b3ad-721ad6c90afa"
      },
      "execution_count": null,
      "outputs": [
        {
          "output_type": "stream",
          "name": "stdout",
          "text": [
            "dahdzh:\n",
            " [[0.23924038 0.221531  ]\n",
            " [0.21907776 0.23132793]\n",
            " [0.24976855 0.24778082]\n",
            " [0.23602974 0.20624163]\n",
            " [0.17630219 0.15368493]]\n"
          ]
        }
      ]
    },
    {
      "cell_type": "markdown",
      "source": [
        "Now, for the last term to calculate $\\frac{dEa_o}{dw_1}$,$$\\frac{dz_h}{dw_1} = \\frac{d}{dw_1}(X×w_1) = X$$"
      ],
      "metadata": {
        "id": "26bA2etbj7x-"
      }
    },
    {
      "cell_type": "code",
      "source": [
        "dEdw1 = np.matmul(X.T, dahdzh*dEdah)\n",
        "print(f'dEdw1:\\n {dEdw1}')"
      ],
      "metadata": {
        "colab": {
          "base_uri": "https://localhost:8080/"
        },
        "id": "Jn761PWHotVC",
        "outputId": "263156b0-5652-4193-c814-3f932247646f"
      },
      "execution_count": null,
      "outputs": [
        {
          "output_type": "stream",
          "name": "stdout",
          "text": [
            "dEdw1:\n",
            " [[0.010636158069452568 0.008214730045246046]\n",
            " [-0.02198824240659078 -0.01332555659296521]\n",
            " [0.015532558255506021 0.011724391448681752]]\n"
          ]
        }
      ]
    },
    {
      "cell_type": "markdown",
      "source": [
        "Now, we'll update the weight values of `w1` by subtracting $\\frac{dEa_o}{dw_1}$ from `w1`."
      ],
      "metadata": {
        "id": "OGdMLx2ppu1l"
      }
    },
    {
      "cell_type": "code",
      "source": [
        "w1 = w1-learning_rate*dEdw1\n",
        "print(f'w1:\\n {w1}')"
      ],
      "metadata": {
        "colab": {
          "base_uri": "https://localhost:8080/"
        },
        "id": "tiX97IrUp3W6",
        "outputId": "ed0ecf29-00de-427e-9476-27d31689857d"
      },
      "execution_count": null,
      "outputs": [
        {
          "output_type": "stream",
          "name": "stdout",
          "text": [
            "w1:\n",
            " [[0.02896379185988166 0.1643492569162317]\n",
            " [0.4869900180227421 0.7424124297936561]\n",
            " [0.6881543855289348 0.525662063587583]]\n"
          ]
        }
      ]
    },
    {
      "cell_type": "markdown",
      "source": [
        "# Prediction"
      ],
      "metadata": {
        "id": "davy_VOCqR23"
      }
    },
    {
      "cell_type": "code",
      "source": [
        "def predict(X,w1,w2):\n",
        "    return sigmoid(np.matmul(sigmoid(np.matmul(X, w1)), w2))"
      ],
      "metadata": {
        "id": "a45S17lptzxm"
      },
      "execution_count": null,
      "outputs": []
    },
    {
      "cell_type": "code",
      "source": [
        "prediction = predict(X,w1,w2)\n",
        "\n",
        "print(f'prediction probabilities:\\n {prediction}')\n",
        "print(f'prediction:\\n {np.round(prediction)}')"
      ],
      "metadata": {
        "colab": {
          "base_uri": "https://localhost:8080/"
        },
        "id": "qq38OHjbqXkw",
        "outputId": "e3d8bd10-69ef-4b8c-8515-d2cfb48ab4da"
      },
      "execution_count": null,
      "outputs": [
        {
          "output_type": "stream",
          "name": "stdout",
          "text": [
            "prediction probabilities:\n",
            " [[0.66737711]\n",
            " [0.66922551]\n",
            " [0.63742317]\n",
            " [0.67171931]\n",
            " [0.70054021]]\n",
            "prediction:\n",
            " [[1.]\n",
            " [1.]\n",
            " [1.]\n",
            " [1.]\n",
            " [1.]]\n"
          ]
        }
      ]
    },
    {
      "cell_type": "markdown",
      "source": [
        "# Training\n",
        "Let's run for 500 epochs and check whether the loss decreases or not. In the mean time, the prediction should get better."
      ],
      "metadata": {
        "id": "nD8La09qqwd9"
      }
    },
    {
      "cell_type": "code",
      "source": [
        "data_np = data.to_numpy()\n",
        "X = data_np[:,[1,2,3]]\n",
        "y = data_np[:,4]\n",
        "y = np.atleast_2d(y).T\n",
        "\n",
        "w1 = np.random.random((3,2))\n",
        "w2 = np.random.random((2,1))\n",
        "\n",
        "epochs = 50\n",
        "learning_rate = 3\n",
        "\n",
        "for i in range(0, epochs):\n",
        "    \n",
        "    # forward prop\n",
        "    z_h=np.matmul(X,w1)\n",
        "    a_h = sigmoid(z_h)\n",
        "    z_o=np.matmul(a_h,w2)\n",
        "    a_o=sigmoid(z_o)\n",
        "    error = (0.5*(np.power((a_o-y),2)))\n",
        "    print(f'error in epoch {i+1}: {np.sum(error)}')\n",
        "\n",
        "    # backprop\n",
        "    dEdao = a_o-y\n",
        "    daozo = sigmoid_derivative(a_o)\n",
        "    dEdw2 = np.matmul(a_h.T, (dEdao*daozo))\n",
        "    learning_rate = 3\n",
        "    w2 = w2 - learning_rate*dEdw2\n",
        "    dEdzo = dEdao*daozo\n",
        "    dEdah = np.matmul(dEdzo, w2.T)\n",
        "    dahdzh = sigmoid_derivative(a_h)\n",
        "    dEdw1 = np.matmul(X.T, dEdah*dahdzh)\n",
        "    w1 = w1-learning_rate*dEdw1\n",
        "\n",
        "prediction = predict(X, w1, w2)\n",
        "\n",
        "print(f'prediction probabilities:\\n {prediction}')\n",
        "print(f'prediction:\\n {np.round(prediction)}')"
      ],
      "metadata": {
        "colab": {
          "base_uri": "https://localhost:8080/"
        },
        "id": "QUbD7hcxrFhI",
        "outputId": "21496423-6dd8-443e-ed4d-379620af94f6"
      },
      "execution_count": null,
      "outputs": [
        {
          "output_type": "stream",
          "name": "stdout",
          "text": [
            "error in epoch 1: 0.5956691246019503\n",
            "error in epoch 2: 0.5806012914750472\n",
            "error in epoch 3: 0.5746742648105608\n",
            "error in epoch 4: 0.5697219380349796\n",
            "error in epoch 5: 0.5645393837161651\n",
            "error in epoch 6: 0.5589612827340483\n",
            "error in epoch 7: 0.5528518989436831\n",
            "error in epoch 8: 0.5460397137959127\n",
            "error in epoch 9: 0.5383175043568156\n",
            "error in epoch 10: 0.529440736943396\n",
            "error in epoch 11: 0.5191267108003014\n",
            "error in epoch 12: 0.5070580553024208\n",
            "error in epoch 13: 0.49289393011888466\n",
            "error in epoch 14: 0.476292734453458\n",
            "error in epoch 15: 0.4569501007668793\n",
            "error in epoch 16: 0.43465403665457164\n",
            "error in epoch 17: 0.4093536829366846\n",
            "error in epoch 18: 0.3812286660978443\n",
            "error in epoch 19: 0.350735570279736\n",
            "error in epoch 20: 0.31860530289082634\n",
            "error in epoch 21: 0.28577905397406184\n",
            "error in epoch 22: 0.25329726195365615\n",
            "error in epoch 23: 0.22217429033741498\n",
            "error in epoch 24: 0.1932847456238719\n",
            "error in epoch 25: 0.16726985796607263\n",
            "error in epoch 26: 0.14447402362260636\n",
            "error in epoch 27: 0.12493658918527709\n",
            "error in epoch 28: 0.1084511241914989\n",
            "error in epoch 29: 0.09466488583096631\n",
            "error in epoch 30: 0.08317388957797463\n",
            "error in epoch 31: 0.07358733248992107\n",
            "error in epoch 32: 0.06555978298109058\n",
            "error in epoch 33: 0.05880108690735916\n",
            "error in epoch 34: 0.05307436795765462\n",
            "error in epoch 35: 0.048189107773164236\n",
            "error in epoch 36: 0.043993070994046195\n",
            "error in epoch 37: 0.04036477200658224\n",
            "error in epoch 38: 0.03720707620398343\n",
            "error in epoch 39: 0.03444201352517047\n",
            "error in epoch 40: 0.032006676511391934\n",
            "error in epoch 41: 0.029850016255662165\n",
            "error in epoch 42: 0.027930353147137377\n",
            "error in epoch 43: 0.026213445015713273\n",
            "error in epoch 44: 0.024670985419017993\n",
            "error in epoch 45: 0.023279432403809128\n",
            "error in epoch 46: 0.02201909099314077\n",
            "error in epoch 47: 0.020873390801868202\n",
            "error in epoch 48: 0.019828314196287042\n",
            "error in epoch 49: 0.018871941085197436\n",
            "error in epoch 50: 0.017994084501033625\n",
            "prediction probabilities:\n",
            " [[0.9705285 ]\n",
            " [0.10113751]\n",
            " [0.10618688]\n",
            " [0.95689231]\n",
            " [0.89929895]]\n",
            "prediction:\n",
            " [[1.]\n",
            " [0.]\n",
            " [0.]\n",
            " [1.]\n",
            " [1.]]\n"
          ]
        }
      ]
    },
    {
      "cell_type": "markdown",
      "source": [
        "### Tasks\n",
        "1. Implement a neural network model to classify if a Apple leaf is healthy or not. The dataset can be using the [iPython notebook that was provided in the last lab](https://colab.research.google.com/drive/1_um93xoAuHTZaNFy9kuLPeaa4gRLq7W_?usp=sharing). Your neural network model should contain a **single** hidden layer with as many neurons as you want. For this task, use of any libraries other than `numpy` and `pandas` is prohibited. Your training, validation and test set should have a ratio of 60:20:20. Finally, show the `accuracy` score along with two graphs - training & validation accuracy vs epoch, training & validation loss vs epoch.\n",
        "\n",
        "1. Implement a neural network model to classify three categories of Apple leaf disease using **Keras** library from python. Your neural network model should contain **multiple** hidden layers with as many neurons as you want. For this task, use of any library is permissible. Your training, validation and test set should have a ratio of 60:20:20. Finally, show the `accuracy` score along with two graphs - training & validation accuracy vs epoch, training & validation loss vs epoch. This [link](https://machinelearningmastery.com/tutorial-first-neural-network-python-keras/) might help you implementing a neural network with **Keras**.\n",
        "\n",
        "1. For the task `2`, experiment with different number of hidden layers (*2, 4, 6*) to increase the accuracy score. Also show the effect of followings on overall performance: **different activation function (*relu, sigmoid, tanh*) for layers**, **different optimizers (*Adam, Adagrad, Adadelta*)**, and **various learning rates (*1, 0.1, 0.01*)**.\n",
        "<br>\n",
        "<br>\n",
        "*N.B.: Any additional experiment (such as, Early Stopping) with justification or training insights will contain bonus points.*\n",
        "    "
      ],
      "metadata": {
        "id": "IVlm_ftn9xXB"
      }
    },
    {
      "cell_type": "code",
      "source": [
        "import os\n",
        "import cv2\n",
        "import numpy as np\n",
        "import glob\n",
        "import matplotlib.pyplot as plt\n",
        "import shutil\n",
        "import pandas as pd\n",
        "from sklearn.metrics import accuracy_score"
      ],
      "metadata": {
        "id": "qXimqTjva5U5"
      },
      "execution_count": null,
      "outputs": []
    },
    {
      "cell_type": "code",
      "source": [
        "!curl -L -o 'apple.zip' 'https://drive.google.com/u/0/uc?id=1WZDAdKXdA1uKM6tl-dCWGUk7Um1EiEUO&export=download&confirm=t'\n",
        "shutil.unpack_archive(\"/content/apple.zip\", \"/content/apple\")"
      ],
      "metadata": {
        "colab": {
          "base_uri": "https://localhost:8080/"
        },
        "id": "rDf8cE8Da6t7",
        "outputId": "71d5d793-125b-4244-ffce-8399b7bf3ebb"
      },
      "execution_count": null,
      "outputs": [
        {
          "output_type": "stream",
          "name": "stdout",
          "text": [
            "  % Total    % Received % Xferd  Average Speed   Time    Time     Time  Current\n",
            "                                 Dload  Upload   Total   Spent    Left  Speed\n",
            "  0     0    0     0    0     0      0      0 --:--:-- --:--:-- --:--:--     0\n",
            "  0     0    0     0    0     0      0      0 --:--:--  0:00:01 --:--:--     0\n",
            "100 36.3M  100 36.3M    0     0  14.5M      0  0:00:02  0:00:02 --:--:-- 61.1M\n"
          ]
        }
      ]
    },
    {
      "cell_type": "markdown",
      "source": [
        "### Solution: Task - 1"
      ],
      "metadata": {
        "id": "M-GWRdXfEADs"
      }
    },
    {
      "cell_type": "code",
      "source": [
        "files = glob.glob('apple/*/*')\n",
        "print(files[0])"
      ],
      "metadata": {
        "id": "vJcurzeEi8ww",
        "colab": {
          "base_uri": "https://localhost:8080/"
        },
        "outputId": "c8a2498a-d65f-4cad-c149-db6f0324c54f"
      },
      "execution_count": null,
      "outputs": [
        {
          "output_type": "stream",
          "name": "stdout",
          "text": [
            "apple/Apple___Black_rot/image (417).JPG\n"
          ]
        }
      ]
    },
    {
      "cell_type": "code",
      "source": [
        "X = []\n",
        "y = []\n",
        "for f in files:\n",
        "  img = cv2.imread(f, cv2.IMREAD_GRAYSCALE)\n",
        "  r_img = cv2.resize(img, (10, 10), interpolation=cv2.INTER_CUBIC)\n",
        "  r_img = np.reshape(r_img, newshape=(-1,))\n",
        "  X.append(r_img)\n",
        "  if \"Black_rot\" in f:\n",
        "    y.append(0)\n",
        "  elif \"Cedar_apple_rust\" in f:\n",
        "    y.append(0)\n",
        "  else:\n",
        "    y.append(1)"
      ],
      "metadata": {
        "id": "5tgiw0gebWJI"
      },
      "execution_count": null,
      "outputs": []
    },
    {
      "cell_type": "code",
      "source": [
        "X = np.array(X)\n",
        "y = np.array(y)\n",
        "y = np.reshape(y, newshape=(2541, 1))\n",
        "print(X.shape)\n",
        "print(y.shape)"
      ],
      "metadata": {
        "colab": {
          "base_uri": "https://localhost:8080/"
        },
        "id": "GFE6R_VvbcDR",
        "outputId": "11c23f04-074b-414b-9b69-36d92d0f0597"
      },
      "execution_count": null,
      "outputs": [
        {
          "output_type": "stream",
          "name": "stdout",
          "text": [
            "(2541, 100)\n",
            "(2541, 1)\n"
          ]
        }
      ]
    },
    {
      "cell_type": "code",
      "source": [
        "from sklearn.model_selection import train_test_split\n",
        "\n",
        "# assuming your data and labels are in X and y arrays, respectively\n",
        "X_train, X_cv, y_train, y_cv = train_test_split(X, y, test_size=0.2, random_state=101)\n",
        "X_train, X_test, y_train, y_test = train_test_split(X_train, y_train, test_size=0.25, random_state=101)\n",
        "print(X_train.shape, X_cv.shape, X_test.shape)"
      ],
      "metadata": {
        "colab": {
          "base_uri": "https://localhost:8080/"
        },
        "id": "M6_dR62mbfIy",
        "outputId": "90fb91e3-e3f5-40bd-ab29-ac0832bf1f53"
      },
      "execution_count": null,
      "outputs": [
        {
          "output_type": "stream",
          "name": "stdout",
          "text": [
            "(1524, 100) (509, 100) (508, 100)\n"
          ]
        }
      ]
    },
    {
      "cell_type": "code",
      "source": [
        "class NN:\n",
        "  def __init__(self, lr=0.001, hu = 500, n_iters=1000):\n",
        "    self.w1 = None\n",
        "    self.w2 = None\n",
        "    self.lr = lr\n",
        "    self.n_iters = n_iters\n",
        "    self.hu = hu\n",
        "\n",
        "  def sigmoid(self, z):\n",
        "      return 1 / (1 + np.exp(-z))\n",
        "  def fit(self, X_train, y_train, X_cv, y_cv, X_test, y_test):\n",
        "    n_samples, n_features = X_train.shape\n",
        "    self.w1 = np.random.random((n_features, self.hu))\n",
        "    self.w2 = np.random.random((self.hu, 1))\n",
        "\n",
        "    self.errors_train = []\n",
        "    self.errors_cv = []\n",
        "    self.errors_test = []\n",
        "\n",
        "    self.accuracy_train = []\n",
        "    self.accuracy_cv = []\n",
        "    self.accuracy_test = []\n",
        "\n",
        "    for i in range(0, self.n_iters):\n",
        "      # forward prop\n",
        "      z_h = np.matmul(X_train,self.w1)\n",
        "      a_h = sigmoid(z_h)\n",
        "      z_o = np.matmul(a_h,self.w2)\n",
        "      a_o = sigmoid(z_o)\n",
        "      \n",
        "      error_train = np.mean(0.5*(np.power((a_o-y_train),2)))\n",
        "      self.errors_train.append(error_train)\n",
        "      self.accuracy_train.append(accuracy_score(y_train, self.predict(X_train)))\n",
        "\n",
        "      a_o_cv = sigmoid(np.matmul(sigmoid(np.matmul(X_cv, self.w1)), self.w2))\n",
        "      error_cv = np.sum(0.5*(np.power((a_o_cv - y_cv), 2)))\n",
        "      self.errors_cv.append(error_cv)\n",
        "\n",
        "      a_o_test = sigmoid(np.matmul(sigmoid(np.matmul(X_test, self.w1)), self.w2))\n",
        "      error_test = np.sum(0.5*(np.power((a_o_test - y_test), 2)))\n",
        "      self.errors_test.append(error_test)\n",
        "\n",
        "      if (i+1)%100 == 0:\n",
        "        print(f'train error in epoch {i+1}: {np.sum(error_train)}')\n",
        "        # print(f'cv error in epoch {i+1}: {np.sum(error_cv)}')\n",
        "        # print(f'test error in epoch {i+1}: {np.sum(error_test)}')\n",
        "\n",
        "      # backprop\n",
        "      dEdao = a_o - y_train\n",
        "      daozo = sigmoid_derivative(a_o)\n",
        "      dEdzo = dEdao * daozo\n",
        "      dEdw2 = np.dot(a_h.T, dEdzo)\n",
        "      self.w2 = self.w2 - self.lr * dEdw2\n",
        "\n",
        "      dEdah = np.matmul(dEdzo, self.w2.T)\n",
        "      dahdzh = sigmoid_derivative(a_h)\n",
        "      dEdzh = dEdah * dahdzh\n",
        "      dEdw1 = np.matmul(X_train.T, dEdzh)\n",
        "      self.w1 = self.w1 - self.lr * dEdw1\n",
        "  def predict(self, X):\n",
        "    z_h = np.matmul(X,self.w1)\n",
        "    a_h = sigmoid(z_h)\n",
        "    z_o = np.matmul(a_h,self.w2)\n",
        "    a_o = sigmoid(z_o)\n",
        "    return np.round(a_o)\n",
        "  def plot_error(self):\n",
        "    iters = np.arange(0, self.n_iters)\n",
        "    fig = plt.figure(figsize=(8, 6))\n",
        "    plt.plot(iters, self.errors_train, color='b')\n",
        "    plt.plot(iters, self.errors_test, color='r')\n",
        "    plt.xlabel(\"Iterations\")\n",
        "    plt.ylabel(\"Error\")\n",
        "    plt.show()\n",
        "\n",
        "  def plot_accuracy(self):\n",
        "    iters = np.arange(0, self.n_iters)\n",
        "    fig = plt.figure(figsize=(8, 6))\n",
        "    plt.plot(iters, self.accuracy_train, color='b')\n",
        "    plt.plot(iters, self.accuracy_test, color='r')\n",
        "    plt.xlabel(\"Iterations\")\n",
        "    plt.ylabel(\"Accuracy Score\")\n",
        "    plt.show()\n"
      ],
      "metadata": {
        "id": "XHRP8li7bhXv"
      },
      "execution_count": null,
      "outputs": []
    },
    {
      "cell_type": "code",
      "source": [
        "model = NN(lr = .001, hu=700)\n",
        "y_cv.shape\n",
        "model.fit(X_train, y_train, X_cv, y_cv, X_test, y_test)"
      ],
      "metadata": {
        "colab": {
          "base_uri": "https://localhost:8080/"
        },
        "id": "twlVy2U9bnSL",
        "outputId": "2e400b9d-3b36-454a-cea5-77f658c98f55"
      },
      "execution_count": null,
      "outputs": [
        {
          "output_type": "stream",
          "name": "stdout",
          "text": [
            "train error in epoch 100: 0.1729002624671916\n",
            "train error in epoch 200: 0.1729002624671916\n",
            "train error in epoch 300: 0.1729002624671916\n",
            "train error in epoch 400: 0.1729002624671916\n",
            "train error in epoch 500: 0.1729002624671916\n",
            "train error in epoch 600: 0.1729002624671916\n",
            "train error in epoch 700: 0.1729002624671916\n",
            "train error in epoch 800: 0.1729002624671916\n",
            "train error in epoch 900: 0.1729002624671916\n",
            "train error in epoch 1000: 0.1729002624671916\n"
          ]
        }
      ]
    },
    {
      "cell_type": "code",
      "source": [
        "y_hat = model.predict(X_test)"
      ],
      "metadata": {
        "id": "_IZsfrUXcrLw"
      },
      "execution_count": null,
      "outputs": []
    },
    {
      "cell_type": "code",
      "source": [
        "error = np.sum(np.power(y_hat-y_test, 2))\n",
        "print(f\"Error = {error}\")"
      ],
      "metadata": {
        "colab": {
          "base_uri": "https://localhost:8080/"
        },
        "id": "v2cAOMktcL-Y",
        "outputId": "0fb6f1e9-2a75-403f-b3b4-cd4d7cc7e2d2"
      },
      "execution_count": null,
      "outputs": [
        {
          "output_type": "stream",
          "name": "stdout",
          "text": [
            "Error = 180.0\n"
          ]
        }
      ]
    },
    {
      "cell_type": "code",
      "source": [
        "model.plot_error()"
      ],
      "metadata": {
        "id": "5GTVjQuecvl1"
      },
      "execution_count": null,
      "outputs": []
    },
    {
      "cell_type": "code",
      "source": [
        "model.plot_accuracy()"
      ],
      "metadata": {
        "id": "1KXKflFzdDHR"
      },
      "execution_count": null,
      "outputs": []
    },
    {
      "cell_type": "markdown",
      "source": [
        "### Solution: Task - 2"
      ],
      "metadata": {
        "id": "8Hk4oDAQEGgh"
      }
    },
    {
      "cell_type": "code",
      "source": [
        "# Codes for Task 2\n",
        "from tensorflow.keras.models import Sequential\n",
        "from tensorflow.keras.layers import Dense\n",
        "from tensorflow.keras.optimizers import Adam, Adagrad, Adadelta\n",
        "from sklearn.model_selection import train_test_split"
      ],
      "metadata": {
        "id": "pVHnDoDVBRod"
      },
      "execution_count": null,
      "outputs": []
    },
    {
      "cell_type": "code",
      "source": [
        "# load dataset\n",
        "X = []\n",
        "y = []\n",
        "for f in files:\n",
        "  img = cv2.imread(f, cv2.IMREAD_GRAYSCALE)\n",
        "  r_img = cv2.resize(img, (28, 28), interpolation=cv2.INTER_CUBIC)\n",
        "  r_img = np.reshape(r_img, newshape=(-1,))\n",
        "  X.append(r_img)\n",
        "  if \"Black_rot\" in f:\n",
        "    y.append(np.array([1., 0., 0.]))\n",
        "  elif \"Cedar_apple_rust\" in f:\n",
        "   y.append(np.array([0., 1., 0.]))\n",
        "  elif \"healthy\" in f:\n",
        "    y.append(np.array([0., 0., 1.]))\n",
        "X = np.array(X)\n",
        "y = np.array(y)\n",
        "print(X.shape)\n",
        "print(y.shape)"
      ],
      "metadata": {
        "colab": {
          "base_uri": "https://localhost:8080/"
        },
        "id": "RvmghQz-dnPt",
        "outputId": "08be4661-a0e9-4274-f244-6fdc82674b3e"
      },
      "execution_count": null,
      "outputs": [
        {
          "output_type": "stream",
          "name": "stdout",
          "text": [
            "(2541, 784)\n",
            "(2541, 3)\n"
          ]
        }
      ]
    },
    {
      "cell_type": "code",
      "source": [
        "X_train, X_test, y_train, y_test = train_test_split(X, y, test_size=0.2, random_state=101)"
      ],
      "metadata": {
        "id": "oXBLFeMsdq4f"
      },
      "execution_count": null,
      "outputs": []
    },
    {
      "cell_type": "code",
      "source": [
        "# define the keras model\n",
        "model = Sequential()\n",
        "model.add(Dense(200, input_shape=(784,), activation='relu'))\n",
        "model.add(Dense(60, activation='relu'))\n",
        "model.add(Dense(8, activation='relu'))\n",
        "model.add(Dense(3, activation='sigmoid'))"
      ],
      "metadata": {
        "id": "WxgzBb9LdtKW"
      },
      "execution_count": null,
      "outputs": []
    },
    {
      "cell_type": "code",
      "source": [
        "model.compile(loss='binary_crossentropy', optimizer='adam', metrics=['accuracy'])"
      ],
      "metadata": {
        "id": "AD2y0FXKdvv4"
      },
      "execution_count": null,
      "outputs": []
    },
    {
      "cell_type": "code",
      "source": [
        "history = model.fit(X_train, y_train, validation_split=0.2, epochs=150, batch_size=10)"
      ],
      "metadata": {
        "colab": {
          "base_uri": "https://localhost:8080/"
        },
        "id": "tzCRlXcLdx_-",
        "outputId": "da4e52c2-37bd-4bce-82a8-cbf976bdbf2b"
      },
      "execution_count": null,
      "outputs": [
        {
          "output_type": "stream",
          "name": "stdout",
          "text": [
            "Epoch 1/150\n",
            "163/163 [==============================] - 3s 6ms/step - loss: 5.5239 - accuracy: 0.6043 - val_loss: 4.8307 - val_accuracy: 0.5135\n",
            "Epoch 2/150\n",
            "163/163 [==============================] - 1s 5ms/step - loss: 3.6753 - accuracy: 0.6406 - val_loss: 2.8066 - val_accuracy: 0.6953\n",
            "Epoch 3/150\n",
            "163/163 [==============================] - 1s 4ms/step - loss: 1.9296 - accuracy: 0.6622 - val_loss: 2.9011 - val_accuracy: 0.5037\n",
            "Epoch 4/150\n",
            "163/163 [==============================] - 1s 4ms/step - loss: 1.6583 - accuracy: 0.6425 - val_loss: 0.8547 - val_accuracy: 0.7125\n",
            "Epoch 5/150\n",
            "163/163 [==============================] - 1s 4ms/step - loss: 0.8027 - accuracy: 0.7126 - val_loss: 0.6768 - val_accuracy: 0.7248\n",
            "Epoch 6/150\n",
            "163/163 [==============================] - 1s 4ms/step - loss: 0.6509 - accuracy: 0.7188 - val_loss: 0.6324 - val_accuracy: 0.7248\n",
            "Epoch 7/150\n",
            "163/163 [==============================] - 1s 4ms/step - loss: 0.6784 - accuracy: 0.6831 - val_loss: 0.6651 - val_accuracy: 0.5651\n",
            "Epoch 8/150\n",
            "163/163 [==============================] - 1s 4ms/step - loss: 0.5720 - accuracy: 0.6960 - val_loss: 0.4575 - val_accuracy: 0.7297\n",
            "Epoch 9/150\n",
            "163/163 [==============================] - 1s 4ms/step - loss: 0.5586 - accuracy: 0.7206 - val_loss: 0.7077 - val_accuracy: 0.6806\n",
            "Epoch 10/150\n",
            "163/163 [==============================] - 1s 4ms/step - loss: 0.4668 - accuracy: 0.7348 - val_loss: 0.5124 - val_accuracy: 0.7445\n",
            "Epoch 11/150\n",
            "163/163 [==============================] - 1s 4ms/step - loss: 0.4824 - accuracy: 0.7163 - val_loss: 0.3981 - val_accuracy: 0.7568\n",
            "Epoch 12/150\n",
            "163/163 [==============================] - 1s 4ms/step - loss: 0.4130 - accuracy: 0.7643 - val_loss: 0.3901 - val_accuracy: 0.7568\n",
            "Epoch 13/150\n",
            "163/163 [==============================] - 1s 8ms/step - loss: 0.4122 - accuracy: 0.7452 - val_loss: 0.4496 - val_accuracy: 0.7150\n",
            "Epoch 14/150\n",
            "163/163 [==============================] - 1s 7ms/step - loss: 0.3960 - accuracy: 0.7643 - val_loss: 0.3907 - val_accuracy: 0.7420\n",
            "Epoch 15/150\n",
            "163/163 [==============================] - 1s 5ms/step - loss: 0.3786 - accuracy: 0.7649 - val_loss: 0.3912 - val_accuracy: 0.7666\n",
            "Epoch 16/150\n",
            "163/163 [==============================] - 1s 4ms/step - loss: 0.3882 - accuracy: 0.7662 - val_loss: 0.5343 - val_accuracy: 0.6806\n",
            "Epoch 17/150\n",
            "163/163 [==============================] - 1s 4ms/step - loss: 0.3940 - accuracy: 0.7637 - val_loss: 0.4501 - val_accuracy: 0.7027\n",
            "Epoch 18/150\n",
            "163/163 [==============================] - 1s 4ms/step - loss: 0.3929 - accuracy: 0.7754 - val_loss: 0.4295 - val_accuracy: 0.7224\n",
            "Epoch 19/150\n",
            "163/163 [==============================] - 1s 4ms/step - loss: 0.3974 - accuracy: 0.7502 - val_loss: 0.4969 - val_accuracy: 0.7101\n",
            "Epoch 20/150\n",
            "163/163 [==============================] - 1s 4ms/step - loss: 0.3863 - accuracy: 0.7569 - val_loss: 0.4196 - val_accuracy: 0.7150\n",
            "Epoch 21/150\n",
            "163/163 [==============================] - 1s 4ms/step - loss: 0.4262 - accuracy: 0.7360 - val_loss: 0.4378 - val_accuracy: 0.7273\n",
            "Epoch 22/150\n",
            "163/163 [==============================] - 1s 4ms/step - loss: 0.3943 - accuracy: 0.7631 - val_loss: 0.3673 - val_accuracy: 0.7322\n",
            "Epoch 23/150\n",
            "163/163 [==============================] - 1s 4ms/step - loss: 0.3744 - accuracy: 0.7698 - val_loss: 0.3848 - val_accuracy: 0.7469\n",
            "Epoch 24/150\n",
            "163/163 [==============================] - 1s 4ms/step - loss: 0.3599 - accuracy: 0.7858 - val_loss: 0.3595 - val_accuracy: 0.7641\n",
            "Epoch 25/150\n",
            "163/163 [==============================] - 1s 5ms/step - loss: 0.3596 - accuracy: 0.7791 - val_loss: 0.3403 - val_accuracy: 0.7985\n",
            "Epoch 26/150\n",
            "163/163 [==============================] - 1s 4ms/step - loss: 0.3677 - accuracy: 0.7772 - val_loss: 0.4102 - val_accuracy: 0.7199\n",
            "Epoch 27/150\n",
            "163/163 [==============================] - 1s 4ms/step - loss: 0.3603 - accuracy: 0.7778 - val_loss: 0.3611 - val_accuracy: 0.7690\n",
            "Epoch 28/150\n",
            "163/163 [==============================] - 1s 5ms/step - loss: 0.3492 - accuracy: 0.7889 - val_loss: 0.4612 - val_accuracy: 0.7150\n",
            "Epoch 29/150\n",
            "163/163 [==============================] - 1s 6ms/step - loss: 0.3478 - accuracy: 0.7920 - val_loss: 0.3537 - val_accuracy: 0.7715\n",
            "Epoch 30/150\n",
            "163/163 [==============================] - 1s 7ms/step - loss: 0.3406 - accuracy: 0.7809 - val_loss: 0.3487 - val_accuracy: 0.7838\n",
            "Epoch 31/150\n",
            "163/163 [==============================] - 1s 6ms/step - loss: 0.3026 - accuracy: 0.8234 - val_loss: 0.4473 - val_accuracy: 0.7052\n",
            "Epoch 32/150\n",
            "163/163 [==============================] - 1s 4ms/step - loss: 0.3196 - accuracy: 0.8025 - val_loss: 0.3228 - val_accuracy: 0.8010\n",
            "Epoch 33/150\n",
            "163/163 [==============================] - 1s 4ms/step - loss: 0.2910 - accuracy: 0.8123 - val_loss: 0.4041 - val_accuracy: 0.7322\n",
            "Epoch 34/150\n",
            "163/163 [==============================] - 1s 4ms/step - loss: 0.3417 - accuracy: 0.7902 - val_loss: 0.3945 - val_accuracy: 0.7641\n",
            "Epoch 35/150\n",
            "163/163 [==============================] - 1s 4ms/step - loss: 0.3402 - accuracy: 0.7686 - val_loss: 0.3482 - val_accuracy: 0.7789\n",
            "Epoch 36/150\n",
            "163/163 [==============================] - 1s 4ms/step - loss: 0.3324 - accuracy: 0.7834 - val_loss: 0.3343 - val_accuracy: 0.7961\n",
            "Epoch 37/150\n",
            "163/163 [==============================] - 1s 4ms/step - loss: 0.3052 - accuracy: 0.7957 - val_loss: 0.3310 - val_accuracy: 0.7789\n",
            "Epoch 38/150\n",
            "163/163 [==============================] - 1s 4ms/step - loss: 0.2720 - accuracy: 0.8357 - val_loss: 0.3119 - val_accuracy: 0.7961\n",
            "Epoch 39/150\n",
            "163/163 [==============================] - 1s 4ms/step - loss: 0.2765 - accuracy: 0.8197 - val_loss: 0.4372 - val_accuracy: 0.6929\n",
            "Epoch 40/150\n",
            "163/163 [==============================] - 1s 4ms/step - loss: 0.2875 - accuracy: 0.8197 - val_loss: 0.3421 - val_accuracy: 0.7543\n",
            "Epoch 41/150\n",
            "163/163 [==============================] - 1s 4ms/step - loss: 0.2803 - accuracy: 0.8203 - val_loss: 0.4023 - val_accuracy: 0.7174\n",
            "Epoch 42/150\n",
            "163/163 [==============================] - 1s 4ms/step - loss: 0.2709 - accuracy: 0.8283 - val_loss: 0.4214 - val_accuracy: 0.7052\n",
            "Epoch 43/150\n",
            "163/163 [==============================] - 1s 4ms/step - loss: 0.2863 - accuracy: 0.8308 - val_loss: 0.3777 - val_accuracy: 0.7666\n",
            "Epoch 44/150\n",
            "163/163 [==============================] - 1s 4ms/step - loss: 0.2472 - accuracy: 0.8505 - val_loss: 0.3369 - val_accuracy: 0.7985\n",
            "Epoch 45/150\n",
            "163/163 [==============================] - 1s 4ms/step - loss: 0.2625 - accuracy: 0.8462 - val_loss: 0.3141 - val_accuracy: 0.7912\n",
            "Epoch 46/150\n",
            "163/163 [==============================] - 1s 7ms/step - loss: 0.2347 - accuracy: 0.8548 - val_loss: 0.3480 - val_accuracy: 0.7912\n",
            "Epoch 47/150\n",
            "163/163 [==============================] - 1s 7ms/step - loss: 0.2224 - accuracy: 0.8658 - val_loss: 0.3293 - val_accuracy: 0.7985\n",
            "Epoch 48/150\n",
            "163/163 [==============================] - 1s 6ms/step - loss: 0.2457 - accuracy: 0.8486 - val_loss: 0.3675 - val_accuracy: 0.7912\n",
            "Epoch 49/150\n",
            "163/163 [==============================] - 1s 5ms/step - loss: 0.2816 - accuracy: 0.8265 - val_loss: 0.4259 - val_accuracy: 0.7125\n",
            "Epoch 50/150\n",
            "163/163 [==============================] - 1s 4ms/step - loss: 0.2641 - accuracy: 0.8302 - val_loss: 0.4502 - val_accuracy: 0.6044\n",
            "Epoch 51/150\n",
            "163/163 [==============================] - 1s 4ms/step - loss: 0.3185 - accuracy: 0.7551 - val_loss: 0.3571 - val_accuracy: 0.7494\n",
            "Epoch 52/150\n",
            "163/163 [==============================] - 1s 4ms/step - loss: 0.2258 - accuracy: 0.8640 - val_loss: 0.3205 - val_accuracy: 0.7985\n",
            "Epoch 53/150\n",
            "163/163 [==============================] - 1s 4ms/step - loss: 0.2318 - accuracy: 0.8548 - val_loss: 0.4524 - val_accuracy: 0.7764\n",
            "Epoch 54/150\n",
            "163/163 [==============================] - 1s 4ms/step - loss: 0.2341 - accuracy: 0.8548 - val_loss: 0.3422 - val_accuracy: 0.7789\n",
            "Epoch 55/150\n",
            "163/163 [==============================] - 1s 4ms/step - loss: 0.2069 - accuracy: 0.8775 - val_loss: 0.3243 - val_accuracy: 0.8010\n",
            "Epoch 56/150\n",
            "163/163 [==============================] - 1s 4ms/step - loss: 0.2198 - accuracy: 0.8609 - val_loss: 0.3943 - val_accuracy: 0.7838\n",
            "Epoch 57/150\n",
            "163/163 [==============================] - 1s 4ms/step - loss: 0.2319 - accuracy: 0.8554 - val_loss: 0.3190 - val_accuracy: 0.8059\n",
            "Epoch 58/150\n",
            "163/163 [==============================] - 1s 5ms/step - loss: 0.2398 - accuracy: 0.8443 - val_loss: 0.3158 - val_accuracy: 0.7936\n",
            "Epoch 59/150\n",
            "163/163 [==============================] - 1s 4ms/step - loss: 0.1856 - accuracy: 0.8825 - val_loss: 0.3467 - val_accuracy: 0.8133\n",
            "Epoch 60/150\n",
            "163/163 [==============================] - 1s 4ms/step - loss: 0.2408 - accuracy: 0.8517 - val_loss: 0.4377 - val_accuracy: 0.7862\n",
            "Epoch 61/150\n",
            "163/163 [==============================] - 1s 5ms/step - loss: 0.2166 - accuracy: 0.8702 - val_loss: 0.3210 - val_accuracy: 0.8084\n",
            "Epoch 62/150\n",
            "163/163 [==============================] - 1s 7ms/step - loss: 0.2045 - accuracy: 0.8628 - val_loss: 0.3806 - val_accuracy: 0.7617\n",
            "Epoch 63/150\n",
            "163/163 [==============================] - 2s 10ms/step - loss: 0.1884 - accuracy: 0.8818 - val_loss: 0.4694 - val_accuracy: 0.7887\n",
            "Epoch 64/150\n",
            "163/163 [==============================] - 1s 9ms/step - loss: 0.1990 - accuracy: 0.8763 - val_loss: 0.3681 - val_accuracy: 0.7887\n",
            "Epoch 65/150\n",
            "163/163 [==============================] - 1s 6ms/step - loss: 0.1886 - accuracy: 0.8812 - val_loss: 0.3688 - val_accuracy: 0.8059\n",
            "Epoch 66/150\n",
            "163/163 [==============================] - 1s 4ms/step - loss: 0.1762 - accuracy: 0.8985 - val_loss: 0.4622 - val_accuracy: 0.7518\n",
            "Epoch 67/150\n",
            "163/163 [==============================] - 1s 4ms/step - loss: 0.1913 - accuracy: 0.8898 - val_loss: 0.4087 - val_accuracy: 0.7789\n",
            "Epoch 68/150\n",
            "163/163 [==============================] - 1s 4ms/step - loss: 0.1828 - accuracy: 0.8862 - val_loss: 0.3658 - val_accuracy: 0.8133\n",
            "Epoch 69/150\n",
            "163/163 [==============================] - 1s 4ms/step - loss: 0.1838 - accuracy: 0.8868 - val_loss: 0.3979 - val_accuracy: 0.7813\n",
            "Epoch 70/150\n",
            "163/163 [==============================] - 1s 4ms/step - loss: 0.1781 - accuracy: 0.8917 - val_loss: 0.3366 - val_accuracy: 0.7961\n",
            "Epoch 71/150\n",
            "163/163 [==============================] - 1s 4ms/step - loss: 0.1847 - accuracy: 0.8868 - val_loss: 0.5412 - val_accuracy: 0.7494\n",
            "Epoch 72/150\n",
            "163/163 [==============================] - 1s 4ms/step - loss: 0.1725 - accuracy: 0.8960 - val_loss: 0.4228 - val_accuracy: 0.8108\n",
            "Epoch 73/150\n",
            "163/163 [==============================] - 1s 4ms/step - loss: 0.2127 - accuracy: 0.8677 - val_loss: 0.4398 - val_accuracy: 0.7740\n",
            "Epoch 74/150\n",
            "163/163 [==============================] - 1s 4ms/step - loss: 0.1661 - accuracy: 0.8972 - val_loss: 0.4408 - val_accuracy: 0.7396\n",
            "Epoch 75/150\n",
            "163/163 [==============================] - 1s 4ms/step - loss: 0.1706 - accuracy: 0.9040 - val_loss: 0.4339 - val_accuracy: 0.7912\n",
            "Epoch 76/150\n",
            "163/163 [==============================] - 1s 4ms/step - loss: 0.1508 - accuracy: 0.9083 - val_loss: 0.3914 - val_accuracy: 0.8182\n",
            "Epoch 77/150\n",
            "163/163 [==============================] - 1s 6ms/step - loss: 0.1804 - accuracy: 0.8898 - val_loss: 0.3521 - val_accuracy: 0.7985\n",
            "Epoch 78/150\n",
            "163/163 [==============================] - 2s 13ms/step - loss: 0.1781 - accuracy: 0.8948 - val_loss: 0.4426 - val_accuracy: 0.7912\n",
            "Epoch 79/150\n",
            "163/163 [==============================] - 2s 10ms/step - loss: 0.1579 - accuracy: 0.9102 - val_loss: 0.3661 - val_accuracy: 0.7838\n",
            "Epoch 80/150\n",
            "163/163 [==============================] - 1s 9ms/step - loss: 0.1744 - accuracy: 0.8917 - val_loss: 0.4174 - val_accuracy: 0.7764\n",
            "Epoch 81/150\n",
            "163/163 [==============================] - 1s 6ms/step - loss: 0.1456 - accuracy: 0.9132 - val_loss: 0.3886 - val_accuracy: 0.8157\n",
            "Epoch 82/150\n",
            "163/163 [==============================] - 1s 5ms/step - loss: 0.1833 - accuracy: 0.8818 - val_loss: 0.4369 - val_accuracy: 0.7813\n",
            "Epoch 83/150\n",
            "163/163 [==============================] - 1s 4ms/step - loss: 0.1454 - accuracy: 0.9169 - val_loss: 0.4065 - val_accuracy: 0.8059\n",
            "Epoch 84/150\n",
            "163/163 [==============================] - 1s 5ms/step - loss: 0.1699 - accuracy: 0.8917 - val_loss: 0.4881 - val_accuracy: 0.7912\n",
            "Epoch 85/150\n",
            "163/163 [==============================] - 1s 4ms/step - loss: 0.1778 - accuracy: 0.8929 - val_loss: 0.4040 - val_accuracy: 0.7985\n",
            "Epoch 86/150\n",
            "163/163 [==============================] - 1s 4ms/step - loss: 0.1461 - accuracy: 0.9126 - val_loss: 0.4161 - val_accuracy: 0.8108\n",
            "Epoch 87/150\n",
            "163/163 [==============================] - 1s 4ms/step - loss: 0.2243 - accuracy: 0.8480 - val_loss: 0.4622 - val_accuracy: 0.6978\n",
            "Epoch 88/150\n",
            "163/163 [==============================] - 1s 5ms/step - loss: 0.2076 - accuracy: 0.8652 - val_loss: 0.3901 - val_accuracy: 0.8133\n",
            "Epoch 89/150\n",
            "163/163 [==============================] - 1s 4ms/step - loss: 0.1387 - accuracy: 0.9175 - val_loss: 0.3938 - val_accuracy: 0.8010\n",
            "Epoch 90/150\n",
            "163/163 [==============================] - 1s 6ms/step - loss: 0.1688 - accuracy: 0.9015 - val_loss: 0.4451 - val_accuracy: 0.7764\n",
            "Epoch 91/150\n",
            "163/163 [==============================] - 1s 8ms/step - loss: 0.1583 - accuracy: 0.9040 - val_loss: 0.4083 - val_accuracy: 0.8108\n",
            "Epoch 92/150\n",
            "163/163 [==============================] - 1s 6ms/step - loss: 0.1393 - accuracy: 0.9182 - val_loss: 0.4146 - val_accuracy: 0.7617\n",
            "Epoch 93/150\n",
            "163/163 [==============================] - 1s 4ms/step - loss: 0.1300 - accuracy: 0.9212 - val_loss: 0.4406 - val_accuracy: 0.8010\n",
            "Epoch 94/150\n",
            "163/163 [==============================] - 1s 4ms/step - loss: 0.1391 - accuracy: 0.9126 - val_loss: 0.4825 - val_accuracy: 0.7936\n",
            "Epoch 95/150\n",
            "163/163 [==============================] - 1s 4ms/step - loss: 0.1526 - accuracy: 0.9028 - val_loss: 0.5515 - val_accuracy: 0.7125\n",
            "Epoch 96/150\n",
            "163/163 [==============================] - 1s 5ms/step - loss: 0.1501 - accuracy: 0.9077 - val_loss: 0.4970 - val_accuracy: 0.7936\n",
            "Epoch 97/150\n",
            "163/163 [==============================] - 1s 4ms/step - loss: 0.1329 - accuracy: 0.9169 - val_loss: 0.4500 - val_accuracy: 0.7617\n",
            "Epoch 98/150\n",
            "163/163 [==============================] - 1s 4ms/step - loss: 0.1303 - accuracy: 0.9182 - val_loss: 0.4644 - val_accuracy: 0.8059\n",
            "Epoch 99/150\n",
            "163/163 [==============================] - 1s 5ms/step - loss: 0.1378 - accuracy: 0.9163 - val_loss: 0.4514 - val_accuracy: 0.7690\n",
            "Epoch 100/150\n",
            "163/163 [==============================] - 1s 5ms/step - loss: 0.1824 - accuracy: 0.8917 - val_loss: 0.6447 - val_accuracy: 0.6290\n",
            "Epoch 101/150\n",
            "163/163 [==============================] - 1s 8ms/step - loss: 0.2320 - accuracy: 0.8548 - val_loss: 0.3975 - val_accuracy: 0.8010\n",
            "Epoch 102/150\n",
            "163/163 [==============================] - 2s 11ms/step - loss: 0.1489 - accuracy: 0.9089 - val_loss: 0.3959 - val_accuracy: 0.8010\n",
            "Epoch 103/150\n",
            "163/163 [==============================] - 1s 5ms/step - loss: 0.1282 - accuracy: 0.9206 - val_loss: 0.5253 - val_accuracy: 0.8059\n",
            "Epoch 104/150\n",
            "163/163 [==============================] - 1s 8ms/step - loss: 0.1351 - accuracy: 0.9182 - val_loss: 0.4188 - val_accuracy: 0.7862\n",
            "Epoch 105/150\n",
            "163/163 [==============================] - 1s 7ms/step - loss: 0.1091 - accuracy: 0.9348 - val_loss: 0.4567 - val_accuracy: 0.7985\n",
            "Epoch 106/150\n",
            "163/163 [==============================] - 1s 5ms/step - loss: 0.1434 - accuracy: 0.9212 - val_loss: 0.5996 - val_accuracy: 0.7396\n",
            "Epoch 107/150\n",
            "163/163 [==============================] - 1s 5ms/step - loss: 0.1668 - accuracy: 0.9015 - val_loss: 0.5621 - val_accuracy: 0.5995\n",
            "Epoch 108/150\n",
            "163/163 [==============================] - 1s 4ms/step - loss: 0.1734 - accuracy: 0.8898 - val_loss: 0.3998 - val_accuracy: 0.7715\n",
            "Epoch 109/150\n",
            "163/163 [==============================] - 1s 4ms/step - loss: 0.1098 - accuracy: 0.9348 - val_loss: 0.4803 - val_accuracy: 0.7961\n",
            "Epoch 110/150\n",
            "163/163 [==============================] - 1s 4ms/step - loss: 0.1097 - accuracy: 0.9317 - val_loss: 0.5138 - val_accuracy: 0.8059\n",
            "Epoch 111/150\n",
            "163/163 [==============================] - 1s 5ms/step - loss: 0.1150 - accuracy: 0.9342 - val_loss: 0.4351 - val_accuracy: 0.8034\n",
            "Epoch 112/150\n",
            "163/163 [==============================] - 1s 5ms/step - loss: 0.1125 - accuracy: 0.9360 - val_loss: 0.5091 - val_accuracy: 0.8010\n",
            "Epoch 113/150\n",
            "163/163 [==============================] - 1s 4ms/step - loss: 0.1162 - accuracy: 0.9360 - val_loss: 0.6986 - val_accuracy: 0.7715\n",
            "Epoch 114/150\n",
            "163/163 [==============================] - 1s 5ms/step - loss: 0.1694 - accuracy: 0.9102 - val_loss: 0.5196 - val_accuracy: 0.7690\n",
            "Epoch 115/150\n",
            "163/163 [==============================] - 1s 5ms/step - loss: 0.1050 - accuracy: 0.9354 - val_loss: 0.5370 - val_accuracy: 0.7740\n",
            "Epoch 116/150\n",
            "163/163 [==============================] - 1s 4ms/step - loss: 0.1110 - accuracy: 0.9403 - val_loss: 0.5104 - val_accuracy: 0.7961\n",
            "Epoch 117/150\n",
            "163/163 [==============================] - 1s 5ms/step - loss: 0.1396 - accuracy: 0.9151 - val_loss: 0.4993 - val_accuracy: 0.7740\n",
            "Epoch 118/150\n",
            "163/163 [==============================] - 1s 4ms/step - loss: 0.1132 - accuracy: 0.9348 - val_loss: 0.4740 - val_accuracy: 0.7838\n",
            "Epoch 119/150\n",
            "163/163 [==============================] - 1s 5ms/step - loss: 0.1003 - accuracy: 0.9409 - val_loss: 0.5263 - val_accuracy: 0.7617\n",
            "Epoch 120/150\n",
            "163/163 [==============================] - 1s 7ms/step - loss: 0.1208 - accuracy: 0.9335 - val_loss: 0.5283 - val_accuracy: 0.7666\n",
            "Epoch 121/150\n",
            "163/163 [==============================] - 1s 7ms/step - loss: 0.1003 - accuracy: 0.9415 - val_loss: 0.5300 - val_accuracy: 0.7740\n",
            "Epoch 122/150\n",
            "163/163 [==============================] - 1s 5ms/step - loss: 0.1026 - accuracy: 0.9354 - val_loss: 0.5496 - val_accuracy: 0.7985\n",
            "Epoch 123/150\n",
            "163/163 [==============================] - 1s 4ms/step - loss: 0.1220 - accuracy: 0.9243 - val_loss: 0.5707 - val_accuracy: 0.7936\n",
            "Epoch 124/150\n",
            "163/163 [==============================] - 1s 4ms/step - loss: 0.1098 - accuracy: 0.9397 - val_loss: 0.5124 - val_accuracy: 0.7862\n",
            "Epoch 125/150\n",
            "163/163 [==============================] - 1s 5ms/step - loss: 0.1860 - accuracy: 0.8898 - val_loss: 0.4368 - val_accuracy: 0.7469\n",
            "Epoch 126/150\n",
            "163/163 [==============================] - 1s 5ms/step - loss: 0.1029 - accuracy: 0.9403 - val_loss: 0.5542 - val_accuracy: 0.7813\n",
            "Epoch 127/150\n",
            "163/163 [==============================] - 1s 4ms/step - loss: 0.1101 - accuracy: 0.9323 - val_loss: 0.5353 - val_accuracy: 0.7838\n",
            "Epoch 128/150\n",
            "163/163 [==============================] - 1s 4ms/step - loss: 0.1765 - accuracy: 0.8929 - val_loss: 0.4682 - val_accuracy: 0.8010\n",
            "Epoch 129/150\n",
            "163/163 [==============================] - 1s 4ms/step - loss: 0.0921 - accuracy: 0.9477 - val_loss: 0.4996 - val_accuracy: 0.7985\n",
            "Epoch 130/150\n",
            "163/163 [==============================] - 1s 4ms/step - loss: 0.1018 - accuracy: 0.9391 - val_loss: 0.4662 - val_accuracy: 0.7568\n",
            "Epoch 131/150\n",
            "163/163 [==============================] - 1s 4ms/step - loss: 0.0971 - accuracy: 0.9415 - val_loss: 0.7946 - val_accuracy: 0.7273\n",
            "Epoch 132/150\n",
            "163/163 [==============================] - 1s 5ms/step - loss: 0.1362 - accuracy: 0.9268 - val_loss: 0.4931 - val_accuracy: 0.7445\n",
            "Epoch 133/150\n",
            "163/163 [==============================] - 1s 5ms/step - loss: 0.1024 - accuracy: 0.9415 - val_loss: 0.5117 - val_accuracy: 0.7371\n",
            "Epoch 134/150\n",
            "163/163 [==============================] - 1s 5ms/step - loss: 0.0966 - accuracy: 0.9434 - val_loss: 0.4979 - val_accuracy: 0.7887\n",
            "Epoch 135/150\n",
            "163/163 [==============================] - 1s 6ms/step - loss: 0.1091 - accuracy: 0.9335 - val_loss: 0.8921 - val_accuracy: 0.7322\n",
            "Epoch 136/150\n",
            "163/163 [==============================] - 1s 7ms/step - loss: 0.1898 - accuracy: 0.8886 - val_loss: 0.4088 - val_accuracy: 0.8010\n",
            "Epoch 137/150\n",
            "163/163 [==============================] - 1s 7ms/step - loss: 0.1153 - accuracy: 0.9311 - val_loss: 0.4519 - val_accuracy: 0.7912\n",
            "Epoch 138/150\n",
            "163/163 [==============================] - 1s 5ms/step - loss: 0.0833 - accuracy: 0.9508 - val_loss: 0.5038 - val_accuracy: 0.7985\n",
            "Epoch 139/150\n",
            "163/163 [==============================] - 1s 4ms/step - loss: 0.0851 - accuracy: 0.9502 - val_loss: 0.5500 - val_accuracy: 0.7985\n",
            "Epoch 140/150\n",
            "163/163 [==============================] - 1s 5ms/step - loss: 0.1177 - accuracy: 0.9311 - val_loss: 0.4815 - val_accuracy: 0.7666\n",
            "Epoch 141/150\n",
            "163/163 [==============================] - 1s 5ms/step - loss: 0.1069 - accuracy: 0.9385 - val_loss: 0.5525 - val_accuracy: 0.7936\n",
            "Epoch 142/150\n",
            "163/163 [==============================] - 1s 5ms/step - loss: 0.0959 - accuracy: 0.9385 - val_loss: 0.5071 - val_accuracy: 0.7887\n",
            "Epoch 143/150\n",
            "163/163 [==============================] - 1s 5ms/step - loss: 0.1043 - accuracy: 0.9385 - val_loss: 0.4805 - val_accuracy: 0.7568\n",
            "Epoch 144/150\n",
            "163/163 [==============================] - 1s 5ms/step - loss: 0.0998 - accuracy: 0.9483 - val_loss: 0.4869 - val_accuracy: 0.7838\n",
            "Epoch 145/150\n",
            "163/163 [==============================] - 1s 5ms/step - loss: 0.0945 - accuracy: 0.9495 - val_loss: 0.5522 - val_accuracy: 0.7420\n",
            "Epoch 146/150\n",
            "163/163 [==============================] - 1s 4ms/step - loss: 0.1143 - accuracy: 0.9378 - val_loss: 0.5404 - val_accuracy: 0.7150\n",
            "Epoch 147/150\n",
            "163/163 [==============================] - 1s 5ms/step - loss: 0.0841 - accuracy: 0.9532 - val_loss: 0.5576 - val_accuracy: 0.7641\n",
            "Epoch 148/150\n",
            "163/163 [==============================] - 1s 5ms/step - loss: 0.1411 - accuracy: 0.9163 - val_loss: 0.5084 - val_accuracy: 0.7887\n",
            "Epoch 149/150\n",
            "163/163 [==============================] - 1s 4ms/step - loss: 0.0979 - accuracy: 0.9403 - val_loss: 0.5048 - val_accuracy: 0.7813\n",
            "Epoch 150/150\n",
            "163/163 [==============================] - 1s 4ms/step - loss: 0.0861 - accuracy: 0.9532 - val_loss: 0.5565 - val_accuracy: 0.7936\n"
          ]
        }
      ]
    },
    {
      "cell_type": "code",
      "source": [
        "# summarize history for accuracy\n",
        "plt.plot(history.history['accuracy'])\n",
        "plt.plot(history.history['val_accuracy'])\n",
        "plt.title('model accuracy')\n",
        "plt.ylabel('accuracy')\n",
        "plt.xlabel('epoch')\n",
        "plt.legend(['train', 'validation'], loc='upper left')\n",
        "plt.show()\n",
        "# summarize history for loss\n",
        "plt.plot(history.history['loss'])\n",
        "plt.plot(history.history['val_loss'])\n",
        "plt.title('model loss')\n",
        "plt.ylabel('loss')\n",
        "plt.xlabel('epoch')\n",
        "plt.legend(['train', 'validation'], loc='upper left')\n",
        "plt.show()"
      ],
      "metadata": {
        "colab": {
          "base_uri": "https://localhost:8080/",
          "height": 573
        },
        "id": "Pm9X-16Zd-f-",
        "outputId": "f00de825-7035-4b7d-b021-8b0084468092"
      },
      "execution_count": null,
      "outputs": [
        {
          "output_type": "display_data",
          "data": {
            "text/plain": [
              "<Figure size 432x288 with 1 Axes>"
            ],
            "image/png": "[encoded data removed]"
          },
          "metadata": {
            "needs_background": "light"
          }
        },
        {
          "output_type": "display_data",
          "data": {
            "text/plain": [
              "<Figure size 432x288 with 1 Axes>"
            ],
            "image/png": "[encoded data removed]"
          },
          "metadata": {
            "needs_background": "light"
          }
        }
      ]
    },
    {
      "cell_type": "code",
      "source": [
        "_, accuracy = model.evaluate(X_test, y_test)\n",
        "print('Accuracy: %.2f' % (accuracy*100))"
      ],
      "metadata": {
        "colab": {
          "base_uri": "https://localhost:8080/"
        },
        "id": "CRgIWLN-eBhk",
        "outputId": "4232d788-6f2e-4c41-bc05-ad0e3aa4e49b"
      },
      "execution_count": null,
      "outputs": [
        {
          "output_type": "stream",
          "name": "stdout",
          "text": [
            "16/16 [==============================] - 0s 2ms/step - loss: 0.6410 - accuracy: 0.7917\n",
            "Accuracy: 79.17\n"
          ]
        }
      ]
    },
    {
      "cell_type": "markdown",
      "source": [
        "### Solution: Task - 3"
      ],
      "metadata": {
        "id": "BqiUZc6tEISw"
      }
    },
    {
      "cell_type": "code",
      "source": [
        "# Codes for Task 3\n",
        "# define the keras model\n",
        "model = Sequential()\n",
        "model.add(Dense(200, input_shape=(784,), activation='tanh'))\n",
        "model.add(Dense(60, activation='tanh'))\n",
        "model.add(Dense(12, activation='tanh'))\n",
        "model.add(Dense(6, activation='tanh'))\n",
        "model.add(Dense(3, activation='sigmoid'))\n",
        "model.compile(loss='binary_crossentropy', optimizer='adam', metrics=['accuracy'])\n",
        "history = model.fit(X_train, y_train, validation_split=0.2, epochs=150, batch_size=10)\n",
        "# summarize history for accuracy\n",
        "plt.plot(history.history['accuracy'])\n",
        "plt.plot(history.history['val_accuracy'])\n",
        "plt.title('model accuracy')\n",
        "plt.ylabel('accuracy')\n",
        "plt.xlabel('epoch')\n",
        "plt.legend(['train', 'validation'], loc='upper left')\n",
        "plt.show()\n",
        "# summarize history for loss\n",
        "plt.plot(history.history['loss'])\n",
        "plt.plot(history.history['val_loss'])\n",
        "plt.title('model loss')\n",
        "plt.ylabel('loss')\n",
        "plt.xlabel('epoch')\n",
        "plt.legend(['train', 'validation'], loc='upper left')\n",
        "plt.show()\n",
        "_, accuracy = model.evaluate(X_test, y_test)\n",
        "print('Accuracy: %.2f' % (accuracy*100))"
      ],
      "metadata": {
        "id": "WLFoe8xNBS4x",
        "colab": {
          "base_uri": "https://localhost:8080/",
          "height": 1000
        },
        "outputId": "f664c019-7588-42a7-e63a-0fb490acd327"
      },
      "execution_count": null,
      "outputs": [
        {
          "output_type": "stream",
          "name": "stdout",
          "text": [
            "Epoch 1/150\n",
            "163/163 [==============================] - 2s 6ms/step - loss: 0.5216 - accuracy: 0.6474 - val_loss: 0.5105 - val_accuracy: 0.6585\n",
            "Epoch 2/150\n",
            "163/163 [==============================] - 1s 4ms/step - loss: 0.5171 - accuracy: 0.6505 - val_loss: 0.5079 - val_accuracy: 0.6585\n",
            "Epoch 3/150\n",
            "163/163 [==============================] - 1s 5ms/step - loss: 0.5164 - accuracy: 0.6505 - val_loss: 0.5091 - val_accuracy: 0.6585\n",
            "Epoch 4/150\n",
            "163/163 [==============================] - 1s 5ms/step - loss: 0.5164 - accuracy: 0.6505 - val_loss: 0.5086 - val_accuracy: 0.6585\n",
            "Epoch 5/150\n",
            "163/163 [==============================] - 1s 5ms/step - loss: 0.5162 - accuracy: 0.6505 - val_loss: 0.5105 - val_accuracy: 0.6585\n",
            "Epoch 6/150\n",
            "163/163 [==============================] - 1s 5ms/step - loss: 0.5167 - accuracy: 0.6505 - val_loss: 0.5088 - val_accuracy: 0.6585\n",
            "Epoch 7/150\n",
            "163/163 [==============================] - 1s 5ms/step - loss: 0.5159 - accuracy: 0.6505 - val_loss: 0.5081 - val_accuracy: 0.6585\n",
            "Epoch 8/150\n",
            "163/163 [==============================] - 1s 4ms/step - loss: 0.5166 - accuracy: 0.6505 - val_loss: 0.5082 - val_accuracy: 0.6585\n",
            "Epoch 9/150\n",
            "163/163 [==============================] - 1s 5ms/step - loss: 0.5163 - accuracy: 0.6505 - val_loss: 0.5081 - val_accuracy: 0.6585\n",
            "Epoch 10/150\n",
            "163/163 [==============================] - 1s 5ms/step - loss: 0.5163 - accuracy: 0.6505 - val_loss: 0.5078 - val_accuracy: 0.6585\n",
            "Epoch 11/150\n",
            "163/163 [==============================] - 1s 6ms/step - loss: 0.5163 - accuracy: 0.6505 - val_loss: 0.5079 - val_accuracy: 0.6585\n",
            "Epoch 12/150\n",
            "163/163 [==============================] - 1s 9ms/step - loss: 0.5163 - accuracy: 0.6505 - val_loss: 0.5085 - val_accuracy: 0.6585\n",
            "Epoch 13/150\n",
            "163/163 [==============================] - 1s 7ms/step - loss: 0.5162 - accuracy: 0.6505 - val_loss: 0.5084 - val_accuracy: 0.6585\n",
            "Epoch 14/150\n",
            "163/163 [==============================] - 1s 8ms/step - loss: 0.5166 - accuracy: 0.6505 - val_loss: 0.5080 - val_accuracy: 0.6585\n",
            "Epoch 15/150\n",
            "163/163 [==============================] - 1s 6ms/step - loss: 0.5164 - accuracy: 0.6505 - val_loss: 0.5079 - val_accuracy: 0.6585\n",
            "Epoch 16/150\n",
            "163/163 [==============================] - 1s 4ms/step - loss: 0.5163 - accuracy: 0.6505 - val_loss: 0.5078 - val_accuracy: 0.6585\n",
            "Epoch 17/150\n",
            "163/163 [==============================] - 1s 5ms/step - loss: 0.5161 - accuracy: 0.6505 - val_loss: 0.5082 - val_accuracy: 0.6585\n",
            "Epoch 18/150\n",
            "163/163 [==============================] - 1s 4ms/step - loss: 0.5164 - accuracy: 0.6505 - val_loss: 0.5085 - val_accuracy: 0.6585\n",
            "Epoch 19/150\n",
            "163/163 [==============================] - 1s 5ms/step - loss: 0.5162 - accuracy: 0.6505 - val_loss: 0.5080 - val_accuracy: 0.6585\n",
            "Epoch 20/150\n",
            "163/163 [==============================] - 1s 5ms/step - loss: 0.5164 - accuracy: 0.6505 - val_loss: 0.5078 - val_accuracy: 0.6585\n",
            "Epoch 21/150\n",
            "163/163 [==============================] - 1s 5ms/step - loss: 0.5161 - accuracy: 0.6505 - val_loss: 0.5079 - val_accuracy: 0.6585\n",
            "Epoch 22/150\n",
            "163/163 [==============================] - 1s 5ms/step - loss: 0.5161 - accuracy: 0.6505 - val_loss: 0.5079 - val_accuracy: 0.6585\n",
            "Epoch 23/150\n",
            "163/163 [==============================] - 1s 4ms/step - loss: 0.5163 - accuracy: 0.6505 - val_loss: 0.5080 - val_accuracy: 0.6585\n",
            "Epoch 24/150\n",
            "163/163 [==============================] - 1s 4ms/step - loss: 0.5162 - accuracy: 0.6505 - val_loss: 0.5080 - val_accuracy: 0.6585\n",
            "Epoch 25/150\n",
            "163/163 [==============================] - 1s 6ms/step - loss: 0.5161 - accuracy: 0.6505 - val_loss: 0.5080 - val_accuracy: 0.6585\n",
            "Epoch 26/150\n",
            "163/163 [==============================] - 1s 8ms/step - loss: 0.5162 - accuracy: 0.6505 - val_loss: 0.5081 - val_accuracy: 0.6585\n",
            "Epoch 27/150\n",
            "163/163 [==============================] - 1s 6ms/step - loss: 0.5163 - accuracy: 0.6505 - val_loss: 0.5079 - val_accuracy: 0.6585\n",
            "Epoch 28/150\n",
            "163/163 [==============================] - 1s 5ms/step - loss: 0.5163 - accuracy: 0.6505 - val_loss: 0.5079 - val_accuracy: 0.6585\n",
            "Epoch 29/150\n",
            "163/163 [==============================] - 1s 5ms/step - loss: 0.5160 - accuracy: 0.6505 - val_loss: 0.5079 - val_accuracy: 0.6585\n",
            "Epoch 30/150\n",
            "163/163 [==============================] - 1s 5ms/step - loss: 0.5163 - accuracy: 0.6505 - val_loss: 0.5080 - val_accuracy: 0.6585\n",
            "Epoch 31/150\n",
            "163/163 [==============================] - 1s 5ms/step - loss: 0.5163 - accuracy: 0.6505 - val_loss: 0.5081 - val_accuracy: 0.6585\n",
            "Epoch 32/150\n",
            "163/163 [==============================] - 1s 5ms/step - loss: 0.5161 - accuracy: 0.6505 - val_loss: 0.5083 - val_accuracy: 0.6585\n",
            "Epoch 33/150\n",
            "163/163 [==============================] - 1s 5ms/step - loss: 0.5164 - accuracy: 0.6505 - val_loss: 0.5084 - val_accuracy: 0.6585\n",
            "Epoch 34/150\n",
            "163/163 [==============================] - 1s 5ms/step - loss: 0.5162 - accuracy: 0.6505 - val_loss: 0.5080 - val_accuracy: 0.6585\n",
            "Epoch 35/150\n",
            "163/163 [==============================] - 1s 5ms/step - loss: 0.5162 - accuracy: 0.6505 - val_loss: 0.5082 - val_accuracy: 0.6585\n",
            "Epoch 36/150\n",
            "163/163 [==============================] - 1s 4ms/step - loss: 0.5160 - accuracy: 0.6505 - val_loss: 0.5079 - val_accuracy: 0.6585\n",
            "Epoch 37/150\n",
            "163/163 [==============================] - 1s 5ms/step - loss: 0.5160 - accuracy: 0.6505 - val_loss: 0.5085 - val_accuracy: 0.6585\n",
            "Epoch 38/150\n",
            "163/163 [==============================] - 1s 5ms/step - loss: 0.5162 - accuracy: 0.6505 - val_loss: 0.5080 - val_accuracy: 0.6585\n",
            "Epoch 39/150\n",
            "163/163 [==============================] - 1s 5ms/step - loss: 0.5160 - accuracy: 0.6505 - val_loss: 0.5081 - val_accuracy: 0.6585\n",
            "Epoch 40/150\n",
            "163/163 [==============================] - 1s 7ms/step - loss: 0.5159 - accuracy: 0.6505 - val_loss: 0.5081 - val_accuracy: 0.6585\n",
            "Epoch 41/150\n",
            "163/163 [==============================] - 1s 8ms/step - loss: 0.5162 - accuracy: 0.6505 - val_loss: 0.5081 - val_accuracy: 0.6585\n",
            "Epoch 42/150\n",
            "163/163 [==============================] - 1s 6ms/step - loss: 0.5164 - accuracy: 0.6505 - val_loss: 0.5085 - val_accuracy: 0.6585\n",
            "Epoch 43/150\n",
            "163/163 [==============================] - 1s 5ms/step - loss: 0.5164 - accuracy: 0.6505 - val_loss: 0.5082 - val_accuracy: 0.6585\n",
            "Epoch 44/150\n",
            "163/163 [==============================] - 1s 5ms/step - loss: 0.5163 - accuracy: 0.6505 - val_loss: 0.5079 - val_accuracy: 0.6585\n",
            "Epoch 45/150\n",
            "163/163 [==============================] - 1s 5ms/step - loss: 0.5161 - accuracy: 0.6505 - val_loss: 0.5079 - val_accuracy: 0.6585\n",
            "Epoch 46/150\n",
            "163/163 [==============================] - 1s 5ms/step - loss: 0.5161 - accuracy: 0.6505 - val_loss: 0.5078 - val_accuracy: 0.6585\n",
            "Epoch 47/150\n",
            "163/163 [==============================] - 1s 4ms/step - loss: 0.5162 - accuracy: 0.6505 - val_loss: 0.5079 - val_accuracy: 0.6585\n",
            "Epoch 48/150\n",
            "163/163 [==============================] - 1s 4ms/step - loss: 0.5160 - accuracy: 0.6505 - val_loss: 0.5079 - val_accuracy: 0.6585\n",
            "Epoch 49/150\n",
            "163/163 [==============================] - 1s 5ms/step - loss: 0.5159 - accuracy: 0.6505 - val_loss: 0.5083 - val_accuracy: 0.6585\n",
            "Epoch 50/150\n",
            "163/163 [==============================] - 1s 5ms/step - loss: 0.5161 - accuracy: 0.6505 - val_loss: 0.5079 - val_accuracy: 0.6585\n",
            "Epoch 51/150\n",
            "163/163 [==============================] - 1s 5ms/step - loss: 0.5160 - accuracy: 0.6505 - val_loss: 0.5078 - val_accuracy: 0.6585\n",
            "Epoch 52/150\n",
            "163/163 [==============================] - 1s 5ms/step - loss: 0.5165 - accuracy: 0.6505 - val_loss: 0.5080 - val_accuracy: 0.6585\n",
            "Epoch 53/150\n",
            "163/163 [==============================] - 1s 5ms/step - loss: 0.5160 - accuracy: 0.6505 - val_loss: 0.5079 - val_accuracy: 0.6585\n",
            "Epoch 54/150\n",
            "163/163 [==============================] - 1s 5ms/step - loss: 0.5163 - accuracy: 0.6505 - val_loss: 0.5078 - val_accuracy: 0.6585\n",
            "Epoch 55/150\n",
            "163/163 [==============================] - 1s 6ms/step - loss: 0.5162 - accuracy: 0.6505 - val_loss: 0.5079 - val_accuracy: 0.6585\n",
            "Epoch 56/150\n",
            "163/163 [==============================] - 1s 8ms/step - loss: 0.5160 - accuracy: 0.6505 - val_loss: 0.5080 - val_accuracy: 0.6585\n",
            "Epoch 57/150\n",
            "163/163 [==============================] - 1s 6ms/step - loss: 0.5162 - accuracy: 0.6505 - val_loss: 0.5079 - val_accuracy: 0.6585\n",
            "Epoch 58/150\n",
            "163/163 [==============================] - 1s 5ms/step - loss: 0.5161 - accuracy: 0.6505 - val_loss: 0.5082 - val_accuracy: 0.6585\n",
            "Epoch 59/150\n",
            "163/163 [==============================] - 1s 5ms/step - loss: 0.5161 - accuracy: 0.6505 - val_loss: 0.5082 - val_accuracy: 0.6585\n",
            "Epoch 60/150\n",
            "163/163 [==============================] - 1s 5ms/step - loss: 0.5163 - accuracy: 0.6505 - val_loss: 0.5079 - val_accuracy: 0.6585\n",
            "Epoch 61/150\n",
            "163/163 [==============================] - 1s 5ms/step - loss: 0.5161 - accuracy: 0.6505 - val_loss: 0.5079 - val_accuracy: 0.6585\n",
            "Epoch 62/150\n",
            "163/163 [==============================] - 1s 5ms/step - loss: 0.5162 - accuracy: 0.6505 - val_loss: 0.5079 - val_accuracy: 0.6585\n",
            "Epoch 63/150\n",
            "163/163 [==============================] - 1s 5ms/step - loss: 0.5161 - accuracy: 0.6505 - val_loss: 0.5078 - val_accuracy: 0.6585\n",
            "Epoch 64/150\n",
            "163/163 [==============================] - 1s 5ms/step - loss: 0.5162 - accuracy: 0.6505 - val_loss: 0.5080 - val_accuracy: 0.6585\n",
            "Epoch 65/150\n",
            "163/163 [==============================] - 1s 4ms/step - loss: 0.5159 - accuracy: 0.6505 - val_loss: 0.5085 - val_accuracy: 0.6585\n",
            "Epoch 66/150\n",
            "163/163 [==============================] - 1s 4ms/step - loss: 0.5163 - accuracy: 0.6505 - val_loss: 0.5082 - val_accuracy: 0.6585\n",
            "Epoch 67/150\n",
            "163/163 [==============================] - 1s 5ms/step - loss: 0.5161 - accuracy: 0.6505 - val_loss: 0.5079 - val_accuracy: 0.6585\n",
            "Epoch 68/150\n",
            "163/163 [==============================] - 1s 5ms/step - loss: 0.5161 - accuracy: 0.6505 - val_loss: 0.5080 - val_accuracy: 0.6585\n",
            "Epoch 69/150\n",
            "163/163 [==============================] - 1s 5ms/step - loss: 0.5162 - accuracy: 0.6505 - val_loss: 0.5083 - val_accuracy: 0.6585\n",
            "Epoch 70/150\n",
            "163/163 [==============================] - 1s 6ms/step - loss: 0.5160 - accuracy: 0.6505 - val_loss: 0.5079 - val_accuracy: 0.6585\n",
            "Epoch 71/150\n",
            "163/163 [==============================] - 1s 8ms/step - loss: 0.5161 - accuracy: 0.6505 - val_loss: 0.5080 - val_accuracy: 0.6585\n",
            "Epoch 72/150\n",
            "163/163 [==============================] - 1s 7ms/step - loss: 0.5162 - accuracy: 0.6505 - val_loss: 0.5079 - val_accuracy: 0.6585\n",
            "Epoch 73/150\n",
            "163/163 [==============================] - 1s 5ms/step - loss: 0.5160 - accuracy: 0.6505 - val_loss: 0.5079 - val_accuracy: 0.6585\n",
            "Epoch 74/150\n",
            "163/163 [==============================] - 1s 5ms/step - loss: 0.5160 - accuracy: 0.6505 - val_loss: 0.5080 - val_accuracy: 0.6585\n",
            "Epoch 75/150\n",
            "163/163 [==============================] - 1s 5ms/step - loss: 0.5161 - accuracy: 0.6505 - val_loss: 0.5079 - val_accuracy: 0.6585\n",
            "Epoch 76/150\n",
            "163/163 [==============================] - 1s 5ms/step - loss: 0.5163 - accuracy: 0.6505 - val_loss: 0.5078 - val_accuracy: 0.6585\n",
            "Epoch 77/150\n",
            "163/163 [==============================] - 1s 4ms/step - loss: 0.5161 - accuracy: 0.6505 - val_loss: 0.5079 - val_accuracy: 0.6585\n",
            "Epoch 78/150\n",
            "163/163 [==============================] - 1s 5ms/step - loss: 0.5164 - accuracy: 0.6505 - val_loss: 0.5079 - val_accuracy: 0.6585\n",
            "Epoch 79/150\n",
            "163/163 [==============================] - 1s 8ms/step - loss: 0.5162 - accuracy: 0.6505 - val_loss: 0.5079 - val_accuracy: 0.6585\n",
            "Epoch 80/150\n",
            "163/163 [==============================] - 1s 5ms/step - loss: 0.5160 - accuracy: 0.6505 - val_loss: 0.5080 - val_accuracy: 0.6585\n",
            "Epoch 81/150\n",
            "163/163 [==============================] - 1s 5ms/step - loss: 0.5160 - accuracy: 0.6505 - val_loss: 0.5080 - val_accuracy: 0.6585\n",
            "Epoch 82/150\n",
            "163/163 [==============================] - 1s 5ms/step - loss: 0.5161 - accuracy: 0.6505 - val_loss: 0.5081 - val_accuracy: 0.6585\n",
            "Epoch 83/150\n",
            "163/163 [==============================] - 1s 4ms/step - loss: 0.5161 - accuracy: 0.6505 - val_loss: 0.5079 - val_accuracy: 0.6585\n",
            "Epoch 84/150\n",
            "163/163 [==============================] - 1s 6ms/step - loss: 0.5162 - accuracy: 0.6505 - val_loss: 0.5079 - val_accuracy: 0.6585\n",
            "Epoch 85/150\n",
            "163/163 [==============================] - 1s 8ms/step - loss: 0.5160 - accuracy: 0.6505 - val_loss: 0.5080 - val_accuracy: 0.6585\n",
            "Epoch 86/150\n",
            "163/163 [==============================] - 1s 7ms/step - loss: 0.5159 - accuracy: 0.6505 - val_loss: 0.5079 - val_accuracy: 0.6585\n",
            "Epoch 87/150\n",
            "163/163 [==============================] - 1s 5ms/step - loss: 0.5161 - accuracy: 0.6505 - val_loss: 0.5079 - val_accuracy: 0.6585\n",
            "Epoch 88/150\n",
            "163/163 [==============================] - 1s 5ms/step - loss: 0.5160 - accuracy: 0.6505 - val_loss: 0.5082 - val_accuracy: 0.6585\n",
            "Epoch 89/150\n",
            "163/163 [==============================] - 1s 5ms/step - loss: 0.5161 - accuracy: 0.6505 - val_loss: 0.5079 - val_accuracy: 0.6585\n",
            "Epoch 90/150\n",
            "163/163 [==============================] - 1s 5ms/step - loss: 0.5163 - accuracy: 0.6505 - val_loss: 0.5081 - val_accuracy: 0.6585\n",
            "Epoch 91/150\n",
            "163/163 [==============================] - 1s 5ms/step - loss: 0.5161 - accuracy: 0.6505 - val_loss: 0.5082 - val_accuracy: 0.6585\n",
            "Epoch 92/150\n",
            "163/163 [==============================] - 1s 6ms/step - loss: 0.5159 - accuracy: 0.6505 - val_loss: 0.5079 - val_accuracy: 0.6585\n",
            "Epoch 93/150\n",
            "163/163 [==============================] - 1s 5ms/step - loss: 0.5160 - accuracy: 0.6505 - val_loss: 0.5080 - val_accuracy: 0.6585\n",
            "Epoch 94/150\n",
            "163/163 [==============================] - 1s 5ms/step - loss: 0.5160 - accuracy: 0.6505 - val_loss: 0.5078 - val_accuracy: 0.6585\n",
            "Epoch 95/150\n",
            "163/163 [==============================] - 1s 5ms/step - loss: 0.5162 - accuracy: 0.6505 - val_loss: 0.5079 - val_accuracy: 0.6585\n",
            "Epoch 96/150\n",
            "163/163 [==============================] - 1s 5ms/step - loss: 0.5160 - accuracy: 0.6505 - val_loss: 0.5080 - val_accuracy: 0.6585\n",
            "Epoch 97/150\n",
            "163/163 [==============================] - 1s 5ms/step - loss: 0.5162 - accuracy: 0.6505 - val_loss: 0.5083 - val_accuracy: 0.6585\n",
            "Epoch 98/150\n",
            "163/163 [==============================] - 1s 7ms/step - loss: 0.5160 - accuracy: 0.6505 - val_loss: 0.5080 - val_accuracy: 0.6585\n",
            "Epoch 99/150\n",
            "163/163 [==============================] - 1s 8ms/step - loss: 0.5160 - accuracy: 0.6505 - val_loss: 0.5082 - val_accuracy: 0.6585\n",
            "Epoch 100/150\n",
            "163/163 [==============================] - 1s 7ms/step - loss: 0.5161 - accuracy: 0.6505 - val_loss: 0.5079 - val_accuracy: 0.6585\n",
            "Epoch 101/150\n",
            "163/163 [==============================] - 1s 5ms/step - loss: 0.5160 - accuracy: 0.6505 - val_loss: 0.5079 - val_accuracy: 0.6585\n",
            "Epoch 102/150\n",
            "163/163 [==============================] - 1s 5ms/step - loss: 0.5160 - accuracy: 0.6505 - val_loss: 0.5079 - val_accuracy: 0.6585\n",
            "Epoch 103/150\n",
            "163/163 [==============================] - 1s 5ms/step - loss: 0.5160 - accuracy: 0.6505 - val_loss: 0.5080 - val_accuracy: 0.6585\n",
            "Epoch 104/150\n",
            "163/163 [==============================] - 1s 5ms/step - loss: 0.5160 - accuracy: 0.6505 - val_loss: 0.5081 - val_accuracy: 0.6585\n",
            "Epoch 105/150\n",
            "163/163 [==============================] - 1s 5ms/step - loss: 0.5162 - accuracy: 0.6505 - val_loss: 0.5080 - val_accuracy: 0.6585\n",
            "Epoch 106/150\n",
            "163/163 [==============================] - 1s 5ms/step - loss: 0.5160 - accuracy: 0.6505 - val_loss: 0.5080 - val_accuracy: 0.6585\n",
            "Epoch 107/150\n",
            "163/163 [==============================] - 1s 5ms/step - loss: 0.5161 - accuracy: 0.6505 - val_loss: 0.5079 - val_accuracy: 0.6585\n",
            "Epoch 108/150\n",
            "163/163 [==============================] - 1s 5ms/step - loss: 0.5161 - accuracy: 0.6505 - val_loss: 0.5079 - val_accuracy: 0.6585\n",
            "Epoch 109/150\n",
            "163/163 [==============================] - 1s 5ms/step - loss: 0.5162 - accuracy: 0.6505 - val_loss: 0.5079 - val_accuracy: 0.6585\n",
            "Epoch 110/150\n",
            "163/163 [==============================] - 1s 5ms/step - loss: 0.5161 - accuracy: 0.6505 - val_loss: 0.5081 - val_accuracy: 0.6585\n",
            "Epoch 111/150\n",
            "163/163 [==============================] - 1s 5ms/step - loss: 0.5161 - accuracy: 0.6505 - val_loss: 0.5079 - val_accuracy: 0.6585\n",
            "Epoch 112/150\n",
            "163/163 [==============================] - 1s 6ms/step - loss: 0.5161 - accuracy: 0.6505 - val_loss: 0.5078 - val_accuracy: 0.6585\n",
            "Epoch 113/150\n",
            "163/163 [==============================] - 1s 8ms/step - loss: 0.5162 - accuracy: 0.6505 - val_loss: 0.5079 - val_accuracy: 0.6585\n",
            "Epoch 114/150\n",
            "163/163 [==============================] - 1s 8ms/step - loss: 0.5161 - accuracy: 0.6505 - val_loss: 0.5078 - val_accuracy: 0.6585\n",
            "Epoch 115/150\n",
            "163/163 [==============================] - 1s 5ms/step - loss: 0.5162 - accuracy: 0.6505 - val_loss: 0.5080 - val_accuracy: 0.6585\n",
            "Epoch 116/150\n",
            "163/163 [==============================] - 1s 5ms/step - loss: 0.5160 - accuracy: 0.6505 - val_loss: 0.5081 - val_accuracy: 0.6585\n",
            "Epoch 117/150\n",
            "163/163 [==============================] - 1s 5ms/step - loss: 0.5162 - accuracy: 0.6505 - val_loss: 0.5082 - val_accuracy: 0.6585\n",
            "Epoch 118/150\n",
            "163/163 [==============================] - 1s 6ms/step - loss: 0.5161 - accuracy: 0.6505 - val_loss: 0.5081 - val_accuracy: 0.6585\n",
            "Epoch 119/150\n",
            "163/163 [==============================] - 1s 6ms/step - loss: 0.5163 - accuracy: 0.6505 - val_loss: 0.5080 - val_accuracy: 0.6585\n",
            "Epoch 120/150\n",
            "163/163 [==============================] - 1s 5ms/step - loss: 0.5161 - accuracy: 0.6505 - val_loss: 0.5080 - val_accuracy: 0.6585\n",
            "Epoch 121/150\n",
            "163/163 [==============================] - 1s 5ms/step - loss: 0.5160 - accuracy: 0.6505 - val_loss: 0.5078 - val_accuracy: 0.6585\n",
            "Epoch 122/150\n",
            "163/163 [==============================] - 1s 5ms/step - loss: 0.5161 - accuracy: 0.6505 - val_loss: 0.5078 - val_accuracy: 0.6585\n",
            "Epoch 123/150\n",
            "163/163 [==============================] - 1s 5ms/step - loss: 0.5161 - accuracy: 0.6505 - val_loss: 0.5080 - val_accuracy: 0.6585\n",
            "Epoch 124/150\n",
            "163/163 [==============================] - 1s 5ms/step - loss: 0.5161 - accuracy: 0.6505 - val_loss: 0.5080 - val_accuracy: 0.6585\n",
            "Epoch 125/150\n",
            "163/163 [==============================] - 1s 5ms/step - loss: 0.5161 - accuracy: 0.6505 - val_loss: 0.5080 - val_accuracy: 0.6585\n",
            "Epoch 126/150\n",
            "163/163 [==============================] - 1s 7ms/step - loss: 0.5162 - accuracy: 0.6505 - val_loss: 0.5079 - val_accuracy: 0.6585\n",
            "Epoch 127/150\n",
            "163/163 [==============================] - 1s 9ms/step - loss: 0.5163 - accuracy: 0.6505 - val_loss: 0.5079 - val_accuracy: 0.6585\n",
            "Epoch 128/150\n",
            "163/163 [==============================] - 1s 7ms/step - loss: 0.5160 - accuracy: 0.6505 - val_loss: 0.5079 - val_accuracy: 0.6585\n",
            "Epoch 129/150\n",
            "163/163 [==============================] - 1s 5ms/step - loss: 0.5161 - accuracy: 0.6505 - val_loss: 0.5081 - val_accuracy: 0.6585\n",
            "Epoch 130/150\n",
            "163/163 [==============================] - 1s 5ms/step - loss: 0.5160 - accuracy: 0.6505 - val_loss: 0.5079 - val_accuracy: 0.6585\n",
            "Epoch 131/150\n",
            "163/163 [==============================] - 1s 5ms/step - loss: 0.5160 - accuracy: 0.6505 - val_loss: 0.5080 - val_accuracy: 0.6585\n",
            "Epoch 132/150\n",
            "163/163 [==============================] - 1s 5ms/step - loss: 0.5160 - accuracy: 0.6505 - val_loss: 0.5079 - val_accuracy: 0.6585\n",
            "Epoch 133/150\n",
            "163/163 [==============================] - 1s 5ms/step - loss: 0.5161 - accuracy: 0.6505 - val_loss: 0.5080 - val_accuracy: 0.6585\n",
            "Epoch 134/150\n",
            "163/163 [==============================] - 1s 5ms/step - loss: 0.5161 - accuracy: 0.6505 - val_loss: 0.5082 - val_accuracy: 0.6585\n",
            "Epoch 135/150\n",
            "163/163 [==============================] - 1s 5ms/step - loss: 0.5161 - accuracy: 0.6505 - val_loss: 0.5081 - val_accuracy: 0.6585\n",
            "Epoch 136/150\n",
            "163/163 [==============================] - 1s 5ms/step - loss: 0.5161 - accuracy: 0.6505 - val_loss: 0.5081 - val_accuracy: 0.6585\n",
            "Epoch 137/150\n",
            "163/163 [==============================] - 1s 5ms/step - loss: 0.5161 - accuracy: 0.6505 - val_loss: 0.5082 - val_accuracy: 0.6585\n",
            "Epoch 138/150\n",
            "163/163 [==============================] - 1s 5ms/step - loss: 0.5162 - accuracy: 0.6505 - val_loss: 0.5080 - val_accuracy: 0.6585\n",
            "Epoch 139/150\n",
            "163/163 [==============================] - 1s 6ms/step - loss: 0.5161 - accuracy: 0.6505 - val_loss: 0.5079 - val_accuracy: 0.6585\n",
            "Epoch 140/150\n",
            "163/163 [==============================] - 1s 7ms/step - loss: 0.5162 - accuracy: 0.6505 - val_loss: 0.5080 - val_accuracy: 0.6585\n",
            "Epoch 141/150\n",
            "163/163 [==============================] - 1s 9ms/step - loss: 0.5160 - accuracy: 0.6505 - val_loss: 0.5080 - val_accuracy: 0.6585\n",
            "Epoch 142/150\n",
            "163/163 [==============================] - 1s 6ms/step - loss: 0.5160 - accuracy: 0.6505 - val_loss: 0.5081 - val_accuracy: 0.6585\n",
            "Epoch 143/150\n",
            "163/163 [==============================] - 1s 5ms/step - loss: 0.5161 - accuracy: 0.6505 - val_loss: 0.5080 - val_accuracy: 0.6585\n",
            "Epoch 144/150\n",
            "163/163 [==============================] - 1s 5ms/step - loss: 0.5160 - accuracy: 0.6505 - val_loss: 0.5079 - val_accuracy: 0.6585\n",
            "Epoch 145/150\n",
            "163/163 [==============================] - 1s 6ms/step - loss: 0.5162 - accuracy: 0.6505 - val_loss: 0.5080 - val_accuracy: 0.6585\n",
            "Epoch 146/150\n",
            "163/163 [==============================] - 1s 5ms/step - loss: 0.5159 - accuracy: 0.6505 - val_loss: 0.5079 - val_accuracy: 0.6585\n",
            "Epoch 147/150\n",
            "163/163 [==============================] - 1s 5ms/step - loss: 0.5160 - accuracy: 0.6505 - val_loss: 0.5080 - val_accuracy: 0.6585\n",
            "Epoch 148/150\n",
            "163/163 [==============================] - 1s 5ms/step - loss: 0.5160 - accuracy: 0.6505 - val_loss: 0.5079 - val_accuracy: 0.6585\n",
            "Epoch 149/150\n",
            "163/163 [==============================] - 1s 5ms/step - loss: 0.5162 - accuracy: 0.6505 - val_loss: 0.5080 - val_accuracy: 0.6585\n",
            "Epoch 150/150\n",
            "163/163 [==============================] - 1s 5ms/step - loss: 0.5161 - accuracy: 0.6505 - val_loss: 0.5082 - val_accuracy: 0.6585\n"
          ]
        },
        {
          "output_type": "display_data",
          "data": {
            "text/plain": [
              "<Figure size 432x288 with 1 Axes>"
            ],
            "image/png": "[encoded data removed]"
          },
          "metadata": {
            "needs_background": "light"
          }
        },
        {
          "output_type": "display_data",
          "data": {
            "text/plain": [
              "<Figure size 432x288 with 1 Axes>"
            ],
            "image/png": "[encoded data removed]"
          },
          "metadata": {
            "needs_background": "light"
          }
        },
        {
          "output_type": "stream",
          "name": "stdout",
          "text": [
            "16/16 [==============================] - 0s 2ms/step - loss: 0.5233 - accuracy: 0.6287\n",
            "Accuracy: 62.87\n"
          ]
        }
      ]
    },
    {
      "cell_type": "code",
      "source": [
        "# define the keras model\n",
        "model = Sequential()\n",
        "model.add(Dense(200, input_shape=(784,), activation='relu'))\n",
        "model.add(Dense(60, activation='relu'))\n",
        "model.add(Dense(12, activation='tanh'))\n",
        "model.add(Dense(6, activation='tanh'))\n",
        "model.add(Dense(3, activation='sigmoid'))\n",
        "model.compile(loss='binary_crossentropy', optimizer=Adam(learning_rate=0.01), metrics=['accuracy'])\n",
        "history = model.fit(X_train, y_train, validation_split=0.2, epochs=150, batch_size=10)\n",
        "# summarize history for accuracy\n",
        "plt.plot(history.history['accuracy'])\n",
        "plt.plot(history.history['val_accuracy'])\n",
        "plt.title('model accuracy')\n",
        "plt.ylabel('accuracy')\n",
        "plt.xlabel('epoch')\n",
        "plt.legend(['train', 'validation'], loc='upper left')\n",
        "plt.show()\n",
        "# summarize history for loss\n",
        "plt.plot(history.history['loss'])\n",
        "plt.plot(history.history['val_loss'])\n",
        "plt.title('model loss')\n",
        "plt.ylabel('loss')\n",
        "plt.xlabel('epoch')\n",
        "plt.legend(['train', 'validation'], loc='upper left')\n",
        "plt.show()\n",
        "_, accuracy = model.evaluate(X_test, y_test)\n",
        "print('Accuracy: %.2f' % (accuracy*100))"
      ],
      "metadata": {
        "colab": {
          "base_uri": "https://localhost:8080/",
          "height": 1000
        },
        "id": "vTo7G97PeXyd",
        "outputId": "17315d37-a7ba-450b-d054-77c9c2024b71"
      },
      "execution_count": null,
      "outputs": [
        {
          "output_type": "stream",
          "name": "stdout",
          "text": [
            "Epoch 1/150\n",
            "163/163 [==============================] - 2s 6ms/step - loss: 0.5281 - accuracy: 0.6357 - val_loss: 0.5093 - val_accuracy: 0.6585\n",
            "Epoch 2/150\n",
            "163/163 [==============================] - 1s 5ms/step - loss: 0.5195 - accuracy: 0.6505 - val_loss: 0.5106 - val_accuracy: 0.6585\n",
            "Epoch 3/150\n",
            "163/163 [==============================] - 1s 5ms/step - loss: 0.5189 - accuracy: 0.6505 - val_loss: 0.5105 - val_accuracy: 0.6585\n",
            "Epoch 4/150\n",
            "163/163 [==============================] - 1s 7ms/step - loss: 0.5179 - accuracy: 0.6505 - val_loss: 0.5083 - val_accuracy: 0.6585\n",
            "Epoch 5/150\n",
            "163/163 [==============================] - 1s 8ms/step - loss: 0.5183 - accuracy: 0.6505 - val_loss: 0.5085 - val_accuracy: 0.6585\n",
            "Epoch 6/150\n",
            "163/163 [==============================] - 1s 6ms/step - loss: 0.5170 - accuracy: 0.6505 - val_loss: 0.5090 - val_accuracy: 0.6585\n",
            "Epoch 7/150\n",
            "163/163 [==============================] - 1s 5ms/step - loss: 0.5180 - accuracy: 0.6505 - val_loss: 0.5086 - val_accuracy: 0.6585\n",
            "Epoch 8/150\n",
            "163/163 [==============================] - 1s 5ms/step - loss: 0.5173 - accuracy: 0.6505 - val_loss: 0.5084 - val_accuracy: 0.6585\n",
            "Epoch 9/150\n",
            "163/163 [==============================] - 1s 5ms/step - loss: 0.5178 - accuracy: 0.6505 - val_loss: 0.5081 - val_accuracy: 0.6585\n",
            "Epoch 10/150\n",
            "163/163 [==============================] - 1s 5ms/step - loss: 0.5168 - accuracy: 0.6505 - val_loss: 0.5133 - val_accuracy: 0.6585\n",
            "Epoch 11/150\n",
            "163/163 [==============================] - 1s 5ms/step - loss: 0.5185 - accuracy: 0.6505 - val_loss: 0.5081 - val_accuracy: 0.6585\n",
            "Epoch 12/150\n",
            "163/163 [==============================] - 1s 5ms/step - loss: 0.5185 - accuracy: 0.6505 - val_loss: 0.5097 - val_accuracy: 0.6585\n",
            "Epoch 13/150\n",
            "163/163 [==============================] - 1s 5ms/step - loss: 0.5183 - accuracy: 0.6505 - val_loss: 0.5079 - val_accuracy: 0.6585\n",
            "Epoch 14/150\n",
            "163/163 [==============================] - 1s 5ms/step - loss: 0.5174 - accuracy: 0.6505 - val_loss: 0.5104 - val_accuracy: 0.6585\n",
            "Epoch 15/150\n",
            "163/163 [==============================] - 1s 5ms/step - loss: 0.5172 - accuracy: 0.6505 - val_loss: 0.5090 - val_accuracy: 0.6585\n",
            "Epoch 16/150\n",
            "163/163 [==============================] - 1s 5ms/step - loss: 0.5176 - accuracy: 0.6505 - val_loss: 0.5092 - val_accuracy: 0.6585\n",
            "Epoch 17/150\n",
            "163/163 [==============================] - 1s 5ms/step - loss: 0.5177 - accuracy: 0.6505 - val_loss: 0.5080 - val_accuracy: 0.6585\n",
            "Epoch 18/150\n",
            "163/163 [==============================] - 1s 5ms/step - loss: 0.5170 - accuracy: 0.6505 - val_loss: 0.5089 - val_accuracy: 0.6585\n",
            "Epoch 19/150\n",
            "163/163 [==============================] - 1s 8ms/step - loss: 0.5176 - accuracy: 0.6505 - val_loss: 0.5103 - val_accuracy: 0.6585\n",
            "Epoch 20/150\n",
            "163/163 [==============================] - 1s 8ms/step - loss: 0.5185 - accuracy: 0.6505 - val_loss: 0.5119 - val_accuracy: 0.6585\n",
            "Epoch 21/150\n",
            "163/163 [==============================] - 1s 5ms/step - loss: 0.5176 - accuracy: 0.6505 - val_loss: 0.5079 - val_accuracy: 0.6585\n",
            "Epoch 22/150\n",
            "163/163 [==============================] - 1s 5ms/step - loss: 0.5173 - accuracy: 0.6505 - val_loss: 0.5087 - val_accuracy: 0.6585\n",
            "Epoch 23/150\n",
            "163/163 [==============================] - 1s 5ms/step - loss: 0.5171 - accuracy: 0.6505 - val_loss: 0.5088 - val_accuracy: 0.6585\n",
            "Epoch 24/150\n",
            "163/163 [==============================] - 1s 5ms/step - loss: 0.5171 - accuracy: 0.6505 - val_loss: 0.5093 - val_accuracy: 0.6585\n",
            "Epoch 25/150\n",
            "163/163 [==============================] - 1s 5ms/step - loss: 0.5184 - accuracy: 0.6505 - val_loss: 0.5105 - val_accuracy: 0.6585\n",
            "Epoch 26/150\n",
            "163/163 [==============================] - 1s 5ms/step - loss: 0.5187 - accuracy: 0.6505 - val_loss: 0.5110 - val_accuracy: 0.6585\n",
            "Epoch 27/150\n",
            "163/163 [==============================] - 1s 5ms/step - loss: 0.5177 - accuracy: 0.6505 - val_loss: 0.5087 - val_accuracy: 0.6585\n",
            "Epoch 28/150\n",
            "163/163 [==============================] - 1s 5ms/step - loss: 0.5176 - accuracy: 0.6505 - val_loss: 0.5086 - val_accuracy: 0.6585\n",
            "Epoch 29/150\n",
            "163/163 [==============================] - 1s 5ms/step - loss: 0.5167 - accuracy: 0.6505 - val_loss: 0.5085 - val_accuracy: 0.6585\n",
            "Epoch 30/150\n",
            "163/163 [==============================] - 1s 5ms/step - loss: 0.5178 - accuracy: 0.6505 - val_loss: 0.5081 - val_accuracy: 0.6585\n",
            "Epoch 31/150\n",
            "163/163 [==============================] - 1s 5ms/step - loss: 0.5173 - accuracy: 0.6505 - val_loss: 0.5140 - val_accuracy: 0.6585\n",
            "Epoch 32/150\n",
            "163/163 [==============================] - 1s 5ms/step - loss: 0.5171 - accuracy: 0.6505 - val_loss: 0.5129 - val_accuracy: 0.6585\n",
            "Epoch 33/150\n",
            "163/163 [==============================] - 1s 7ms/step - loss: 0.5180 - accuracy: 0.6505 - val_loss: 0.5085 - val_accuracy: 0.6585\n",
            "Epoch 34/150\n",
            "163/163 [==============================] - 1s 9ms/step - loss: 0.5188 - accuracy: 0.6505 - val_loss: 0.5078 - val_accuracy: 0.6585\n",
            "Epoch 35/150\n",
            "163/163 [==============================] - 1s 7ms/step - loss: 0.5172 - accuracy: 0.6505 - val_loss: 0.5116 - val_accuracy: 0.6585\n",
            "Epoch 36/150\n",
            "163/163 [==============================] - 1s 5ms/step - loss: 0.5184 - accuracy: 0.6505 - val_loss: 0.5086 - val_accuracy: 0.6585\n",
            "Epoch 37/150\n",
            "163/163 [==============================] - 1s 5ms/step - loss: 0.5181 - accuracy: 0.6505 - val_loss: 0.5092 - val_accuracy: 0.6585\n",
            "Epoch 38/150\n",
            "163/163 [==============================] - 1s 5ms/step - loss: 0.5177 - accuracy: 0.6505 - val_loss: 0.5229 - val_accuracy: 0.6585\n",
            "Epoch 39/150\n",
            "163/163 [==============================] - 1s 5ms/step - loss: 0.5187 - accuracy: 0.6505 - val_loss: 0.5078 - val_accuracy: 0.6585\n",
            "Epoch 40/150\n",
            "163/163 [==============================] - 1s 5ms/step - loss: 0.5179 - accuracy: 0.6505 - val_loss: 0.5087 - val_accuracy: 0.6585\n",
            "Epoch 41/150\n",
            "163/163 [==============================] - 1s 5ms/step - loss: 0.5168 - accuracy: 0.6505 - val_loss: 0.5082 - val_accuracy: 0.6585\n",
            "Epoch 42/150\n",
            "163/163 [==============================] - 1s 5ms/step - loss: 0.5177 - accuracy: 0.6505 - val_loss: 0.5083 - val_accuracy: 0.6585\n",
            "Epoch 43/150\n",
            "163/163 [==============================] - 1s 5ms/step - loss: 0.5180 - accuracy: 0.6505 - val_loss: 0.5082 - val_accuracy: 0.6585\n",
            "Epoch 44/150\n",
            "163/163 [==============================] - 1s 5ms/step - loss: 0.5186 - accuracy: 0.6505 - val_loss: 0.5078 - val_accuracy: 0.6585\n",
            "Epoch 45/150\n",
            "163/163 [==============================] - 1s 5ms/step - loss: 0.5188 - accuracy: 0.6505 - val_loss: 0.5083 - val_accuracy: 0.6585\n",
            "Epoch 46/150\n",
            "163/163 [==============================] - 1s 5ms/step - loss: 0.5173 - accuracy: 0.6505 - val_loss: 0.5091 - val_accuracy: 0.6585\n",
            "Epoch 47/150\n",
            "163/163 [==============================] - 1s 5ms/step - loss: 0.5175 - accuracy: 0.6505 - val_loss: 0.5082 - val_accuracy: 0.6585\n",
            "Epoch 48/150\n",
            "163/163 [==============================] - 1s 7ms/step - loss: 0.5172 - accuracy: 0.6505 - val_loss: 0.5082 - val_accuracy: 0.6585\n",
            "Epoch 49/150\n",
            "163/163 [==============================] - 1s 8ms/step - loss: 0.5177 - accuracy: 0.6505 - val_loss: 0.5090 - val_accuracy: 0.6585\n",
            "Epoch 50/150\n",
            "163/163 [==============================] - 1s 5ms/step - loss: 0.5177 - accuracy: 0.6505 - val_loss: 0.5088 - val_accuracy: 0.6585\n",
            "Epoch 51/150\n",
            "163/163 [==============================] - 1s 5ms/step - loss: 0.5182 - accuracy: 0.6505 - val_loss: 0.5084 - val_accuracy: 0.6585\n",
            "Epoch 52/150\n",
            "163/163 [==============================] - 1s 5ms/step - loss: 0.5163 - accuracy: 0.6505 - val_loss: 0.5134 - val_accuracy: 0.6585\n",
            "Epoch 53/150\n",
            "163/163 [==============================] - 1s 5ms/step - loss: 0.5171 - accuracy: 0.6505 - val_loss: 0.5091 - val_accuracy: 0.6585\n",
            "Epoch 54/150\n",
            "163/163 [==============================] - 1s 5ms/step - loss: 0.5172 - accuracy: 0.6505 - val_loss: 0.5100 - val_accuracy: 0.6585\n",
            "Epoch 55/150\n",
            "163/163 [==============================] - 1s 5ms/step - loss: 0.5174 - accuracy: 0.6505 - val_loss: 0.5080 - val_accuracy: 0.6585\n",
            "Epoch 56/150\n",
            "163/163 [==============================] - 1s 5ms/step - loss: 0.5172 - accuracy: 0.6505 - val_loss: 0.5083 - val_accuracy: 0.6585\n",
            "Epoch 57/150\n",
            "163/163 [==============================] - 1s 5ms/step - loss: 0.5178 - accuracy: 0.6505 - val_loss: 0.5089 - val_accuracy: 0.6585\n",
            "Epoch 58/150\n",
            "163/163 [==============================] - 1s 5ms/step - loss: 0.5186 - accuracy: 0.6505 - val_loss: 0.5096 - val_accuracy: 0.6585\n",
            "Epoch 59/150\n",
            "163/163 [==============================] - 1s 5ms/step - loss: 0.5192 - accuracy: 0.6505 - val_loss: 0.5143 - val_accuracy: 0.6585\n",
            "Epoch 60/150\n",
            "163/163 [==============================] - 1s 5ms/step - loss: 0.5177 - accuracy: 0.6505 - val_loss: 0.5097 - val_accuracy: 0.6585\n",
            "Epoch 61/150\n",
            "163/163 [==============================] - 1s 5ms/step - loss: 0.5188 - accuracy: 0.6505 - val_loss: 0.5130 - val_accuracy: 0.6585\n",
            "Epoch 62/150\n",
            "163/163 [==============================] - 1s 6ms/step - loss: 0.5188 - accuracy: 0.6505 - val_loss: 0.5111 - val_accuracy: 0.6585\n",
            "Epoch 63/150\n",
            "163/163 [==============================] - 1s 9ms/step - loss: 0.5184 - accuracy: 0.6505 - val_loss: 0.5081 - val_accuracy: 0.6585\n",
            "Epoch 64/150\n",
            "163/163 [==============================] - 1s 7ms/step - loss: 0.5172 - accuracy: 0.6505 - val_loss: 0.5093 - val_accuracy: 0.6585\n",
            "Epoch 65/150\n",
            "163/163 [==============================] - 1s 5ms/step - loss: 0.5163 - accuracy: 0.6505 - val_loss: 0.5108 - val_accuracy: 0.6585\n",
            "Epoch 66/150\n",
            "163/163 [==============================] - 1s 5ms/step - loss: 0.5187 - accuracy: 0.6505 - val_loss: 0.5110 - val_accuracy: 0.6585\n",
            "Epoch 67/150\n",
            "163/163 [==============================] - 1s 5ms/step - loss: 0.5180 - accuracy: 0.6505 - val_loss: 0.5085 - val_accuracy: 0.6585\n",
            "Epoch 68/150\n",
            "163/163 [==============================] - 1s 5ms/step - loss: 0.5180 - accuracy: 0.6505 - val_loss: 0.5112 - val_accuracy: 0.6585\n",
            "Epoch 69/150\n",
            "163/163 [==============================] - 1s 5ms/step - loss: 0.5184 - accuracy: 0.6505 - val_loss: 0.5110 - val_accuracy: 0.6585\n",
            "Epoch 70/150\n",
            "163/163 [==============================] - 1s 5ms/step - loss: 0.5196 - accuracy: 0.6505 - val_loss: 0.5083 - val_accuracy: 0.6585\n",
            "Epoch 71/150\n",
            "163/163 [==============================] - 1s 5ms/step - loss: 0.5213 - accuracy: 0.6505 - val_loss: 0.5098 - val_accuracy: 0.6585\n",
            "Epoch 72/150\n",
            "163/163 [==============================] - 1s 5ms/step - loss: 0.5178 - accuracy: 0.6505 - val_loss: 0.5084 - val_accuracy: 0.6585\n",
            "Epoch 73/150\n",
            "163/163 [==============================] - 1s 5ms/step - loss: 0.5193 - accuracy: 0.6505 - val_loss: 0.5096 - val_accuracy: 0.6585\n",
            "Epoch 74/150\n",
            "163/163 [==============================] - 1s 5ms/step - loss: 0.5177 - accuracy: 0.6505 - val_loss: 0.5078 - val_accuracy: 0.6585\n",
            "Epoch 75/150\n",
            "163/163 [==============================] - 1s 5ms/step - loss: 0.5172 - accuracy: 0.6505 - val_loss: 0.5103 - val_accuracy: 0.6585\n",
            "Epoch 76/150\n",
            "163/163 [==============================] - 1s 5ms/step - loss: 0.5174 - accuracy: 0.6505 - val_loss: 0.5079 - val_accuracy: 0.6585\n",
            "Epoch 77/150\n",
            "163/163 [==============================] - 1s 8ms/step - loss: 0.5178 - accuracy: 0.6505 - val_loss: 0.5115 - val_accuracy: 0.6585\n",
            "Epoch 78/150\n",
            "163/163 [==============================] - 1s 9ms/step - loss: 0.5173 - accuracy: 0.6505 - val_loss: 0.5088 - val_accuracy: 0.6585\n",
            "Epoch 79/150\n",
            "163/163 [==============================] - 1s 5ms/step - loss: 0.5170 - accuracy: 0.6505 - val_loss: 0.5123 - val_accuracy: 0.6585\n",
            "Epoch 80/150\n",
            "163/163 [==============================] - 1s 5ms/step - loss: 0.5185 - accuracy: 0.6505 - val_loss: 0.5095 - val_accuracy: 0.6585\n",
            "Epoch 81/150\n",
            "163/163 [==============================] - 1s 5ms/step - loss: 0.5164 - accuracy: 0.6505 - val_loss: 0.5167 - val_accuracy: 0.6585\n",
            "Epoch 82/150\n",
            "163/163 [==============================] - 1s 5ms/step - loss: 0.5184 - accuracy: 0.6505 - val_loss: 0.5096 - val_accuracy: 0.6585\n",
            "Epoch 83/150\n",
            "163/163 [==============================] - 1s 5ms/step - loss: 0.5184 - accuracy: 0.6505 - val_loss: 0.5082 - val_accuracy: 0.6585\n",
            "Epoch 84/150\n",
            "163/163 [==============================] - 1s 5ms/step - loss: 0.5183 - accuracy: 0.6505 - val_loss: 0.5094 - val_accuracy: 0.6585\n",
            "Epoch 85/150\n",
            "163/163 [==============================] - 1s 5ms/step - loss: 0.5195 - accuracy: 0.6505 - val_loss: 0.5093 - val_accuracy: 0.6585\n",
            "Epoch 86/150\n",
            "163/163 [==============================] - 1s 5ms/step - loss: 0.5205 - accuracy: 0.6505 - val_loss: 0.5122 - val_accuracy: 0.6585\n",
            "Epoch 87/150\n",
            "163/163 [==============================] - 1s 5ms/step - loss: 0.5175 - accuracy: 0.6505 - val_loss: 0.5096 - val_accuracy: 0.6585\n",
            "Epoch 88/150\n",
            "163/163 [==============================] - 1s 5ms/step - loss: 0.5189 - accuracy: 0.6505 - val_loss: 0.5084 - val_accuracy: 0.6585\n",
            "Epoch 89/150\n",
            "163/163 [==============================] - 1s 4ms/step - loss: 0.5187 - accuracy: 0.6505 - val_loss: 0.5093 - val_accuracy: 0.6585\n",
            "Epoch 90/150\n",
            "163/163 [==============================] - 1s 5ms/step - loss: 0.5187 - accuracy: 0.6505 - val_loss: 0.5089 - val_accuracy: 0.6585\n",
            "Epoch 91/150\n",
            "163/163 [==============================] - 1s 7ms/step - loss: 0.5192 - accuracy: 0.6505 - val_loss: 0.5079 - val_accuracy: 0.6585\n",
            "Epoch 92/150\n",
            "163/163 [==============================] - 1s 8ms/step - loss: 0.5178 - accuracy: 0.6505 - val_loss: 0.5156 - val_accuracy: 0.6585\n",
            "Epoch 93/150\n",
            "163/163 [==============================] - 1s 6ms/step - loss: 0.5183 - accuracy: 0.6505 - val_loss: 0.5082 - val_accuracy: 0.6585\n",
            "Epoch 94/150\n",
            "163/163 [==============================] - 1s 5ms/step - loss: 0.5175 - accuracy: 0.6505 - val_loss: 0.5082 - val_accuracy: 0.6585\n",
            "Epoch 95/150\n",
            "163/163 [==============================] - 1s 5ms/step - loss: 0.5181 - accuracy: 0.6505 - val_loss: 0.5110 - val_accuracy: 0.6585\n",
            "Epoch 96/150\n",
            "163/163 [==============================] - 1s 5ms/step - loss: 0.5182 - accuracy: 0.6505 - val_loss: 0.5085 - val_accuracy: 0.6585\n",
            "Epoch 97/150\n",
            "163/163 [==============================] - 1s 5ms/step - loss: 0.5166 - accuracy: 0.6505 - val_loss: 0.5084 - val_accuracy: 0.6585\n",
            "Epoch 98/150\n",
            "163/163 [==============================] - 1s 5ms/step - loss: 0.5171 - accuracy: 0.6505 - val_loss: 0.5093 - val_accuracy: 0.6585\n",
            "Epoch 99/150\n",
            "163/163 [==============================] - 1s 5ms/step - loss: 0.5174 - accuracy: 0.6505 - val_loss: 0.5097 - val_accuracy: 0.6585\n",
            "Epoch 100/150\n",
            "163/163 [==============================] - 1s 5ms/step - loss: 0.5171 - accuracy: 0.6505 - val_loss: 0.5079 - val_accuracy: 0.6585\n",
            "Epoch 101/150\n",
            "163/163 [==============================] - 1s 5ms/step - loss: 0.5189 - accuracy: 0.6505 - val_loss: 0.5088 - val_accuracy: 0.6585\n",
            "Epoch 102/150\n",
            "163/163 [==============================] - 1s 5ms/step - loss: 0.5173 - accuracy: 0.6505 - val_loss: 0.5168 - val_accuracy: 0.6585\n",
            "Epoch 103/150\n",
            "163/163 [==============================] - 1s 5ms/step - loss: 0.5191 - accuracy: 0.6505 - val_loss: 0.5102 - val_accuracy: 0.6585\n",
            "Epoch 104/150\n",
            "163/163 [==============================] - 1s 5ms/step - loss: 0.5175 - accuracy: 0.6505 - val_loss: 0.5090 - val_accuracy: 0.6585\n",
            "Epoch 105/150\n",
            "163/163 [==============================] - 1s 5ms/step - loss: 0.5177 - accuracy: 0.6505 - val_loss: 0.5102 - val_accuracy: 0.6585\n",
            "Epoch 106/150\n",
            "163/163 [==============================] - 1s 7ms/step - loss: 0.5180 - accuracy: 0.6505 - val_loss: 0.5082 - val_accuracy: 0.6585\n",
            "Epoch 107/150\n",
            "163/163 [==============================] - 1s 8ms/step - loss: 0.5178 - accuracy: 0.6505 - val_loss: 0.5092 - val_accuracy: 0.6585\n",
            "Epoch 108/150\n",
            "163/163 [==============================] - 1s 5ms/step - loss: 0.5196 - accuracy: 0.6505 - val_loss: 0.5088 - val_accuracy: 0.6585\n",
            "Epoch 109/150\n",
            "163/163 [==============================] - 1s 5ms/step - loss: 0.5176 - accuracy: 0.6505 - val_loss: 0.5089 - val_accuracy: 0.6585\n",
            "Epoch 110/150\n",
            "163/163 [==============================] - 1s 5ms/step - loss: 0.5180 - accuracy: 0.6505 - val_loss: 0.5098 - val_accuracy: 0.6585\n",
            "Epoch 111/150\n",
            "163/163 [==============================] - 1s 5ms/step - loss: 0.5189 - accuracy: 0.6505 - val_loss: 0.5102 - val_accuracy: 0.6585\n",
            "Epoch 112/150\n",
            "163/163 [==============================] - 1s 5ms/step - loss: 0.5178 - accuracy: 0.6505 - val_loss: 0.5106 - val_accuracy: 0.6585\n",
            "Epoch 113/150\n",
            "163/163 [==============================] - 1s 5ms/step - loss: 0.5173 - accuracy: 0.6505 - val_loss: 0.5122 - val_accuracy: 0.6585\n",
            "Epoch 114/150\n",
            "163/163 [==============================] - 1s 5ms/step - loss: 0.5170 - accuracy: 0.6505 - val_loss: 0.5107 - val_accuracy: 0.6585\n",
            "Epoch 115/150\n",
            "163/163 [==============================] - 1s 5ms/step - loss: 0.5178 - accuracy: 0.6505 - val_loss: 0.5080 - val_accuracy: 0.6585\n",
            "Epoch 116/150\n",
            "163/163 [==============================] - 1s 5ms/step - loss: 0.5170 - accuracy: 0.6505 - val_loss: 0.5082 - val_accuracy: 0.6585\n",
            "Epoch 117/150\n",
            "163/163 [==============================] - 1s 5ms/step - loss: 0.5171 - accuracy: 0.6505 - val_loss: 0.5085 - val_accuracy: 0.6585\n",
            "Epoch 118/150\n",
            "163/163 [==============================] - 1s 5ms/step - loss: 0.5177 - accuracy: 0.6505 - val_loss: 0.5096 - val_accuracy: 0.6585\n",
            "Epoch 119/150\n",
            "163/163 [==============================] - 1s 5ms/step - loss: 0.5156 - accuracy: 0.6505 - val_loss: 0.5252 - val_accuracy: 0.6585\n",
            "Epoch 120/150\n",
            "163/163 [==============================] - 1s 8ms/step - loss: 0.5196 - accuracy: 0.6505 - val_loss: 0.5105 - val_accuracy: 0.6585\n",
            "Epoch 121/150\n",
            "163/163 [==============================] - 1s 9ms/step - loss: 0.5176 - accuracy: 0.6505 - val_loss: 0.5079 - val_accuracy: 0.6585\n",
            "Epoch 122/150\n",
            "163/163 [==============================] - 1s 5ms/step - loss: 0.5176 - accuracy: 0.6505 - val_loss: 0.5101 - val_accuracy: 0.6585\n",
            "Epoch 123/150\n",
            "163/163 [==============================] - 1s 5ms/step - loss: 0.5181 - accuracy: 0.6505 - val_loss: 0.5127 - val_accuracy: 0.6585\n",
            "Epoch 124/150\n",
            "163/163 [==============================] - 1s 5ms/step - loss: 0.5172 - accuracy: 0.6505 - val_loss: 0.5092 - val_accuracy: 0.6585\n",
            "Epoch 125/150\n",
            "163/163 [==============================] - 1s 5ms/step - loss: 0.5179 - accuracy: 0.6505 - val_loss: 0.5080 - val_accuracy: 0.6585\n",
            "Epoch 126/150\n",
            "163/163 [==============================] - 1s 5ms/step - loss: 0.5181 - accuracy: 0.6505 - val_loss: 0.5097 - val_accuracy: 0.6585\n",
            "Epoch 127/150\n",
            "163/163 [==============================] - 1s 5ms/step - loss: 0.5181 - accuracy: 0.6505 - val_loss: 0.5079 - val_accuracy: 0.6585\n",
            "Epoch 128/150\n",
            "163/163 [==============================] - 1s 6ms/step - loss: 0.5170 - accuracy: 0.6505 - val_loss: 0.5099 - val_accuracy: 0.6585\n",
            "Epoch 129/150\n",
            "163/163 [==============================] - 1s 5ms/step - loss: 0.5181 - accuracy: 0.6505 - val_loss: 0.5098 - val_accuracy: 0.6585\n",
            "Epoch 130/150\n",
            "163/163 [==============================] - 1s 5ms/step - loss: 0.5174 - accuracy: 0.6505 - val_loss: 0.5090 - val_accuracy: 0.6585\n",
            "Epoch 131/150\n",
            "163/163 [==============================] - 1s 5ms/step - loss: 0.5180 - accuracy: 0.6505 - val_loss: 0.5095 - val_accuracy: 0.6585\n",
            "Epoch 132/150\n",
            "163/163 [==============================] - 1s 5ms/step - loss: 0.5171 - accuracy: 0.6505 - val_loss: 0.5079 - val_accuracy: 0.6585\n",
            "Epoch 133/150\n",
            "163/163 [==============================] - 1s 5ms/step - loss: 0.5182 - accuracy: 0.6505 - val_loss: 0.5089 - val_accuracy: 0.6585\n",
            "Epoch 134/150\n",
            "163/163 [==============================] - 1s 8ms/step - loss: 0.5180 - accuracy: 0.6505 - val_loss: 0.5085 - val_accuracy: 0.6585\n",
            "Epoch 135/150\n",
            "163/163 [==============================] - 1s 9ms/step - loss: 0.5185 - accuracy: 0.6505 - val_loss: 0.5080 - val_accuracy: 0.6585\n",
            "Epoch 136/150\n",
            "163/163 [==============================] - 1s 5ms/step - loss: 0.5178 - accuracy: 0.6505 - val_loss: 0.5092 - val_accuracy: 0.6585\n",
            "Epoch 137/150\n",
            "163/163 [==============================] - 1s 5ms/step - loss: 0.5176 - accuracy: 0.6505 - val_loss: 0.5096 - val_accuracy: 0.6585\n",
            "Epoch 138/150\n",
            "163/163 [==============================] - 1s 5ms/step - loss: 0.5185 - accuracy: 0.6505 - val_loss: 0.5080 - val_accuracy: 0.6585\n",
            "Epoch 139/150\n",
            "163/163 [==============================] - 1s 5ms/step - loss: 0.5175 - accuracy: 0.6505 - val_loss: 0.5087 - val_accuracy: 0.6585\n",
            "Epoch 140/150\n",
            "163/163 [==============================] - 1s 5ms/step - loss: 0.5181 - accuracy: 0.6505 - val_loss: 0.5090 - val_accuracy: 0.6585\n",
            "Epoch 141/150\n",
            "163/163 [==============================] - 1s 5ms/step - loss: 0.5185 - accuracy: 0.6505 - val_loss: 0.5095 - val_accuracy: 0.6585\n",
            "Epoch 142/150\n",
            "163/163 [==============================] - 1s 5ms/step - loss: 0.5173 - accuracy: 0.6505 - val_loss: 0.5079 - val_accuracy: 0.6585\n",
            "Epoch 143/150\n",
            "163/163 [==============================] - 1s 5ms/step - loss: 0.5186 - accuracy: 0.6505 - val_loss: 0.5079 - val_accuracy: 0.6585\n",
            "Epoch 144/150\n",
            "163/163 [==============================] - 1s 5ms/step - loss: 0.5180 - accuracy: 0.6505 - val_loss: 0.5101 - val_accuracy: 0.6585\n",
            "Epoch 145/150\n",
            "163/163 [==============================] - 1s 6ms/step - loss: 0.5188 - accuracy: 0.6505 - val_loss: 0.5078 - val_accuracy: 0.6585\n",
            "Epoch 146/150\n",
            "163/163 [==============================] - 1s 5ms/step - loss: 0.5174 - accuracy: 0.6505 - val_loss: 0.5079 - val_accuracy: 0.6585\n",
            "Epoch 147/150\n",
            "163/163 [==============================] - 1s 5ms/step - loss: 0.5174 - accuracy: 0.6505 - val_loss: 0.5080 - val_accuracy: 0.6585\n",
            "Epoch 148/150\n",
            "163/163 [==============================] - 1s 8ms/step - loss: 0.5168 - accuracy: 0.6505 - val_loss: 0.5129 - val_accuracy: 0.6585\n",
            "Epoch 149/150\n",
            "163/163 [==============================] - 1s 8ms/step - loss: 0.5179 - accuracy: 0.6505 - val_loss: 0.5098 - val_accuracy: 0.6585\n",
            "Epoch 150/150\n",
            "163/163 [==============================] - 1s 5ms/step - loss: 0.5188 - accuracy: 0.6505 - val_loss: 0.5086 - val_accuracy: 0.6585\n"
          ]
        },
        {
          "output_type": "display_data",
          "data": {
            "text/plain": [
              "<Figure size 432x288 with 1 Axes>"
            ],
            "image/png": "[encoded data removed]"
          },
          "metadata": {
            "needs_background": "light"
          }
        },
        {
          "output_type": "display_data",
          "data": {
            "text/plain": [
              "<Figure size 432x288 with 1 Axes>"
            ],
            "image/png": "[encoded data removed]"
          },
          "metadata": {
            "needs_background": "light"
          }
        },
        {
          "output_type": "stream",
          "name": "stdout",
          "text": [
            "16/16 [==============================] - 0s 3ms/step - loss: 0.5269 - accuracy: 0.6287\n",
            "Accuracy: 62.87\n"
          ]
        }
      ]
    },
    {
      "cell_type": "code",
      "source": [
        "# define the keras model\n",
        "model = Sequential()\n",
        "model.add(Dense(200, input_shape=(784,), activation='relu'))\n",
        "model.add(Dense(60, activation='relu'))\n",
        "model.add(Dense(12, activation='tanh'))\n",
        "model.add(Dense(6, activation='tanh'))\n",
        "model.add(Dense(3, activation='sigmoid'))\n",
        "model.compile(loss='binary_crossentropy', optimizer=Adam(learning_rate=0.1), metrics=['accuracy'])\n",
        "history = model.fit(X_train, y_train, validation_split=0.2, epochs=150, batch_size=10)\n",
        "# summarize history for accuracy\n",
        "plt.plot(history.history['accuracy'])\n",
        "plt.plot(history.history['val_accuracy'])\n",
        "plt.title('model accuracy')\n",
        "plt.ylabel('accuracy')\n",
        "plt.xlabel('epoch')\n",
        "plt.legend(['train', 'validation'], loc='upper left')\n",
        "plt.show()\n",
        "# summarize history for loss\n",
        "plt.plot(history.history['loss'])\n",
        "plt.plot(history.history['val_loss'])\n",
        "plt.title('model loss')\n",
        "plt.ylabel('loss')\n",
        "plt.xlabel('epoch')\n",
        "plt.legend(['train', 'validation'], loc='upper left')\n",
        "plt.show()\n",
        "_, accuracy = model.evaluate(X_test, y_test)\n",
        "print('Accuracy: %.2f' % (accuracy*100))"
      ],
      "metadata": {
        "colab": {
          "base_uri": "https://localhost:8080/",
          "height": 1000
        },
        "id": "ZHXhzvIAea5q",
        "outputId": "52c8d64a-f4b0-48d9-bbae-827acd81a41f"
      },
      "execution_count": null,
      "outputs": [
        {
          "output_type": "stream",
          "name": "stdout",
          "text": [
            "Epoch 1/150\n",
            "163/163 [==============================] - 3s 8ms/step - loss: 0.5389 - accuracy: 0.6462 - val_loss: 0.5146 - val_accuracy: 0.6585\n",
            "Epoch 2/150\n",
            "163/163 [==============================] - 1s 5ms/step - loss: 0.5358 - accuracy: 0.6418 - val_loss: 0.5143 - val_accuracy: 0.6585\n",
            "Epoch 3/150\n",
            "163/163 [==============================] - 1s 5ms/step - loss: 0.5433 - accuracy: 0.6505 - val_loss: 0.5179 - val_accuracy: 0.6585\n",
            "Epoch 4/150\n",
            "163/163 [==============================] - 1s 5ms/step - loss: 0.5322 - accuracy: 0.6505 - val_loss: 0.5242 - val_accuracy: 0.6585\n",
            "Epoch 5/150\n",
            "163/163 [==============================] - 1s 5ms/step - loss: 0.5401 - accuracy: 0.6302 - val_loss: 0.5131 - val_accuracy: 0.6585\n",
            "Epoch 6/150\n",
            "163/163 [==============================] - 1s 5ms/step - loss: 0.5289 - accuracy: 0.6449 - val_loss: 0.5155 - val_accuracy: 0.6585\n",
            "Epoch 7/150\n",
            "163/163 [==============================] - 1s 5ms/step - loss: 0.5437 - accuracy: 0.6295 - val_loss: 0.5173 - val_accuracy: 0.6585\n",
            "Epoch 8/150\n",
            "163/163 [==============================] - 1s 5ms/step - loss: 0.5376 - accuracy: 0.6345 - val_loss: 0.5670 - val_accuracy: 0.6585\n",
            "Epoch 9/150\n",
            "163/163 [==============================] - 1s 5ms/step - loss: 0.5413 - accuracy: 0.6363 - val_loss: 0.5123 - val_accuracy: 0.6585\n",
            "Epoch 10/150\n",
            "163/163 [==============================] - 1s 5ms/step - loss: 0.5416 - accuracy: 0.6480 - val_loss: 0.5136 - val_accuracy: 0.6585\n",
            "Epoch 11/150\n",
            "163/163 [==============================] - 1s 5ms/step - loss: 0.5314 - accuracy: 0.6505 - val_loss: 0.5107 - val_accuracy: 0.6585\n",
            "Epoch 12/150\n",
            "163/163 [==============================] - 1s 4ms/step - loss: 0.5407 - accuracy: 0.6505 - val_loss: 0.5100 - val_accuracy: 0.6585\n",
            "Epoch 13/150\n",
            "163/163 [==============================] - 1s 4ms/step - loss: 0.5350 - accuracy: 0.6418 - val_loss: 0.5157 - val_accuracy: 0.6585\n",
            "Epoch 14/150\n",
            "163/163 [==============================] - 1s 7ms/step - loss: 0.5282 - accuracy: 0.6425 - val_loss: 0.5206 - val_accuracy: 0.6585\n",
            "Epoch 15/150\n",
            "163/163 [==============================] - 1s 7ms/step - loss: 0.5319 - accuracy: 0.6505 - val_loss: 0.5525 - val_accuracy: 0.6585\n",
            "Epoch 16/150\n",
            "163/163 [==============================] - 1s 5ms/step - loss: 0.5383 - accuracy: 0.6462 - val_loss: 0.5452 - val_accuracy: 0.6585\n",
            "Epoch 17/150\n",
            "163/163 [==============================] - 1s 4ms/step - loss: 0.5351 - accuracy: 0.6400 - val_loss: 0.5106 - val_accuracy: 0.6585\n",
            "Epoch 18/150\n",
            "163/163 [==============================] - 1s 5ms/step - loss: 0.5360 - accuracy: 0.6437 - val_loss: 0.6154 - val_accuracy: 0.2383\n",
            "Epoch 19/150\n",
            "163/163 [==============================] - 1s 4ms/step - loss: 0.5482 - accuracy: 0.6338 - val_loss: 0.5385 - val_accuracy: 0.6585\n",
            "Epoch 20/150\n",
            "163/163 [==============================] - 1s 5ms/step - loss: 0.5298 - accuracy: 0.6406 - val_loss: 0.5215 - val_accuracy: 0.6585\n",
            "Epoch 21/150\n",
            "163/163 [==============================] - 1s 4ms/step - loss: 0.5364 - accuracy: 0.6505 - val_loss: 0.5123 - val_accuracy: 0.6585\n",
            "Epoch 22/150\n",
            "163/163 [==============================] - 1s 4ms/step - loss: 0.5350 - accuracy: 0.6505 - val_loss: 0.5183 - val_accuracy: 0.6585\n",
            "Epoch 23/150\n",
            "163/163 [==============================] - 1s 4ms/step - loss: 0.5340 - accuracy: 0.6505 - val_loss: 0.5438 - val_accuracy: 0.6585\n",
            "Epoch 24/150\n",
            "163/163 [==============================] - 1s 5ms/step - loss: 0.5255 - accuracy: 0.6505 - val_loss: 0.5121 - val_accuracy: 0.6585\n",
            "Epoch 25/150\n",
            "163/163 [==============================] - 1s 4ms/step - loss: 0.5298 - accuracy: 0.6505 - val_loss: 0.5277 - val_accuracy: 0.6585\n",
            "Epoch 26/150\n",
            "163/163 [==============================] - 1s 5ms/step - loss: 0.5428 - accuracy: 0.6425 - val_loss: 0.5283 - val_accuracy: 0.6585\n",
            "Epoch 27/150\n",
            "163/163 [==============================] - 1s 5ms/step - loss: 0.5403 - accuracy: 0.6357 - val_loss: 0.5214 - val_accuracy: 0.6585\n",
            "Epoch 28/150\n",
            "163/163 [==============================] - 1s 4ms/step - loss: 0.5360 - accuracy: 0.6406 - val_loss: 0.5130 - val_accuracy: 0.6585\n",
            "Epoch 29/150\n",
            "163/163 [==============================] - 1s 6ms/step - loss: 0.5322 - accuracy: 0.6462 - val_loss: 0.5387 - val_accuracy: 0.6585\n",
            "Epoch 30/150\n",
            "163/163 [==============================] - 1s 8ms/step - loss: 0.5290 - accuracy: 0.6437 - val_loss: 0.5396 - val_accuracy: 0.6585\n",
            "Epoch 31/150\n",
            "163/163 [==============================] - 1s 7ms/step - loss: 0.5323 - accuracy: 0.6449 - val_loss: 0.5295 - val_accuracy: 0.6585\n",
            "Epoch 32/150\n",
            "163/163 [==============================] - 1s 4ms/step - loss: 0.5414 - accuracy: 0.6505 - val_loss: 0.5292 - val_accuracy: 0.6585\n",
            "Epoch 33/150\n",
            "163/163 [==============================] - 1s 5ms/step - loss: 0.5354 - accuracy: 0.6505 - val_loss: 0.5201 - val_accuracy: 0.6585\n",
            "Epoch 34/150\n",
            "163/163 [==============================] - 1s 5ms/step - loss: 0.5329 - accuracy: 0.6505 - val_loss: 0.5088 - val_accuracy: 0.6585\n",
            "Epoch 35/150\n",
            "163/163 [==============================] - 1s 5ms/step - loss: 0.5298 - accuracy: 0.6505 - val_loss: 0.5084 - val_accuracy: 0.6585\n",
            "Epoch 36/150\n",
            "163/163 [==============================] - 1s 4ms/step - loss: 0.5350 - accuracy: 0.6505 - val_loss: 0.5209 - val_accuracy: 0.6585\n",
            "Epoch 37/150\n",
            "163/163 [==============================] - 1s 5ms/step - loss: 0.5423 - accuracy: 0.6505 - val_loss: 0.5403 - val_accuracy: 0.6585\n",
            "Epoch 38/150\n",
            "163/163 [==============================] - 1s 5ms/step - loss: 0.5440 - accuracy: 0.6406 - val_loss: 0.5145 - val_accuracy: 0.6585\n",
            "Epoch 39/150\n",
            "163/163 [==============================] - 1s 5ms/step - loss: 0.5534 - accuracy: 0.6345 - val_loss: 0.5416 - val_accuracy: 0.6585\n",
            "Epoch 40/150\n",
            "163/163 [==============================] - 1s 5ms/step - loss: 0.5304 - accuracy: 0.6455 - val_loss: 0.5081 - val_accuracy: 0.6585\n",
            "Epoch 41/150\n",
            "163/163 [==============================] - 1s 5ms/step - loss: 0.5351 - accuracy: 0.6505 - val_loss: 0.5080 - val_accuracy: 0.6585\n",
            "Epoch 42/150\n",
            "163/163 [==============================] - 1s 4ms/step - loss: 0.5336 - accuracy: 0.6382 - val_loss: 0.5492 - val_accuracy: 0.6585\n",
            "Epoch 43/150\n",
            "163/163 [==============================] - 1s 5ms/step - loss: 0.5389 - accuracy: 0.6505 - val_loss: 0.5080 - val_accuracy: 0.6585\n",
            "Epoch 44/150\n",
            "163/163 [==============================] - 1s 5ms/step - loss: 0.5432 - accuracy: 0.6252 - val_loss: 0.5239 - val_accuracy: 0.6585\n",
            "Epoch 45/150\n",
            "163/163 [==============================] - 1s 8ms/step - loss: 0.5505 - accuracy: 0.6246 - val_loss: 0.5098 - val_accuracy: 0.6585\n",
            "Epoch 46/150\n",
            "163/163 [==============================] - 1s 7ms/step - loss: 0.5305 - accuracy: 0.6505 - val_loss: 0.5239 - val_accuracy: 0.6585\n",
            "Epoch 47/150\n",
            "163/163 [==============================] - 1s 5ms/step - loss: 0.5368 - accuracy: 0.6505 - val_loss: 0.5212 - val_accuracy: 0.6585\n",
            "Epoch 48/150\n",
            "163/163 [==============================] - 1s 4ms/step - loss: 0.5357 - accuracy: 0.6505 - val_loss: 0.5138 - val_accuracy: 0.6585\n",
            "Epoch 49/150\n",
            "163/163 [==============================] - 1s 4ms/step - loss: 0.5323 - accuracy: 0.6437 - val_loss: 0.5205 - val_accuracy: 0.6585\n",
            "Epoch 50/150\n",
            "163/163 [==============================] - 1s 5ms/step - loss: 0.5358 - accuracy: 0.6505 - val_loss: 0.5194 - val_accuracy: 0.6585\n",
            "Epoch 51/150\n",
            "163/163 [==============================] - 1s 4ms/step - loss: 0.5396 - accuracy: 0.6369 - val_loss: 0.5291 - val_accuracy: 0.6585\n",
            "Epoch 52/150\n",
            "163/163 [==============================] - 1s 4ms/step - loss: 0.5342 - accuracy: 0.6505 - val_loss: 0.5117 - val_accuracy: 0.6585\n",
            "Epoch 53/150\n",
            "163/163 [==============================] - 1s 5ms/step - loss: 0.5285 - accuracy: 0.6480 - val_loss: 0.5294 - val_accuracy: 0.6585\n",
            "Epoch 54/150\n",
            "163/163 [==============================] - 1s 5ms/step - loss: 0.5420 - accuracy: 0.6400 - val_loss: 0.5173 - val_accuracy: 0.6585\n",
            "Epoch 55/150\n",
            "163/163 [==============================] - 1s 5ms/step - loss: 0.5403 - accuracy: 0.6437 - val_loss: 0.5455 - val_accuracy: 0.6585\n",
            "Epoch 56/150\n",
            "163/163 [==============================] - 1s 4ms/step - loss: 0.5302 - accuracy: 0.6505 - val_loss: 0.5332 - val_accuracy: 0.6585\n",
            "Epoch 57/150\n",
            "163/163 [==============================] - 1s 4ms/step - loss: 0.5309 - accuracy: 0.6505 - val_loss: 0.5100 - val_accuracy: 0.6585\n",
            "Epoch 58/150\n",
            "163/163 [==============================] - 1s 5ms/step - loss: 0.5299 - accuracy: 0.6449 - val_loss: 0.5239 - val_accuracy: 0.6585\n",
            "Epoch 59/150\n",
            "163/163 [==============================] - 1s 4ms/step - loss: 0.5397 - accuracy: 0.6505 - val_loss: 0.5163 - val_accuracy: 0.6585\n",
            "Epoch 60/150\n",
            "163/163 [==============================] - 1s 7ms/step - loss: 0.5336 - accuracy: 0.6382 - val_loss: 0.5091 - val_accuracy: 0.6585\n",
            "Epoch 61/150\n",
            "163/163 [==============================] - 1s 8ms/step - loss: 0.5427 - accuracy: 0.6431 - val_loss: 0.5212 - val_accuracy: 0.6585\n",
            "Epoch 62/150\n",
            "163/163 [==============================] - 1s 6ms/step - loss: 0.5236 - accuracy: 0.6505 - val_loss: 0.5227 - val_accuracy: 0.6585\n",
            "Epoch 63/150\n",
            "163/163 [==============================] - 1s 4ms/step - loss: 0.5352 - accuracy: 0.6400 - val_loss: 0.5319 - val_accuracy: 0.6585\n",
            "Epoch 64/150\n",
            "163/163 [==============================] - 1s 4ms/step - loss: 0.5316 - accuracy: 0.6505 - val_loss: 0.5576 - val_accuracy: 0.6585\n",
            "Epoch 65/150\n",
            "163/163 [==============================] - 1s 5ms/step - loss: 0.5411 - accuracy: 0.6345 - val_loss: 0.5122 - val_accuracy: 0.6585\n",
            "Epoch 66/150\n",
            "163/163 [==============================] - 1s 5ms/step - loss: 0.5320 - accuracy: 0.6431 - val_loss: 0.5186 - val_accuracy: 0.6585\n",
            "Epoch 67/150\n",
            "163/163 [==============================] - 1s 4ms/step - loss: 0.5303 - accuracy: 0.6505 - val_loss: 0.5101 - val_accuracy: 0.6585\n",
            "Epoch 68/150\n",
            "163/163 [==============================] - 1s 5ms/step - loss: 0.5417 - accuracy: 0.6332 - val_loss: 0.5297 - val_accuracy: 0.6585\n",
            "Epoch 69/150\n",
            "163/163 [==============================] - 1s 5ms/step - loss: 0.5309 - accuracy: 0.6505 - val_loss: 0.5115 - val_accuracy: 0.6585\n",
            "Epoch 70/150\n",
            "163/163 [==============================] - 1s 5ms/step - loss: 0.5346 - accuracy: 0.6320 - val_loss: 0.5158 - val_accuracy: 0.6585\n",
            "Epoch 71/150\n",
            "163/163 [==============================] - 1s 5ms/step - loss: 0.5336 - accuracy: 0.6505 - val_loss: 0.5637 - val_accuracy: 0.6585\n",
            "Epoch 72/150\n",
            "163/163 [==============================] - 1s 5ms/step - loss: 0.5412 - accuracy: 0.6505 - val_loss: 0.5181 - val_accuracy: 0.6585\n",
            "Epoch 73/150\n",
            "163/163 [==============================] - 1s 5ms/step - loss: 0.5340 - accuracy: 0.6505 - val_loss: 0.5134 - val_accuracy: 0.6585\n",
            "Epoch 74/150\n",
            "163/163 [==============================] - 1s 4ms/step - loss: 0.5339 - accuracy: 0.6505 - val_loss: 0.5152 - val_accuracy: 0.6585\n",
            "Epoch 75/150\n",
            "163/163 [==============================] - 1s 6ms/step - loss: 0.5415 - accuracy: 0.6505 - val_loss: 0.5114 - val_accuracy: 0.6585\n",
            "Epoch 76/150\n",
            "163/163 [==============================] - 1s 8ms/step - loss: 0.5366 - accuracy: 0.6505 - val_loss: 0.5274 - val_accuracy: 0.6585\n",
            "Epoch 77/150\n",
            "163/163 [==============================] - 1s 7ms/step - loss: 0.5318 - accuracy: 0.6455 - val_loss: 0.5695 - val_accuracy: 0.6585\n",
            "Epoch 78/150\n",
            "163/163 [==============================] - 1s 4ms/step - loss: 0.5526 - accuracy: 0.6105 - val_loss: 0.5938 - val_accuracy: 0.6585\n",
            "Epoch 79/150\n",
            "163/163 [==============================] - 1s 5ms/step - loss: 0.5355 - accuracy: 0.6505 - val_loss: 0.5170 - val_accuracy: 0.6585\n",
            "Epoch 80/150\n",
            "163/163 [==============================] - 1s 4ms/step - loss: 0.5356 - accuracy: 0.6505 - val_loss: 0.5235 - val_accuracy: 0.6585\n",
            "Epoch 81/150\n",
            "163/163 [==============================] - 1s 4ms/step - loss: 0.5368 - accuracy: 0.6505 - val_loss: 0.5230 - val_accuracy: 0.6585\n",
            "Epoch 82/150\n",
            "163/163 [==============================] - 1s 4ms/step - loss: 0.5334 - accuracy: 0.6382 - val_loss: 0.5685 - val_accuracy: 0.6585\n",
            "Epoch 83/150\n",
            "163/163 [==============================] - 1s 4ms/step - loss: 0.5420 - accuracy: 0.6455 - val_loss: 0.5199 - val_accuracy: 0.6585\n",
            "Epoch 84/150\n",
            "163/163 [==============================] - 1s 4ms/step - loss: 0.5355 - accuracy: 0.6505 - val_loss: 0.5344 - val_accuracy: 0.6585\n",
            "Epoch 85/150\n",
            "163/163 [==============================] - 1s 4ms/step - loss: 0.5287 - accuracy: 0.6505 - val_loss: 0.5094 - val_accuracy: 0.6585\n",
            "Epoch 86/150\n",
            "163/163 [==============================] - 1s 5ms/step - loss: 0.5342 - accuracy: 0.6505 - val_loss: 0.5677 - val_accuracy: 0.6585\n",
            "Epoch 87/150\n",
            "163/163 [==============================] - 1s 5ms/step - loss: 0.5355 - accuracy: 0.6505 - val_loss: 0.5097 - val_accuracy: 0.6585\n",
            "Epoch 88/150\n",
            "163/163 [==============================] - 1s 4ms/step - loss: 0.5250 - accuracy: 0.6505 - val_loss: 0.5357 - val_accuracy: 0.6585\n",
            "Epoch 89/150\n",
            "163/163 [==============================] - 1s 4ms/step - loss: 0.5348 - accuracy: 0.6505 - val_loss: 0.5233 - val_accuracy: 0.6585\n",
            "Epoch 90/150\n",
            "163/163 [==============================] - 1s 5ms/step - loss: 0.5287 - accuracy: 0.6431 - val_loss: 0.5143 - val_accuracy: 0.6585\n",
            "Epoch 91/150\n",
            "163/163 [==============================] - 1s 7ms/step - loss: 0.5299 - accuracy: 0.6505 - val_loss: 0.5405 - val_accuracy: 0.6585\n",
            "Epoch 92/150\n",
            "163/163 [==============================] - 1s 8ms/step - loss: 0.5401 - accuracy: 0.6418 - val_loss: 0.5230 - val_accuracy: 0.6585\n",
            "Epoch 93/150\n",
            "163/163 [==============================] - 1s 6ms/step - loss: 0.5419 - accuracy: 0.6345 - val_loss: 0.5284 - val_accuracy: 0.6585\n",
            "Epoch 94/150\n",
            "163/163 [==============================] - 1s 5ms/step - loss: 0.5269 - accuracy: 0.6443 - val_loss: 0.5119 - val_accuracy: 0.6585\n",
            "Epoch 95/150\n",
            "163/163 [==============================] - 1s 4ms/step - loss: 0.5341 - accuracy: 0.6505 - val_loss: 0.5123 - val_accuracy: 0.6585\n",
            "Epoch 96/150\n",
            "163/163 [==============================] - 1s 5ms/step - loss: 0.5329 - accuracy: 0.6505 - val_loss: 0.5103 - val_accuracy: 0.6585\n",
            "Epoch 97/150\n",
            "163/163 [==============================] - 1s 5ms/step - loss: 0.5367 - accuracy: 0.6505 - val_loss: 0.5185 - val_accuracy: 0.6585\n",
            "Epoch 98/150\n",
            "163/163 [==============================] - 1s 5ms/step - loss: 0.5396 - accuracy: 0.6505 - val_loss: 0.5082 - val_accuracy: 0.6585\n",
            "Epoch 99/150\n",
            "163/163 [==============================] - 1s 5ms/step - loss: 0.5384 - accuracy: 0.6455 - val_loss: 0.5232 - val_accuracy: 0.6585\n",
            "Epoch 100/150\n",
            "163/163 [==============================] - 1s 5ms/step - loss: 0.5329 - accuracy: 0.6462 - val_loss: 0.5990 - val_accuracy: 0.2383\n",
            "Epoch 101/150\n",
            "163/163 [==============================] - 1s 5ms/step - loss: 0.5334 - accuracy: 0.6498 - val_loss: 0.5084 - val_accuracy: 0.6585\n",
            "Epoch 102/150\n",
            "163/163 [==============================] - 1s 5ms/step - loss: 0.5269 - accuracy: 0.6511 - val_loss: 0.6064 - val_accuracy: 0.2383\n",
            "Epoch 103/150\n",
            "163/163 [==============================] - 1s 5ms/step - loss: 0.5401 - accuracy: 0.6406 - val_loss: 0.5159 - val_accuracy: 0.6585\n",
            "Epoch 104/150\n",
            "163/163 [==============================] - 1s 4ms/step - loss: 0.5359 - accuracy: 0.6505 - val_loss: 0.5082 - val_accuracy: 0.6585\n",
            "Epoch 105/150\n",
            "163/163 [==============================] - 1s 5ms/step - loss: 0.5331 - accuracy: 0.6418 - val_loss: 0.5152 - val_accuracy: 0.6585\n",
            "Epoch 106/150\n",
            "163/163 [==============================] - 1s 6ms/step - loss: 0.5358 - accuracy: 0.6425 - val_loss: 0.5193 - val_accuracy: 0.6585\n",
            "Epoch 107/150\n",
            "163/163 [==============================] - 1s 8ms/step - loss: 0.5332 - accuracy: 0.6505 - val_loss: 0.5122 - val_accuracy: 0.6585\n",
            "Epoch 108/150\n",
            "163/163 [==============================] - 1s 7ms/step - loss: 0.5443 - accuracy: 0.6468 - val_loss: 0.5627 - val_accuracy: 0.6585\n",
            "Epoch 109/150\n",
            "163/163 [==============================] - 1s 5ms/step - loss: 0.5378 - accuracy: 0.6505 - val_loss: 0.5156 - val_accuracy: 0.6585\n",
            "Epoch 110/150\n",
            "163/163 [==============================] - 1s 4ms/step - loss: 0.5397 - accuracy: 0.6388 - val_loss: 0.5218 - val_accuracy: 0.6585\n",
            "Epoch 111/150\n",
            "163/163 [==============================] - 1s 4ms/step - loss: 0.5373 - accuracy: 0.6505 - val_loss: 0.5285 - val_accuracy: 0.6585\n",
            "Epoch 112/150\n",
            "163/163 [==============================] - 1s 5ms/step - loss: 0.5493 - accuracy: 0.6246 - val_loss: 0.5233 - val_accuracy: 0.6585\n",
            "Epoch 113/150\n",
            "163/163 [==============================] - 1s 4ms/step - loss: 0.5346 - accuracy: 0.6462 - val_loss: 0.5158 - val_accuracy: 0.6585\n",
            "Epoch 114/150\n",
            "163/163 [==============================] - 1s 5ms/step - loss: 0.5295 - accuracy: 0.6505 - val_loss: 0.5621 - val_accuracy: 0.6585\n",
            "Epoch 115/150\n",
            "163/163 [==============================] - 1s 5ms/step - loss: 0.5361 - accuracy: 0.6505 - val_loss: 0.5229 - val_accuracy: 0.6585\n",
            "Epoch 116/150\n",
            "163/163 [==============================] - 1s 5ms/step - loss: 0.5349 - accuracy: 0.6505 - val_loss: 0.5144 - val_accuracy: 0.6585\n",
            "Epoch 117/150\n",
            "163/163 [==============================] - 1s 5ms/step - loss: 0.5419 - accuracy: 0.6351 - val_loss: 0.5223 - val_accuracy: 0.6585\n",
            "Epoch 118/150\n",
            "163/163 [==============================] - 1s 5ms/step - loss: 0.5343 - accuracy: 0.6449 - val_loss: 0.5100 - val_accuracy: 0.6585\n",
            "Epoch 119/150\n",
            "163/163 [==============================] - 1s 4ms/step - loss: 0.5297 - accuracy: 0.6505 - val_loss: 0.5096 - val_accuracy: 0.6585\n",
            "Epoch 120/150\n",
            "163/163 [==============================] - 1s 5ms/step - loss: 0.5433 - accuracy: 0.6425 - val_loss: 0.5122 - val_accuracy: 0.6585\n",
            "Epoch 121/150\n",
            "163/163 [==============================] - 1s 5ms/step - loss: 0.5329 - accuracy: 0.6505 - val_loss: 0.5350 - val_accuracy: 0.6585\n",
            "Epoch 122/150\n",
            "163/163 [==============================] - 1s 8ms/step - loss: 0.5328 - accuracy: 0.6505 - val_loss: 0.5197 - val_accuracy: 0.6585\n",
            "Epoch 123/150\n",
            "163/163 [==============================] - 1s 8ms/step - loss: 0.5394 - accuracy: 0.6382 - val_loss: 0.5245 - val_accuracy: 0.6585\n",
            "Epoch 124/150\n",
            "163/163 [==============================] - 1s 5ms/step - loss: 0.5432 - accuracy: 0.6505 - val_loss: 0.5297 - val_accuracy: 0.6585\n",
            "Epoch 125/150\n",
            "163/163 [==============================] - 1s 5ms/step - loss: 0.5295 - accuracy: 0.6505 - val_loss: 0.5143 - val_accuracy: 0.6585\n",
            "Epoch 126/150\n",
            "163/163 [==============================] - 1s 5ms/step - loss: 0.5386 - accuracy: 0.6505 - val_loss: 0.5134 - val_accuracy: 0.6585\n",
            "Epoch 127/150\n",
            "163/163 [==============================] - 1s 5ms/step - loss: 0.5339 - accuracy: 0.6505 - val_loss: 0.5334 - val_accuracy: 0.6585\n",
            "Epoch 128/150\n",
            "163/163 [==============================] - 1s 5ms/step - loss: 0.5347 - accuracy: 0.6505 - val_loss: 0.5083 - val_accuracy: 0.6585\n",
            "Epoch 129/150\n",
            "163/163 [==============================] - 1s 5ms/step - loss: 0.5355 - accuracy: 0.6505 - val_loss: 0.5233 - val_accuracy: 0.6585\n",
            "Epoch 130/150\n",
            "163/163 [==============================] - 1s 5ms/step - loss: 0.5368 - accuracy: 0.6455 - val_loss: 0.5168 - val_accuracy: 0.6585\n",
            "Epoch 131/150\n",
            "163/163 [==============================] - 1s 5ms/step - loss: 0.5440 - accuracy: 0.6289 - val_loss: 0.5153 - val_accuracy: 0.6585\n",
            "Epoch 132/150\n",
            "163/163 [==============================] - 1s 5ms/step - loss: 0.5378 - accuracy: 0.6351 - val_loss: 0.5130 - val_accuracy: 0.6585\n",
            "Epoch 133/150\n",
            "163/163 [==============================] - 1s 5ms/step - loss: 0.5380 - accuracy: 0.6455 - val_loss: 0.5104 - val_accuracy: 0.6585\n",
            "Epoch 134/150\n",
            "163/163 [==============================] - 1s 5ms/step - loss: 0.5290 - accuracy: 0.6505 - val_loss: 0.5303 - val_accuracy: 0.6585\n",
            "Epoch 135/150\n",
            "163/163 [==============================] - 1s 5ms/step - loss: 0.5294 - accuracy: 0.6505 - val_loss: 0.5259 - val_accuracy: 0.6585\n",
            "Epoch 136/150\n",
            "163/163 [==============================] - 1s 6ms/step - loss: 0.5331 - accuracy: 0.6505 - val_loss: 0.5225 - val_accuracy: 0.6585\n",
            "Epoch 137/150\n",
            "163/163 [==============================] - 1s 7ms/step - loss: 0.5360 - accuracy: 0.6505 - val_loss: 0.5151 - val_accuracy: 0.6585\n",
            "Epoch 138/150\n",
            "163/163 [==============================] - 1s 8ms/step - loss: 0.5430 - accuracy: 0.6406 - val_loss: 0.5474 - val_accuracy: 0.6585\n",
            "Epoch 139/150\n",
            "163/163 [==============================] - 1s 4ms/step - loss: 0.5452 - accuracy: 0.6486 - val_loss: 0.5181 - val_accuracy: 0.6585\n",
            "Epoch 140/150\n",
            "163/163 [==============================] - 1s 5ms/step - loss: 0.5294 - accuracy: 0.6449 - val_loss: 0.5322 - val_accuracy: 0.6585\n",
            "Epoch 141/150\n",
            "163/163 [==============================] - 1s 5ms/step - loss: 0.5289 - accuracy: 0.6505 - val_loss: 0.5280 - val_accuracy: 0.6585\n",
            "Epoch 142/150\n",
            "163/163 [==============================] - 1s 5ms/step - loss: 0.5316 - accuracy: 0.6455 - val_loss: 0.5093 - val_accuracy: 0.6585\n",
            "Epoch 143/150\n",
            "163/163 [==============================] - 1s 5ms/step - loss: 0.5276 - accuracy: 0.6505 - val_loss: 0.5262 - val_accuracy: 0.6585\n",
            "Epoch 144/150\n",
            "163/163 [==============================] - 1s 5ms/step - loss: 0.5348 - accuracy: 0.6505 - val_loss: 0.5121 - val_accuracy: 0.6585\n",
            "Epoch 145/150\n",
            "163/163 [==============================] - 1s 5ms/step - loss: 0.5342 - accuracy: 0.6431 - val_loss: 0.5190 - val_accuracy: 0.6585\n",
            "Epoch 146/150\n",
            "163/163 [==============================] - 1s 5ms/step - loss: 0.5261 - accuracy: 0.6443 - val_loss: 0.5376 - val_accuracy: 0.6585\n",
            "Epoch 147/150\n",
            "163/163 [==============================] - 1s 5ms/step - loss: 0.5310 - accuracy: 0.6505 - val_loss: 0.5167 - val_accuracy: 0.6585\n",
            "Epoch 148/150\n",
            "163/163 [==============================] - 1s 5ms/step - loss: 0.5368 - accuracy: 0.6455 - val_loss: 0.5565 - val_accuracy: 0.6585\n",
            "Epoch 149/150\n",
            "163/163 [==============================] - 1s 5ms/step - loss: 0.5418 - accuracy: 0.6388 - val_loss: 0.5134 - val_accuracy: 0.6585\n",
            "Epoch 150/150\n",
            "163/163 [==============================] - 1s 5ms/step - loss: 0.5354 - accuracy: 0.6505 - val_loss: 0.5108 - val_accuracy: 0.6585\n"
          ]
        },
        {
          "output_type": "display_data",
          "data": {
            "text/plain": [
              "<Figure size 432x288 with 1 Axes>"
            ],
            "image/png": "[encoded data removed]"
          },
          "metadata": {
            "needs_background": "light"
          }
        },
        {
          "output_type": "display_data",
          "data": {
            "text/plain": [
              "<Figure size 432x288 with 1 Axes>"
            ],
            "image/png": "[encoded data removed]"
          },
          "metadata": {
            "needs_background": "light"
          }
        },
        {
          "output_type": "stream",
          "name": "stdout",
          "text": [
            "16/16 [==============================] - 0s 2ms/step - loss: 0.5229 - accuracy: 0.6287\n",
            "Accuracy: 62.87\n"
          ]
        }
      ]
    },
    {
      "cell_type": "code",
      "source": [],
      "metadata": {
        "id": "Yzw1RYEFelPd"
      },
      "execution_count": null,
      "outputs": []
    }
  ]
}